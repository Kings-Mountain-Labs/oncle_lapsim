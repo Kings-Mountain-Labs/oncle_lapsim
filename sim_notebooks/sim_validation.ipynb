{
 "cells": [
  {
   "cell_type": "code",
   "execution_count": null,
   "metadata": {},
   "outputs": [],
   "source": [
    "import sys\n",
    "sys.path.append('../Functions/py_functions/') # This path is so that within each function file, you can import the other function files with relative paths\n",
    "sys.path.append('../') # This path is so that we can import the functions folder from the root directory compared to where this file is\n",
    "from Functions.py_functions.constants import *\n",
    "from Functions.py_functions.multi_sim import MultiSim\n",
    "from Functions.py_functions.car_configuration import Car\n",
    "from Functions.py_functions.gps_importer import *"
   ]
  },
  {
   "cell_type": "code",
   "execution_count": null,
   "metadata": {},
   "outputs": [],
   "source": [
    "track_one = get_Lincoln_2017_AX_track_mixed(50)\n",
    "track_two = get_MIS_2017_AX_1_track(50)\n",
    "track_three = get_MIS_2017_AX_3_track(50)\n",
    "tracks = [track_one, track_two, track_three]\n",
    "# tracks = []\n",
    "v_average = 15\n",
    "mu_corr = 0.65 # mu correction factor, a value of 1 means the road is sandpaper and the actual value should be something lower but im kinda just setting this value to overfit atm\n",
    "target = 0.001"
   ]
  },
  {
   "cell_type": "code",
   "execution_count": null,
   "metadata": {},
   "outputs": [],
   "source": [
    "# here we make a function that generates a car with a given roll stiffness distribution and chassis roll stiffness\n",
    "# the first and second arguments take the values of the first and second sweep variables that you give to run_sim\n",
    "def gen_car_lltd(bins, k_c):\n",
    "    car = Car()\n",
    "    car.vel_bins = bins\n",
    "    car.k_c = k_c * FTLB_TO_NM\n",
    "    car.description = f\"bins:{bins:.2f} k_c:{k_c:.2f}\"\n",
    "    return car\n",
    "# do a sweep of roll stiffness distribution and chassis roll stiffness\n",
    "bins_range = [2, 3, 5, 7, 10, 15, 20, 25]\n",
    "k_c_r = np.array([1000]) #np.linspace(500, 2500, 15) # \n",
    "sim = MultiSim(tracks, gen_car_lltd, bins_range, k_c_r, \"number of bins\", \"Chassis Roll Stiffness (lbf/deg)\")"
   ]
  },
  {
   "cell_type": "code",
   "execution_count": null,
   "metadata": {},
   "outputs": [],
   "source": [
    "sim.run_sim(convergence_target=target, mu=mu_corr)\n",
    "sim.plot_tracks()\n",
    "sim.plot_LAS_corners()\n",
    "sim.plot_LLTD()"
   ]
  },
  {
   "cell_type": "code",
   "execution_count": null,
   "metadata": {},
   "outputs": [],
   "source": []
  }
 ],
 "metadata": {
  "kernelspec": {
   "display_name": ".venv",
   "language": "python",
   "name": "python3"
  },
  "language_info": {
   "codemirror_mode": {
    "name": "ipython",
    "version": 3
   },
   "file_extension": ".py",
   "mimetype": "text/x-python",
   "name": "python",
   "nbconvert_exporter": "python",
   "pygments_lexer": "ipython3",
   "version": "3.11.3"
  },
  "orig_nbformat": 4
 },
 "nbformat": 4,
 "nbformat_minor": 2
}
