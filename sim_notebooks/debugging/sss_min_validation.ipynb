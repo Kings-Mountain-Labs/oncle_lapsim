{
 "cells": [
  {
   "cell_type": "code",
   "execution_count": null,
   "metadata": {},
   "outputs": [],
   "source": [
    "from toolkit.common.constants import *\n",
    "from toolkit.steady_state_solver import LS_Solver, Steady_State_Solver, Parachute, Iterative_Solver\n",
    "from toolkit.cars.car_configuration import Car\n",
    "from toolkit.mmd import MMD\n",
    "import numpy as np\n",
    "import plotly.graph_objects as go\n",
    "import plotly.express as px\n",
    "import rerun as rr"
   ]
  },
  {
   "cell_type": "code",
   "execution_count": null,
   "metadata": {},
   "outputs": [],
   "source": [
    "# Attempt the minimization solver and see under what conditions it works, using a MMD\n",
    "v_avg = 20\n",
    "max_beta = 30\n",
    "max_delta = 30\n",
    "size = 8\n",
    "use_lin = True\n",
    "car = Car()\n",
    "solver = LS_Solver()\n",
    "# solver = Iterative_Solver()\n",
    "mmd = MMD(car, solver=solver)\n",
    "mmd.mmd_sweep(v_avg, lin_space=use_lin, max_beta=max_beta, max_delta=max_delta, size=size, mu=0.65, long_g=0)\n"
   ]
  },
  {
   "cell_type": "code",
   "execution_count": null,
   "metadata": {},
   "outputs": [],
   "source": [
    "mmd.plot_mmd(pub=True, show_bad=False)"
   ]
  },
  {
   "cell_type": "code",
   "execution_count": null,
   "metadata": {},
   "outputs": [],
   "source": [
    "mmd.plot_mmd(show_bad=True)"
   ]
  },
  {
   "cell_type": "code",
   "execution_count": null,
   "metadata": {},
   "outputs": [],
   "source": [
    "mmd.plot_ay()\n",
    "mmd.plot_ax()\n",
    "mmd.plot_yaw()\n",
    "mmd.plot_solve_iters()\n",
    "mmd.plot_valid()"
   ]
  },
  {
   "cell_type": "code",
   "execution_count": null,
   "metadata": {},
   "outputs": [],
   "source": []
  }
 ],
 "metadata": {
  "kernelspec": {
   "display_name": ".venv",
   "language": "python",
   "name": "python3"
  },
  "language_info": {
   "codemirror_mode": {
    "name": "ipython",
    "version": 3
   },
   "file_extension": ".py",
   "mimetype": "text/x-python",
   "name": "python",
   "nbconvert_exporter": "python",
   "pygments_lexer": "ipython3",
   "version": "3.11.9"
  }
 },
 "nbformat": 4,
 "nbformat_minor": 2
}
