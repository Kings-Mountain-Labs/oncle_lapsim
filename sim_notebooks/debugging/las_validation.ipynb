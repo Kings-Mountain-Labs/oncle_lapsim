{
 "cells": [
  {
   "cell_type": "code",
   "execution_count": null,
   "metadata": {},
   "outputs": [],
   "source": [
    "from toolkit.cars.car_configuration import Car\n",
    "from toolkit.las_solvers import Octahedral_LAS, Multi_Layer_LAS, LAS\n",
    "from toolkit.cars.previous_cars import sr_9\n",
    "from toolkit.steady_state_solver import LS_Solver, Parachute, Iterative_Solver\n",
    "import numpy as np\n",
    "import plotly.graph_objects as go\n",
    "import plotly.express as px\n",
    "import rerun as rr"
   ]
  },
  {
   "cell_type": "code",
   "execution_count": null,
   "metadata": {},
   "outputs": [],
   "source": [
    "# We shall generate a series of LAS at the vel bins and plot them in rerun\n",
    "car = Car()\n",
    "solver = LS_Solver()\n",
    "las = Multi_Layer_LAS(solver=solver)\n",
    "# las = Octahedral_LAS()\n",
    "vel_bins = 20\n",
    "rr.init(\"las viewer\", spawn=True)\n",
    "las.generate_las(car, vel_bins=vel_bins, mu=0.65, quiet=False)\n",
    "for i, vel in enumerate(las.vels):\n",
    "    rr.set_time_sequence(\"velocity\", i)\n",
    "    rr.log(f\"Velocity\", rr.TextLog(f\"{vel:.3f}\"))\n",
    "    verts, triangles = las.get_xyzijk(vel)\n",
    "    # make a set of colors for each vertex that are random but seeded, so that every color index is always the same, all colors should be pastels\n",
    "    colors = np.zeros([verts.shape[0], 3])\n",
    "    np.random.seed(42)\n",
    "    for i in range(verts.shape[0]):\n",
    "        colors[i] = np.random.rand(3)\n",
    "\n",
    "    rr.log(\n",
    "        f\"LAS\",\n",
    "        rr.Mesh3D(\n",
    "            vertex_positions=verts,\n",
    "            triangle_indices=triangles,\n",
    "            vertex_colors=colors,\n",
    "        )\n",
    "    )"
   ]
  },
  {
   "cell_type": "code",
   "execution_count": null,
   "metadata": {},
   "outputs": [],
   "source": []
  }
 ],
 "metadata": {
  "kernelspec": {
   "display_name": ".venv",
   "language": "python",
   "name": "python3"
  },
  "language_info": {
   "codemirror_mode": {
    "name": "ipython",
    "version": 3
   },
   "file_extension": ".py",
   "mimetype": "text/x-python",
   "name": "python",
   "nbconvert_exporter": "python",
   "pygments_lexer": "ipython3",
   "version": "3.11.9"
  }
 },
 "nbformat": 4,
 "nbformat_minor": 2
}
