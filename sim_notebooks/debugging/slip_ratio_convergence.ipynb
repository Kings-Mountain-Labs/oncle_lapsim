{
 "cells": [
  {
   "cell_type": "code",
   "execution_count": null,
   "metadata": {},
   "outputs": [],
   "source": [
    "from toolkit.common.constants import *\n",
    "from toolkit.steady_state_solver import LS_Solver, Steady_State_Solver, Parachute, Iterative_Solver\n",
    "from toolkit.cars.car_configuration import Car\n",
    "from toolkit.mmd import MMD\n",
    "import numpy as np\n",
    "import plotly.graph_objects as go\n",
    "import plotly.express as px\n",
    "import rerun as rr"
   ]
  },
  {
   "cell_type": "code",
   "execution_count": null,
   "metadata": {},
   "outputs": [],
   "source": [
    "car = Car()\n",
    "car.fast_mf = None"
   ]
  },
  {
   "cell_type": "code",
   "execution_count": null,
   "metadata": {},
   "outputs": [],
   "source": [
    "fx_datum = 200\n",
    "fz_datum = 600\n",
    "\n",
    "dfx = 1e-6\n",
    "dfz = 1e-6\n",
    "\n",
    "fx = np.linspace(fx_datum - dfx, fx_datum + dfx, 100)\n",
    "fz = np.linspace(fz_datum - dfz, fz_datum + dfz, 100)\n",
    "\n",
    "\n",
    "kappas = np.zeros((len(fx), len(fz)))\n",
    "fx_actual = np.zeros((len(fx), len(fz)))\n",
    "fx2_actual = np.zeros((len(fx), len(fz)))\n",
    "fy_actual = np.zeros((len(fx), len(fz)))\n",
    "mx_actual = np.zeros((len(fx), len(fz)))\n",
    "mz_actual = np.zeros((len(fx), len(fz)))\n",
    "gxa0_actual = np.zeros((len(fx), len(fz)))\n",
    "gxa_actual = np.zeros((len(fx), len(fz)))\n",
    "\n",
    "for i, fx_i in enumerate(fx):\n",
    "    for j, fz_i in enumerate(fz):\n",
    "        kappas[i, j], _, fx_actual[i, j] = car.s_r(fz_i, 0.0, 15, fx_i)\n",
    "        fy_actual[i, j], fx2_actual[i, j], mz_actual[i, j], gxa_actual[i, j], gxa0_actual[i, j] = car.mf_tire.steady_state_more(fz_i, 0.0, kappas[i, j])"
   ]
  },
  {
   "cell_type": "code",
   "execution_count": null,
   "metadata": {},
   "outputs": [],
   "source": [
    "fig = go.Figure()\n",
    "fig.add_trace(go.Heatmap(z=kappas, x=fz, y=fx, colorscale='Viridis'))\n",
    "fig.update_layout(title='target_kappa', width=1600, height=1600)\n",
    "fig.show()"
   ]
  },
  {
   "cell_type": "code",
   "execution_count": null,
   "metadata": {},
   "outputs": [],
   "source": [
    "fig = go.Figure()\n",
    "fig.add_trace(go.Heatmap(z=fx_actual, x=fz, y=fx, colorscale='Viridis'))\n",
    "fig.update_layout(title='fx_actual', width=1600, height=1600)\n",
    "fig.show()\n",
    "fig = go.Figure()\n",
    "fig.add_trace(go.Heatmap(z=fx2_actual, x=fz, y=fx, colorscale='Viridis'))\n",
    "fig.update_layout(title='fx2_actual', width=1600, height=1600)\n",
    "fig.show()\n",
    "fig = go.Figure()\n",
    "fig.add_trace(go.Heatmap(z=fy_actual, x=fz, y=fx, colorscale='Viridis'))\n",
    "fig.update_layout(title='fy_actual', width=1600, height=1600)\n",
    "fig.show()\n",
    "fig = go.Figure()\n",
    "fig.add_trace(go.Heatmap(z=gxa0_actual, x=fz, y=fx, colorscale='Viridis'))\n",
    "fig.update_layout(title='gxa0_actual', width=1600, height=1600)\n",
    "fig.show()\n",
    "fig = go.Figure()\n",
    "fig.add_trace(go.Heatmap(z=gxa_actual, x=fz, y=fx, colorscale='Viridis'))\n",
    "fig.update_layout(title='gxa_actual', width=1600, height=1600)\n",
    "fig.show()"
   ]
  },
  {
   "cell_type": "code",
   "execution_count": null,
   "metadata": {},
   "outputs": [],
   "source": []
  }
 ],
 "metadata": {
  "kernelspec": {
   "display_name": ".venv",
   "language": "python",
   "name": "python3"
  },
  "language_info": {
   "codemirror_mode": {
    "name": "ipython",
    "version": 3
   },
   "file_extension": ".py",
   "mimetype": "text/x-python",
   "name": "python",
   "nbconvert_exporter": "python",
   "pygments_lexer": "ipython3",
   "version": "3.13.1"
  }
 },
 "nbformat": 4,
 "nbformat_minor": 2
}
