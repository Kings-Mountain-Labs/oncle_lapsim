{
 "cells": [
  {
   "cell_type": "code",
   "execution_count": null,
   "metadata": {},
   "outputs": [],
   "source": [
    "import numpy as np\n",
    "import sys\n",
    "import os\n",
    "import plotly.graph_objects as go\n",
    "import plotly.express as px\n",
    "from toolkit.common.constants import *\n",
    "from toolkit.cars.car_configuration import Car\n",
    "from toolkit.lap.gps import *\n",
    "from toolkit.mmd import MMD\n",
    "from toolkit.steady_state_solver.ls_optimize import LS_Solver\n",
    "from toolkit.steady_state_solver.iterative import Iterative_Solver\n",
    "from toolkit.steady_state_solver.parachute import Parachute\n",
    "from toolkit.common.maths import sa_lut\n",
    "\n",
    "def generate_and_plot(params):\n",
    "    print(\"Starting...\")\n",
    "    car = Car(front_ackermann = \"nonlinear\", camber_type = \"combined\", aero_type=\"simple\")\n",
    "    \n",
    "    car.front_track = params[0] \n",
    "    car.rear_track = params[1]\n",
    "    \n",
    "    car.set_lltd()\n",
    "    car.update_car()\n",
    "    solver = Iterative_Solver()\n",
    "    mmd = MMD(car, solver=solver, name=f\"TW_F={twf:.2f} TW_R={twr:.2f}\")\n",
    "    mmd.mmd_sweep(v_avg, lin_space=use_lin, max_beta=max_beta, max_delta=max_delta, size=size, mu=0.65, long_g=val)\n",
    "    mmd.plot_mmd(pub=True, lat=3, use_name=True, save_html=True)\n",
    "    return mmd.name"
   ]
  },
  {
   "cell_type": "code",
   "execution_count": null,
   "metadata": {},
   "outputs": [],
   "source": [
    "v_avg = 10\n",
    "max_beta = 30\n",
    "max_delta = 30\n",
    "size = 30\n",
    "use_lin = True\n",
    "\n",
    "fz = 100\n",
    "kappa = 0\n",
    "i_a = np.deg2rad(0)\n",
    "mu_corr = 0.65\n",
    "\n",
    "# omega = np.deg2rad(0)\n",
    "beta = np.deg2rad(0)\n",
    "\n",
    "#delta_FL = np.deg2rad(10)\n",
    "delta_FL = 0\n",
    "delta_FR = delta_FL\n",
    "delta_RL = 0\n",
    "delta_RR = 0"
   ]
  },
  {
   "cell_type": "code",
   "execution_count": null,
   "metadata": {},
   "outputs": [],
   "source": [
    "# Test slip angle\n",
    "# sas = np.deg2rad(np.linspace(-10, 10, 5))\n",
    "# tires = np.linspace(np.deg2rad(-6), np.deg2rad(6), 9)\n",
    "# deltas = np.linspace(np.deg2rad(-6), np.deg2rad(6), 5)\n",
    "omegas = np.linspace(np.deg2rad(0), np.deg2rad(11), 5)\n",
    "\n",
    "# Make a default car\n",
    "car = Car()\n",
    "\n",
    "d = np.deg2rad(1.0)\n",
    "\n",
    "for omega in omegas:\n",
    "    print(np.rad2deg(omega))\n",
    "    # calc slip angles\n",
    "    delta = [d, d, 0, 0]\n",
    "    tires = car.calculate_slip_angles(v_avg, omega, beta, delta[0], delta[1], delta[2], delta[3])\n",
    "    # [safl, safr, sarl, sarr]\n",
    "    # start with 0 for steer angle\n",
    "    for i, tire_sa in enumerate(tires):\n",
    "        fy, fx, m = car.steady_state_mmd(fz, tire_sa, kappa, v_avg, i_a, delta[i], mu = mu_corr, flip_s_a = False)\n",
    "        # print(f\"Slip Angle: {np.rad2deg(sa):.2f}\")\n",
    "        print(f\"Slip Angle: {tire_sa}\")\n",
    "        print(\"Fy: {:.2f}, Fx: {:.2f}, M: {:.2f}\".format(fy, fx, m))"
   ]
  }
 ],
 "metadata": {
  "kernelspec": {
   "display_name": ".venv",
   "language": "python",
   "name": "python3"
  },
  "language_info": {
   "codemirror_mode": {
    "name": "ipython",
    "version": 3
   },
   "file_extension": ".py",
   "mimetype": "text/x-python",
   "name": "python",
   "nbconvert_exporter": "python",
   "pygments_lexer": "ipython3",
   "version": "3.13.2"
  }
 },
 "nbformat": 4,
 "nbformat_minor": 2
}
