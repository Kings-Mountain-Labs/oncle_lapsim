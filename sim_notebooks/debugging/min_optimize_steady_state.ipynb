{
 "cells": [
  {
   "cell_type": "code",
   "execution_count": null,
   "metadata": {},
   "outputs": [],
   "source": [
    "import numpy as np\n",
    "import plotly.graph_objects as go\n",
    "import plotly.express as px\n",
    "from toolkit.common.constants import *\n",
    "from toolkit.cars.car_configuration import Car\n",
    "from toolkit.lap.track import *\n",
    "from toolkit.mmd import MMD\n",
    "from toolkit.steady_state_solver import LS_Solver, Min_Solver, Iterative_Solver, Parachute\n",
    "from toolkit.steady_state_solver.min_optimize import backup_loss_func"
   ]
  },
  {
   "cell_type": "code",
   "execution_count": null,
   "metadata": {},
   "outputs": [],
   "source": [
    "v_avg = 15\n",
    "max_beta = 30\n",
    "max_delta = 30\n",
    "size = 30\n",
    "use_lin = True"
   ]
  },
  {
   "cell_type": "code",
   "execution_count": null,
   "metadata": {},
   "outputs": [],
   "source": [
    "# car = Car()\n",
    "rsd = 0.25\n",
    "total_roll_stiffness = 900 * FTLB_TO_NM\n",
    "car = Car(front_axle_weight=0.4725)\n",
    "car.z_f = 0.13 * IN_TO_M\n",
    "car.z_r = 1.0 * IN_TO_M\n",
    "car.cdA = 1.33\n",
    "car.clA = 3.43\n",
    "car.cg_height=10.7*IN_TO_M\n",
    "car.front_axle_downforce = 0.48\n",
    "car.k_f = total_roll_stiffness * rsd\n",
    "car.k_r = total_roll_stiffness * (1-rsd)\n",
    "car.k_c = 1000000\n",
    "# car.diff_model = \"locked\"\n",
    "car.update_car()\n",
    "car.set_lltd()\n",
    "# car.fast_mf = None\n",
    "# solver = LS_Solver()\n",
    "solver = Min_Solver()\n",
    "# solver = Iterative_Solver()\n",
    "# solver = Parachute()"
   ]
  },
  {
   "cell_type": "code",
   "execution_count": null,
   "metadata": {},
   "outputs": [],
   "source": [
    "long_g = 0.0\n",
    "delta_x = 1.0\n",
    "beta_x = 1.0\n",
    "mu_corr = 0.65"
   ]
  },
  {
   "cell_type": "code",
   "execution_count": null,
   "metadata": {},
   "outputs": [],
   "source": [
    "yaw_it, cn_it = 0.0, 0.0\n",
    "drag = 0\n",
    "max_f, max_r = car.max_front_brake_torque / -car.mf_tire.UNLOADED_RADIUS, car.max_rear_brake_torque / -car.mf_tire.UNLOADED_RADIUS\n",
    "\n",
    "max_tractive_force = car.find_tractive_force(vel=v_avg, use_aero=False)\n",
    "drag = 0.5 * 1.225 * v_avg**2 * car.cd * car.A\n",
    "\n",
    "args = (car, long_g, v_avg, delta_x, beta_x, mu_corr, drag, max_f, max_r, max_tractive_force)"
   ]
  },
  {
   "cell_type": "code",
   "execution_count": null,
   "metadata": {},
   "outputs": [],
   "source": [
    "lat_acc_range = np.linspace(-30, 30, 100)\n",
    "fx_range = np.linspace(2*(max_f + max_r) - drag, max_tractive_force, 100)"
   ]
  },
  {
   "cell_type": "code",
   "execution_count": null,
   "metadata": {},
   "outputs": [],
   "source": [
    "lat_acc_center = 2.1545\n",
    "fx_center = 287.6\n",
    "lat_acc_spread = 0.001\n",
    "fx_spread = 10\n",
    "lat_acc_range = np.linspace(lat_acc_center - lat_acc_spread, lat_acc_center + lat_acc_spread, 100)\n",
    "fx_range = np.linspace(fx_center - fx_spread, fx_center + fx_spread, 100)"
   ]
  },
  {
   "cell_type": "code",
   "execution_count": null,
   "metadata": {},
   "outputs": [],
   "source": [
    "\n",
    "\n",
    "error = np.zeros([len(lat_acc_range), len(fx_range)])\n",
    "ay_error = np.zeros([len(lat_acc_range), len(fx_range)])\n",
    "long_error = np.zeros([len(lat_acc_range), len(fx_range)])\n",
    "for i, lat_acc in enumerate(lat_acc_range):\n",
    "    for j, fx in enumerate(fx_range):\n",
    "        error[i, j] = backup_loss_func([lat_acc, fx], car, v_avg, long_g, np.deg2rad(delta_x), np.deg2rad(beta_x), mu_corr, drag, max_f, max_r, max_tractive_force) # ay_error[i, j], long_error[i, j]"
   ]
  },
  {
   "cell_type": "code",
   "execution_count": null,
   "metadata": {},
   "outputs": [],
   "source": [
    "# plot the error heatmap\n",
    "fig = go.Figure()\n",
    "fig.add_trace(go.Heatmap(z=error, x=fx_range, y=lat_acc_range, colorscale='Viridis'))\n",
    "fig.update_layout(title='Error Heatmap', width=800, height=800)\n",
    "fig.show()"
   ]
  },
  {
   "cell_type": "code",
   "execution_count": null,
   "metadata": {},
   "outputs": [],
   "source": [
    "fig = go.Figure()\n",
    "fig.add_trace(go.Heatmap(z=ay_error, x=fx_range, y=lat_acc_range, colorscale='Viridis'))\n",
    "fig.update_layout(title='Error Heatmap', width=800, height=800)\n",
    "fig.show()"
   ]
  },
  {
   "cell_type": "code",
   "execution_count": null,
   "metadata": {},
   "outputs": [],
   "source": [
    "fig = go.Figure()\n",
    "fig.add_trace(go.Heatmap(z=long_error, x=fx_range, y=lat_acc_range, colorscale='Viridis'))\n",
    "fig.update_layout(title='Error Heatmap', width=800, height=800)\n",
    "fig.show()"
   ]
  },
  {
   "cell_type": "code",
   "execution_count": null,
   "metadata": {},
   "outputs": [],
   "source": []
  }
 ],
 "metadata": {
  "kernelspec": {
   "display_name": ".venv",
   "language": "python",
   "name": "python3"
  },
  "language_info": {
   "codemirror_mode": {
    "name": "ipython",
    "version": 3
   },
   "file_extension": ".py",
   "mimetype": "text/x-python",
   "name": "python",
   "nbconvert_exporter": "python",
   "pygments_lexer": "ipython3",
   "version": "3.13.1"
  }
 },
 "nbformat": 4,
 "nbformat_minor": 2
}
