{
 "cells": [
  {
   "cell_type": "code",
   "execution_count": null,
   "metadata": {},
   "outputs": [],
   "source": [
    "import numpy as np\n",
    "import plotly.graph_objects as go\n",
    "import plotly.express as px\n",
    "from plotly.subplots import make_subplots\n",
    "from scipy.ndimage import uniform_filter1d, gaussian_filter1d\n",
    "from toolkit.common.constants import *\n",
    "from toolkit.lapsim.lap_sims import RunSim\n",
    "from toolkit.cars.car_configuration import Car\n",
    "from toolkit.lap.tracks import *\n",
    "\n",
    "from toolkit.cars import sr_9\n",
    "from toolkit.las_solvers import Octahedral_LAS, Multi_Layer_LAS, LAS\n",
    "from toolkit.steady_state_solver import LS_Solver, Parachute, Iterative_Solver\n",
    "from toolkit.tire_model.tire_model_utils import * # this has the tire models"
   ]
  },
  {
   "cell_type": "code",
   "execution_count": null,
   "metadata": {},
   "outputs": [],
   "source": [
    "# import a track you want to run\n",
    "track = get_MIS_2017_AX_3_track(50)\n",
    "# track = get_Crows_2022(50)"
   ]
  },
  {
   "cell_type": "code",
   "execution_count": null,
   "metadata": {},
   "outputs": [],
   "source": [
    "# import SR9 for instance\n",
    "car = Car()\n",
    "# car = sr_9()\n",
    "car.set_tire(H_R20_18X6_7)\n",
    "# solver = LS_Solver()\n",
    "solver = Iterative_Solver()\n",
    "# las = Octahedral_LAS(solver=solver)\n",
    "las = Multi_Layer_LAS(solver=solver)\n",
    "las.add_layers = 3\n",
    "# car.debug = True"
   ]
  },
  {
   "cell_type": "code",
   "execution_count": null,
   "metadata": {},
   "outputs": [],
   "source": [
    "# set some settings\n",
    "# car.debug = True\n",
    "v_average = 15\n",
    "mu = 0.65 # mu correction factor, a value of 1 means the road is sandpaper and the actual value should be something lower but im kinda just setting this value to overfit atm\n",
    "target = 0.0001"
   ]
  },
  {
   "cell_type": "code",
   "execution_count": null,
   "metadata": {},
   "outputs": [],
   "source": [
    "# make the simulation object\n",
    "sim = RunSim(track, car, las)"
   ]
  },
  {
   "cell_type": "code",
   "execution_count": null,
   "metadata": {},
   "outputs": [],
   "source": [
    "# run the simulation\n",
    "sim.simulate(sim_type='qts', v_average=v_average, mu=mu, convergence_target=target, bins=20)"
   ]
  },
  {
   "cell_type": "code",
   "execution_count": null,
   "metadata": {},
   "outputs": [],
   "source": [
    "sim.plot_vs(distance=True, delta_beta_est=False, fz=False, separate_angles=True, yaw_acc=True, separate_acc=True, power_draw=False)"
   ]
  },
  {
   "cell_type": "code",
   "execution_count": null,
   "metadata": {},
   "outputs": [],
   "source": [
    "fig = go.Figure()\n",
    "# plot the count of the number of times each point was solved\n",
    "fig.add_trace(go.Scatter(x=np.arange(len(sim.count)), y=sim.count, mode='lines', marker=dict(size=2, color='red')))\n",
    "fig.update_layout(template=\"plotly_dark\", title_text=\"Number of Points Solved\")\n",
    "fig.show()\n"
   ]
  },
  {
   "cell_type": "code",
   "execution_count": null,
   "metadata": {},
   "outputs": [],
   "source": [
    "# plot velocity and track curvature against the time gap\n",
    "fig = make_subplots(rows=3, cols=2)\n",
    "fig.add_trace(go.Scatter(x=sim.vel, y=sim.dt_dx, name='Velocity'), row=1, col=1)\n",
    "fig.add_trace(go.Scatter(x=sim.track.k, y=np.interp(sim.track.u, sim.track.u_crit, sim.dt_dx), name='Curvature'), row=1, col=2)\n",
    "fig.add_trace(go.Scatter(x=sim.lat, y=sim.dt_dx, name='Velocity'), row=2, col=1)\n",
    "fig.add_trace(go.Scatter(x=sim.omega_dot, y=sim.dt_dx, name='Velocity'), row=2, col=2)\n",
    "fig.add_trace(go.Scatter(x=sim.lon, y=sim.dt_dx, name='Velocity'), row=3, col=1)\n",
    "fig.add_trace(go.Scatter(x=sim.omega, y=sim.dt_dx, name='Velocity'), row=3, col=2)\n",
    "fig.update_layout(template=\"plotly_dark\", title_text=\"Hi\")\n",
    "fig.show()\n",
    "fig2 = go.Figure()\n",
    "fig2.add_trace(go.Scatter(x=np.interp(sim.track.u_crit, sim.track.u, sim.track.K_prime)[2:], y=sim.vel[2:], mode='markers', marker={'color': np.abs(sim.dt_dx[2:])}, name='Velocity'))\n",
    "fig2.update_layout(template=\"plotly_dark\", title_text=\"Happy little christmas tree\")\n",
    "fig2.show()"
   ]
  },
  {
   "cell_type": "code",
   "execution_count": null,
   "metadata": {},
   "outputs": [],
   "source": [
    "a, b, c, d, e = sim.track.interp_dist, sim.track.u_crit, sim.track.u, sim.track.spa, sim.track.ls_dist\n",
    "fig = make_subplots(rows=1, shared_xaxes=True, vertical_spacing=0.02)\n",
    "fig.add_trace(go.Scatter(x=c, y=-sim.track.real_beta, mode='lines', name=\"Beta Angle\", legendgroup=f\"group113\", showlegend=True), row=1, col=1)\n",
    "fig.add_trace(go.Scatter(x=b, y=sim.beta_est, mode='lines', name=\"Beta Angle Sim\", legendgroup=f\"group163\", showlegend=True), row=1, col=1)\n",
    "filtered_beta = gaussian_filter1d(sim.beta_est, 2.5)\n",
    "fig.add_trace(go.Scatter(x=b, y=filtered_beta, mode='lines', name=\"Beta Angle Sim\", legendgroup=f\"group162\", showlegend=True), row=1, col=1)\n",
    "# fig.add_trace(go.Scatter(x=c, y=sim.track.k, mode='lines', name=\"Beta Angle Sim\", legendgroup=f\"group164\", showlegend=True), row=1, col=1)\n",
    "fig.show()\n",
    "# abs average error\n",
    "np.mean(np.abs(filtered_beta - sim.track.real_beta))\n",
    "# as a percent of real\n",
    "np.mean(np.abs(filtered_beta - sim.track.real_beta)) / np.mean(np.abs(sim.track.real_beta))\n",
    "# rms error as a percent of real\n",
    "# np.sqrt(np.mean((filtered_beta - sim.track.real_beta) ** 2)) / np.mean(sim.track.real_beta)"
   ]
  },
  {
   "cell_type": "code",
   "execution_count": null,
   "metadata": {},
   "outputs": [],
   "source": [
    "from scipy.optimize import least_squares\n",
    "vp = []\n",
    "def cost(x, car, valid_points, ax_target, ay_target, yaw_target, v_avg):\n",
    "    ay_it, cn_it, yaw_it, ax_it, bruh_it, _ = car.solve_for_long(v_avg, ax_target, delta_x=np.deg2rad(x[0]), beta_x=np.deg2rad(x[1]), use_drag=True, mu_corr=mu) # , ay_it=ay_target, zeros=False\n",
    "    valid_points.append([x[0], x[1], ay_it * G, yaw_it, ax_it * G, v_avg])\n",
    "    return np.array([abs(ay_it - ay_target), abs(yaw_it - yaw_target), abs(ax_it - ax_target)])\n",
    "good_delta, good_beta = [], []\n",
    "maxi = 300\n",
    "beta_max = 25\n",
    "delta_max = 15\n",
    "goods = np.array([0, 0])\n",
    "for i in range(0, maxi):\n",
    "    # goods = np.array([sim.delta_est[i], sim.beta_est[i]])\n",
    "    ax_t, ay_t, yaw_t, v_avg = sim.long[i] / G, sim.lat[i] / G, sim.omega_dot[i], sim.vel[i]\n",
    "    sol = least_squares(cost, goods, args=(car, vp, ax_t, ay_t, yaw_t, v_avg,), bounds=((-delta_max, -beta_max), (delta_max, beta_max)), jac='2-point', verbose=0)\n",
    "    # print(sol.x)\n",
    "    # print(cost(sol.x, car, vp, ax_t, ay_t, yaw_t, v_avg))\n",
    "    good_delta.append(sol.x[0])\n",
    "    good_beta.append(sol.x[1])\n",
    "    goods = np.array(sol.x)\n",
    "\n",
    "from plotly.subplots import make_subplots\n",
    "fig = make_subplots(rows=2, shared_xaxes=True, vertical_spacing=0.02)\n",
    "fig.add_trace(go.Scatter(x=sim.track.u, y=sim.track.real_beta, mode='lines', name=\"Beta Angle\", legendgroup=f\"group113\", showlegend=True), row=1, col=1)\n",
    "fig.add_trace(go.Scatter(x=sim.track.u_crit[:maxi], y=good_beta, mode='lines', name=\"Beta Angle Sim\", legendgroup=f\"group163\", showlegend=True), row=1, col=1)\n",
    "fig.add_trace(go.Scatter(x=b, y=filtered_beta, mode='lines', name=\"Beta Angle Sim Filtered\", legendgroup=f\"group162\", showlegend=True), row=1, col=1)\n",
    "fig.add_trace(go.Scatter(x=sim.track.u_crit, y=sim.delta_est, mode='lines', name=\"Delta Angle Sim Est\", legendgroup=f\"group143\", showlegend=True), row=2, col=1)\n",
    "fig.add_trace(go.Scatter(x=sim.track.u_crit[:maxi], y=good_delta, mode='lines', name=\"Delta Angle Sim\", legendgroup=f\"group123\", showlegend=True), row=2, col=1)\n",
    "fig.show()\n",
    "\n",
    "# plot delta and beta tested\n",
    "valids = np.array(vp)\n",
    "# fig = make_subplots(rows=1, shared_xaxes=True, vertical_spacing=0.02)\n",
    "# fig.add_trace(go.Scatter(x=valids[:, 0], y=valids[:, 1], mode='markers', name=\"Beta Angle\", legendgroup=f\"group113\", showlegend=True), row=1, col=1)\n",
    "# fig.show()\n",
    "\n",
    "# plot ay and yaw for tested points\n",
    "fig = make_subplots(rows=1, shared_xaxes=True, vertical_spacing=0.02)\n",
    "fig.add_trace(go.Scatter(x=valids[:, 2], y=valids[:, 3], mode='markers', name=\"Beta Angle\", legendgroup=f\"group113\", showlegend=True), row=1, col=1)\n",
    "fig.add_trace(go.Scatter(x=sim.lat[:maxi], y=sim.omega_dot[:maxi], mode='markers', name=\"Real\", legendgroup=f\"group163\", showlegend=True), row=1, col=1)\n",
    "fig.show()"
   ]
  },
  {
   "cell_type": "code",
   "execution_count": null,
   "metadata": {},
   "outputs": [],
   "source": [
    "angle_corr = uniform_filter1d(sim.track.real_angle_raw - np.deg2rad(np.interp(sim.track.spa, sim.track.u, sim.track.angle)), 1000)\n",
    "real_angle = sim.track.real_angle_raw - angle_corr # this should probably be a gaussian filter\n",
    "real_beta = np.interp(sim.track.u, sim.track.spa, np.rad2deg(real_angle)) - sim.track.angle\n",
    "fig = go.Figure()\n",
    "fig.add_trace(go.Scatter(x=sim.track.u, y=real_beta, mode='lines', name=\"Beta Angle\", showlegend=True))\n",
    "fig.add_trace(go.Scatter(x=sim.track.spa, y=np.rad2deg(angle_corr), mode='lines', name=\"angle_corr\", showlegend=True))\n",
    "fig.add_trace(go.Scatter(x=sim.track.spa, y=np.rad2deg(real_angle), mode='lines', name=\"real_angle\", showlegend=True))\n",
    "fig.add_trace(go.Scatter(x=sim.track.spa, y=np.rad2deg(sim.track.real_angle_raw), mode='lines', name=\"real_angle_raw\", showlegend=True))\n",
    "fig.add_trace(go.Scatter(x=sim.track.u, y=sim.track.angle, mode='lines', name=\"angle\", showlegend=True))\n",
    "fig.show()"
   ]
  },
  {
   "cell_type": "code",
   "execution_count": null,
   "metadata": {},
   "outputs": [],
   "source": [
    "sim.plot_mmd3d()"
   ]
  },
  {
   "cell_type": "code",
   "execution_count": null,
   "metadata": {},
   "outputs": [],
   "source": [
    "sim.plot_gg_vel()"
   ]
  },
  {
   "cell_type": "code",
   "execution_count": null,
   "metadata": {},
   "outputs": [],
   "source": [
    "sim.plot_mmd_vel()"
   ]
  },
  {
   "cell_type": "code",
   "execution_count": null,
   "metadata": {},
   "outputs": [],
   "source": [
    "sim.map_plot()"
   ]
  },
  {
   "cell_type": "code",
   "execution_count": null,
   "metadata": {},
   "outputs": [],
   "source": [
    "px.set_mapbox_access_token(open(\".mapbox_token\").read())\n",
    "fig = px.scatter_mapbox(lat=sim.track.lat_ss, lon=sim.track.lon_ss, color=np.abs(sim.track.real_beta), color_continuous_scale=px.colors.cyclical.IceFire, size_max=15, zoom=10)\n",
    "fig.show()"
   ]
  },
  {
   "cell_type": "code",
   "execution_count": null,
   "metadata": {},
   "outputs": [],
   "source": [
    "px.set_mapbox_access_token(open(\".mapbox_token\").read())\n",
    "fig = px.scatter_mapbox(lat=sim.track.lat_ss, lon=sim.track.lon_ss, color=sim.omega, color_continuous_scale=px.colors.cyclical.IceFire, size_max=15, zoom=10)\n",
    "fig.show()"
   ]
  },
  {
   "cell_type": "code",
   "execution_count": null,
   "metadata": {},
   "outputs": [],
   "source": [
    "px.set_mapbox_access_token(open(\".mapbox_token\").read())\n",
    "fig = px.scatter_mapbox(lat=sim.track.lat_ss, lon=sim.track.lon_ss, color=sim.track.k, color_continuous_scale=px.colors.cyclical.IceFire, size_max=15, zoom=10)\n",
    "fig.show()"
   ]
  },
  {
   "cell_type": "code",
   "execution_count": null,
   "metadata": {},
   "outputs": [],
   "source": [
    "px.set_mapbox_access_token(open(\".mapbox_token\").read())\n",
    "fig = px.scatter_mapbox(lat=sim.track.lat_ss, lon=sim.track.lon_ss, color=sim.track.u, color_continuous_scale=px.colors.cyclical.IceFire, size_max=15, zoom=10)\n",
    "fig.show()"
   ]
  },
  {
   "cell_type": "code",
   "execution_count": null,
   "metadata": {},
   "outputs": [],
   "source": [
    "px.set_mapbox_access_token(open(\".mapbox_token\").read())\n",
    "fig = px.scatter_mapbox(lat=sim.track.lat_ss, lon=sim.track.lon_ss, color=sim.track.angle, color_continuous_scale=px.colors.cyclical.IceFire, size_max=15, zoom=10)\n",
    "fig.show()"
   ]
  },
  {
   "cell_type": "code",
   "execution_count": null,
   "metadata": {},
   "outputs": [],
   "source": [
    "# plot the results, this plots them all together but you can also plot them individually\n",
    "sim.plot()"
   ]
  },
  {
   "cell_type": "code",
   "execution_count": null,
   "metadata": {},
   "outputs": [],
   "source": [
    "print(sim.car.vels)"
   ]
  },
  {
   "cell_type": "code",
   "execution_count": null,
   "metadata": {},
   "outputs": [],
   "source": [
    "print(sim.car.vps)"
   ]
  },
  {
   "cell_type": "code",
   "execution_count": null,
   "metadata": {},
   "outputs": [],
   "source": [
    "sim.plot_LAS_lims()"
   ]
  },
  {
   "cell_type": "code",
   "execution_count": null,
   "metadata": {},
   "outputs": [],
   "source": [
    "sim.plot_convergence()"
   ]
  }
 ],
 "metadata": {
  "kernelspec": {
   "display_name": ".venv",
   "language": "python",
   "name": "python3"
  },
  "language_info": {
   "codemirror_mode": {
    "name": "ipython",
    "version": 3
   },
   "file_extension": ".py",
   "mimetype": "text/x-python",
   "name": "python",
   "nbconvert_exporter": "python",
   "pygments_lexer": "ipython3",
   "version": "3.13.2"
  },
  "orig_nbformat": 4,
  "vscode": {
   "interpreter": {
    "hash": "a40ddc490a6ab3d8d5c36ac4a91310ba012979717884fb4180c23af057abbc60"
   }
  }
 },
 "nbformat": 4,
 "nbformat_minor": 2
}
