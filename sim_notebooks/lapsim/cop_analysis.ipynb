{
 "cells": [
  {
   "cell_type": "code",
   "execution_count": null,
   "metadata": {},
   "outputs": [],
   "source": [
    "from toolkit.common.constants import *\n",
    "from toolkit.lapsim.multi_sim import MultiSim\n",
    "from toolkit.cars.car_configuration import Car\n",
    "from toolkit.lap.gps_importer import *\n",
    "from toolkit.las_solvers import Octahedral_LAS, Multi_Layer_LAS, LAS\n",
    "from toolkit.steady_state_solver import LS_Solver, Parachute"
   ]
  },
  {
   "cell_type": "code",
   "execution_count": null,
   "metadata": {},
   "outputs": [],
   "source": [
    "tracks = []\n",
    "# tracks = []\n",
    "v_average = 15\n",
    "mu_corr = 0.65 # mu correction factor, a value of 1 means the road is sandpaper and the actual value should be something lower but im kinda just setting this value to overfit atm\n",
    "target = 0.001\n",
    "solver = Parachute()\n",
    "las = Octahedral_LAS(solver=solver)"
   ]
  },
  {
   "cell_type": "code",
   "execution_count": null,
   "metadata": {},
   "outputs": [],
   "source": [
    "# here we make a function that generates a car with a given roll stiffness distribution and chassis roll stiffness\n",
    "# the first and second arguments take the values of the first and second sweep variables that you give to run_sim\n",
    "def gen_car_lltd(cop, cg):\n",
    "    total_roll_stiffness = 700 * FTLB_TO_NM\n",
    "    car = Car(front_axle_weight=cg)\n",
    "    rsd = 0.5\n",
    "    car.k_f = total_roll_stiffness * rsd\n",
    "    car.k_r = total_roll_stiffness * (1-rsd)\n",
    "    car.k_c = 14000 * FTLB_TO_NM\n",
    "    car.front_axle_downforce = cop\n",
    "    car.description = f\"CoP:{cop:.2f} CG:{cg:.2f}\"\n",
    "    return car\n",
    "# do a sweep of roll stiffness distribution and chassis roll stiffness\n",
    "cop_range = np.linspace(0.35, 0.55, 10)\n",
    "cg_r = np.geomspace(0.35, 0.55, 10)\n",
    "sim = MultiSim(tracks, gen_car_lltd, cop_range, cg_r, f\"CoP (% Front)\", f\"CG (% Front)\")"
   ]
  },
  {
   "cell_type": "code",
   "execution_count": null,
   "metadata": {},
   "outputs": [],
   "source": [
    "sim.run_sim(las=las)\n",
    "sim.plot_LAS_corners()\n",
    "sim.plot_LLTD()"
   ]
  },
  {
   "cell_type": "code",
   "execution_count": null,
   "metadata": {},
   "outputs": [],
   "source": [
    "# plot velocity vs limit residual torque for each car\n",
    "import plotly.graph_objects as go\n",
    "fig = go.Figure()\n",
    "for las, car in zip(sim.new_las, sim.new_cars):\n",
    "    fig.add_trace(go.Scatter(x=las.vels, y=las.aymax[:, 2]*car.izz, name=f\"CoP:{car.front_axle_downforce:.2f} CG:{car.front_axle_weight:.2f}\"))\n",
    "fig.update_layout(title=\"Velocity vs Limit Residual Torque\", xaxis_title=\"Velocity (m/s)\", yaxis_title=\"Limit Residual Torque (Nm)\")\n",
    "fig.show()"
   ]
  },
  {
   "cell_type": "code",
   "execution_count": null,
   "metadata": {},
   "outputs": [],
   "source": []
  }
 ],
 "metadata": {
  "kernelspec": {
   "display_name": ".venv",
   "language": "python",
   "name": "python3"
  },
  "language_info": {
   "codemirror_mode": {
    "name": "ipython",
    "version": 3
   },
   "file_extension": ".py",
   "mimetype": "text/x-python",
   "name": "python",
   "nbconvert_exporter": "python",
   "pygments_lexer": "ipython3",
   "version": "3.11.9"
  },
  "orig_nbformat": 4
 },
 "nbformat": 4,
 "nbformat_minor": 2
}
