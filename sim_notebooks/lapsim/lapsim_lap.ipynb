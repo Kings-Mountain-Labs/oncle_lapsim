{
 "cells": [
  {
   "cell_type": "code",
   "execution_count": null,
   "metadata": {},
   "outputs": [],
   "source": [
    "import plotly.express as px\n",
    "from toolkit.common.constants import *\n",
    "from toolkit.lapsim.lap_sims import RunSim\n",
    "from toolkit.cars.car_configuration import Car\n",
    "from toolkit.lap.tracks import *\n",
    "from toolkit.cars import sr_9\n",
    "from toolkit.las_solvers import Octahedral_LAS, Multi_Layer_LAS, LAS\n",
    "from toolkit.steady_state_solver import LS_Solver, Parachute, Iterative_Solver\n",
    "from toolkit.tire_model.tire_model_utils import * # this has the tire models"
   ]
  },
  {
   "cell_type": "code",
   "execution_count": null,
   "metadata": {},
   "outputs": [],
   "source": [
    "# import a track you want to run\n",
    "track = get_MIS_2017_AX_3_track(50)"
   ]
  },
  {
   "cell_type": "code",
   "execution_count": null,
   "metadata": {},
   "outputs": [],
   "source": [
    "track"
   ]
  },
  {
   "cell_type": "code",
   "execution_count": null,
   "metadata": {},
   "outputs": [],
   "source": [
    "# import SR9 for instance\n",
    "car = Car()\n",
    "# car = sr_9()\n",
    "car.set_tire(H_R20_18X6_7)\n",
    "# solver = LS_Solver()\n",
    "solver = Iterative_Solver()\n",
    "# las = Octahedral_LAS(solver=solver)\n",
    "las = Multi_Layer_LAS(solver=solver)\n",
    "las.add_layers = 2\n",
    "# car.debug = True"
   ]
  },
  {
   "cell_type": "code",
   "execution_count": null,
   "metadata": {},
   "outputs": [],
   "source": [
    "# set some settings\n",
    "# car.debug = True\n",
    "v_average = 15\n",
    "mu = 0.65 # mu correction factor, a value of 1 means the road is sandpaper and the actual value should be something lower but im kinda just setting this value to overfit atm\n",
    "target = 0.001"
   ]
  },
  {
   "cell_type": "code",
   "execution_count": null,
   "metadata": {},
   "outputs": [],
   "source": [
    "# make the simulation object\n",
    "sim = RunSim(track, car, las)"
   ]
  },
  {
   "cell_type": "code",
   "execution_count": null,
   "metadata": {},
   "outputs": [],
   "source": [
    "# run the simulation\n",
    "# sim.simulate(sim_type='qts', v_average=v_average, mu=mu, convergence_target=target, bins = 10)\n",
    "sim.simulate(sim_type='qss', v_average=v_average, mu=mu, convergence_target=target, bins = 10)\n",
    "# sim.use_beta_init = True"
   ]
  },
  {
   "cell_type": "code",
   "execution_count": null,
   "metadata": {},
   "outputs": [],
   "source": [
    "sim.plot_vs(distance=True, fz=True, separate_angles=True, yaw_acc=True, separate_acc=True, power_draw=False, weight_transfer=True, angles=True, curvature=True)"
   ]
  },
  {
   "cell_type": "code",
   "execution_count": null,
   "metadata": {},
   "outputs": [],
   "source": [
    "sim.plot_vs_vel()"
   ]
  },
  {
   "cell_type": "code",
   "execution_count": null,
   "metadata": {},
   "outputs": [],
   "source": [
    "sim.plot_LAS_lims()"
   ]
  },
  {
   "cell_type": "code",
   "execution_count": null,
   "metadata": {},
   "outputs": [],
   "source": [
    "sim.plot_mmd3d()"
   ]
  },
  {
   "cell_type": "code",
   "execution_count": null,
   "metadata": {},
   "outputs": [],
   "source": [
    "sim.plot_gg_vel()"
   ]
  },
  {
   "cell_type": "code",
   "execution_count": null,
   "metadata": {},
   "outputs": [],
   "source": [
    "sim.plot_mmd_vel()"
   ]
  },
  {
   "cell_type": "code",
   "execution_count": null,
   "metadata": {},
   "outputs": [],
   "source": [
    "sim.map_plot()"
   ]
  },
  {
   "cell_type": "code",
   "execution_count": null,
   "metadata": {},
   "outputs": [],
   "source": [
    "sim.plot_convergence()"
   ]
  },
  {
   "cell_type": "code",
   "execution_count": null,
   "metadata": {},
   "outputs": [],
   "source": [
    "px.set_mapbox_access_token(open(\".mapbox_token\").read())\n",
    "fig = px.scatter_mapbox(lat=sim.track.lat_ss, lon=sim.track.lon_ss, color=np.abs(sim.track.real_beta), color_continuous_scale=px.colors.cyclical.IceFire, size_max=15, zoom=10)\n",
    "fig.show()"
   ]
  },
  {
   "cell_type": "code",
   "execution_count": null,
   "metadata": {},
   "outputs": [],
   "source": [
    "px.set_mapbox_access_token(open(\".mapbox_token\").read())\n",
    "fig = px.scatter_mapbox(lat=sim.track.lat_ss, lon=sim.track.lon_ss, color=sim.omega, color_continuous_scale=px.colors.cyclical.IceFire, size_max=15, zoom=10)\n",
    "fig.show()"
   ]
  },
  {
   "cell_type": "code",
   "execution_count": null,
   "metadata": {},
   "outputs": [],
   "source": [
    "px.set_mapbox_access_token(open(\".mapbox_token\").read())\n",
    "fig = px.scatter_mapbox(lat=sim.track.lat_ss, lon=sim.track.lon_ss, color=sim.track.k, color_continuous_scale=px.colors.cyclical.IceFire, size_max=15, zoom=10)\n",
    "fig.show()"
   ]
  },
  {
   "cell_type": "code",
   "execution_count": null,
   "metadata": {},
   "outputs": [],
   "source": [
    "px.set_mapbox_access_token(open(\".mapbox_token\").read())\n",
    "fig = px.scatter_mapbox(lat=sim.track.lat_ss, lon=sim.track.lon_ss, color=sim.track.u, color_continuous_scale=px.colors.cyclical.IceFire, size_max=15, zoom=10)\n",
    "fig.show()"
   ]
  },
  {
   "cell_type": "code",
   "execution_count": null,
   "metadata": {},
   "outputs": [],
   "source": [
    "px.set_mapbox_access_token(open(\".mapbox_token\").read())\n",
    "fig = px.scatter_mapbox(lat=sim.track.lat_ss, lon=sim.track.lon_ss, color=sim.track.angle, color_continuous_scale=px.colors.cyclical.IceFire, size_max=15, zoom=10)\n",
    "fig.show()"
   ]
  },
  {
   "cell_type": "code",
   "execution_count": null,
   "metadata": {},
   "outputs": [],
   "source": [
    "# plot the results, this plots them all together but you can also plot them individually\n",
    "sim.plot()"
   ]
  },
  {
   "cell_type": "code",
   "execution_count": null,
   "metadata": {},
   "outputs": [],
   "source": [
    "print(sim.car.vels)"
   ]
  },
  {
   "cell_type": "code",
   "execution_count": null,
   "metadata": {},
   "outputs": [],
   "source": [
    "print(sim.car.vps)"
   ]
  },
  {
   "cell_type": "code",
   "execution_count": null,
   "metadata": {},
   "outputs": [],
   "source": [
    "print(track.start_time)\n",
    "print(track.raw_time)\n",
    "print(track.gps_offset)\n",
    "print(track.raw_track[\"GPS_Latitude\"][\"Time\"])\n",
    "print(track.raw_track[\"GPS_Longitude\"][\"Time\"])\n",
    "print(track.raw_track[\"VCU_WSS_FR_S\"][\"Time\"])"
   ]
  },
  {
   "cell_type": "code",
   "execution_count": null,
   "metadata": {},
   "outputs": [],
   "source": [
    "for key in track.raw_track.keys():\n",
    "    print(key)"
   ]
  }
 ],
 "metadata": {
  "kernelspec": {
   "display_name": ".venv",
   "language": "python",
   "name": "python3"
  },
  "language_info": {
   "codemirror_mode": {
    "name": "ipython",
    "version": 3
   },
   "file_extension": ".py",
   "mimetype": "text/x-python",
   "name": "python",
   "nbconvert_exporter": "python",
   "pygments_lexer": "ipython3",
   "version": "3.13.2"
  },
  "orig_nbformat": 4,
  "vscode": {
   "interpreter": {
    "hash": "a40ddc490a6ab3d8d5c36ac4a91310ba012979717884fb4180c23af057abbc60"
   }
  }
 },
 "nbformat": 4,
 "nbformat_minor": 2
}
