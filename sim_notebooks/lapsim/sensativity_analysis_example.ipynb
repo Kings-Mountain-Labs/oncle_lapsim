{
 "cells": [
  {
   "cell_type": "code",
   "execution_count": null,
   "metadata": {},
   "outputs": [],
   "source": [
    "from toolkit.common.constants import *\n",
    "from toolkit.lapsim.multi_sim import MultiSim\n",
    "from toolkit.cars.car_configuration import Car\n",
    "from toolkit.lap.tracks import *\n",
    "from toolkit.las_solvers import Octahedral_LAS, Multi_Layer_LAS, LAS\n",
    "from toolkit.steady_state_solver import LS_Solver, Parachute, Iterative_Solver"
   ]
  },
  {
   "cell_type": "code",
   "execution_count": null,
   "metadata": {},
   "outputs": [],
   "source": [
    "track_one = get_Lincoln_2017_AX_track_mixed(50)\n",
    "track_two = get_MIS_2017_AX_1_track(50)\n",
    "track_three = get_MIS_2017_AX_3_track(50)\n",
    "tracks = [track_one, track_two, track_three]\n",
    "# tracks = []\n",
    "v_average = 15\n",
    "mu_corr = 0.65 # mu correction factor, a value of 1 means the road is sandpaper and the actual value should be something lower but im kinda just setting this value to overfit atm\n",
    "target = 0.001\n",
    "# solver = LS_Solver()\n",
    "solver = Iterative_Solver()\n",
    "# las = Octahedral_LAS(solver=solver)\n",
    "las = Multi_Layer_LAS(solver=solver)"
   ]
  },
  {
   "cell_type": "code",
   "execution_count": null,
   "metadata": {},
   "outputs": [],
   "source": [
    "# here we make a function that generates a car with a given roll stiffness distribution and chassis roll stiffness\n",
    "# the first and second arguments take the values of the first and second sweep variables that you give to run_sim\n",
    "def gen_car_lltd(rsd, k_c):\n",
    "    total_roll_stiffness = 900 * FTLB_TO_NM\n",
    "    car = Car()\n",
    "    car.k_f = total_roll_stiffness * rsd\n",
    "    car.k_r = total_roll_stiffness * (1-rsd)\n",
    "    car.k_c = k_c * FTLB_TO_NM\n",
    "    car.description = f\"rsd:{rsd:.2f} k_c:{k_c:.2f}\"\n",
    "    return car\n",
    "# do a sweep of roll stiffness distribution and chassis roll stiffness\n",
    "rsd_range = np.linspace(0.25, 0.5, 5)\n",
    "k_c_r = np.linspace(500, 2500, 5) # np.array([1000]) #\n",
    "sim = MultiSim(tracks, gen_car_lltd, rsd_range, k_c_r, \"Roll Stiffness Distribution\", \"Chassis Roll Stiffness (lbf/deg)\")"
   ]
  },
  {
   "cell_type": "code",
   "execution_count": null,
   "metadata": {},
   "outputs": [],
   "source": [
    "def gen_car_cg(rsd, cg):\n",
    "    total_roll_stiffness = 600 * FTLB_TO_NM\n",
    "    car = Car(front_axle_weight=cg)\n",
    "    car.k_f = total_roll_stiffness * rsd\n",
    "    car.k_r = total_roll_stiffness * (1-rsd)\n",
    "    car.description = f\"rsd:{rsd:.2f} cg placement:{cg:.2f}\"\n",
    "    return car\n",
    "rsd_range = np.linspace(0.2, 0.4, 12)\n",
    "cg_r = np.linspace(0.4, 0.6, 12)\n",
    "sim = MultiSim(tracks, gen_car_cg, rsd_range, cg_r, \"Roll Stiffness Distribution\", \"cg placement percent front\")"
   ]
  },
  {
   "cell_type": "code",
   "execution_count": null,
   "metadata": {},
   "outputs": [],
   "source": [
    "def gen_car_mass(rsd, mass):\n",
    "    total_roll_stiffness = 600 * FTLB_TO_NM\n",
    "    car = Car(mass=mass)\n",
    "    car.k_f = total_roll_stiffness * rsd\n",
    "    car.k_r = total_roll_stiffness * (1-rsd)\n",
    "    car.description = f\"rsd:{rsd:.2f} mass:{mass:.2f}\"\n",
    "    car.update_car()\n",
    "    return car\n",
    "rsd_range = np.linspace(0.35, 0.6, 12)\n",
    "mass_r = np.linspace(200, 300, 5)\n",
    "sim = MultiSim(tracks, gen_car_mass, rsd_range, mass_r, \"Roll Stiffness Distribution\", \"Mass (kg)\")"
   ]
  },
  {
   "cell_type": "code",
   "execution_count": null,
   "metadata": {},
   "outputs": [],
   "source": [
    "def gen_car_toe(f_toe, r_toe):\n",
    "    car = Car()\n",
    "    car.toe_front = f_toe\n",
    "    car.toe_rear = r_toe\n",
    "    car.description = f\"f_toe:{car.toe_front:.2f} r_toe:{car.toe_rear:.2f}\"\n",
    "    return car\n",
    "f_toe_r = np.linspace(-10, 5, 20)\n",
    "r_toe_r = np.linspace(-6, 6, 20)\n",
    "sim = MultiSim(tracks, gen_car_toe, f_toe_r, r_toe_r, \"Front Toe (deg)\", \"Rear Toe (deg)\")"
   ]
  },
  {
   "cell_type": "code",
   "execution_count": null,
   "metadata": {},
   "outputs": [],
   "source": [
    "# here we make a function that generates a car with a given roll stiffness distribution and chassis roll stiffness\n",
    "# the first and second arguments take the values of the first and second sweep variables that you give to run_sim\n",
    "def gen_car_rtw(rsd, rtw):\n",
    "    total_roll_stiffness = 900 * FTLB_TO_NM\n",
    "    car = Car()\n",
    "    car.k_f = total_roll_stiffness * rsd\n",
    "    car.k_r = total_roll_stiffness * (1-rsd)\n",
    "    car.rear_track = rtw * IN_TO_M\n",
    "    car.description = f\"rsd:{rsd:.2f} k_c:{rtw:.2f}\"\n",
    "    return car\n",
    "# do a sweep of roll stiffness distribution and chassis roll stiffness\n",
    "rsd_range = np.linspace(0.25, 0.5, 10)\n",
    "rtw_r = np.linspace(46, 50, 5) # np.array([1000]) #\n",
    "sim = MultiSim(tracks, gen_car_rtw, rsd_range, rtw_r, \"Roll Stiffness Distribution\", \"Rear Track Width (in)\")"
   ]
  },
  {
   "cell_type": "code",
   "execution_count": null,
   "metadata": {},
   "outputs": [],
   "source": [
    "\n",
    "sim.run_sim(las=las, convergence_target=target, mu=mu_corr, sim_type='qts')\n",
    "sim.plot_tracks()\n",
    "sim.plot_LAS_corners()\n",
    "sim.plot_LLTD()"
   ]
  },
  {
   "cell_type": "code",
   "execution_count": null,
   "metadata": {},
   "outputs": [],
   "source": [
    "sim.run_skidpad(sr_lim=0.2)\n",
    "sim.plot_skidpad()"
   ]
  }
 ],
 "metadata": {
  "kernelspec": {
   "display_name": ".venv",
   "language": "python",
   "name": "python3"
  },
  "language_info": {
   "codemirror_mode": {
    "name": "ipython",
    "version": 3
   },
   "file_extension": ".py",
   "mimetype": "text/x-python",
   "name": "python",
   "nbconvert_exporter": "python",
   "pygments_lexer": "ipython3",
   "version": "3.11.9"
  },
  "orig_nbformat": 4,
  "vscode": {
   "interpreter": {
    "hash": "a40ddc490a6ab3d8d5c36ac4a91310ba012979717884fb4180c23af057abbc60"
   }
  }
 },
 "nbformat": 4,
 "nbformat_minor": 2
}
