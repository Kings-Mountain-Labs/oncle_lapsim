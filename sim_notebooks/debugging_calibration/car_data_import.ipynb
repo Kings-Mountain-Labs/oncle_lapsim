{
 "cells": [
  {
   "cell_type": "code",
   "execution_count": null,
   "metadata": {},
   "outputs": [],
   "source": [
    "from toolkit.lap.track import *\n",
    "from toolkit.lap.channels import *\n",
    "from toolkit.lap.gps import *\n",
    "from toolkit.lap.tracks import *\n",
    "import numpy as np\n",
    "import plotly.graph_objects as go\n",
    "import plotly.express as px\n",
    "import rerun as rr\n"
   ]
  },
  {
   "cell_type": "code",
   "execution_count": null,
   "metadata": {},
   "outputs": [],
   "source": [
    "track = get_MIS_2017_track(50)"
   ]
  },
  {
   "cell_type": "code",
   "execution_count": null,
   "metadata": {},
   "outputs": [],
   "source": [
    "def display_track(a_track: Track):\n",
    "    rr.init(\"log viewer\", spawn=True)\n",
    "    for name in WELL_KNOWN_KEYS:\n",
    "        time, data, p_name = a_track.get_channel(name)\n",
    "        rr.send_columns(\n",
    "            name,\n",
    "            times=[rr.TimeSecondsColumn(\"step\", time), rr.TimeSecondsColumn(\"dist\", a_track.get_ch_dist(name))],\n",
    "            components=[rr.components.ScalarBatch(data)]\n",
    "        )\n",
    "    rr.log(\"track\", rr.LineStrips2D(a_track.smooth_gps.get_2d_track(enu=True), radii=0.002, colors=[0, 255, 255, 255]), timeless=True)\n",
    "    rr.send_columns(\n",
    "        \"gps\",\n",
    "        times=[rr.TimeSecondsColumn(\"step\", a_track.smooth_gps.time), rr.TimeSecondsColumn(\"dist\", a_track.smooth_gps.dist)],\n",
    "        components=[rr.Points2D.indicator(),\n",
    "        rr.components.Position2DBatch(a_track.smooth_gps.get_2d_track(enu=True)),]\n",
    "    )\n"
   ]
  },
  {
   "cell_type": "code",
   "execution_count": null,
   "metadata": {},
   "outputs": [],
   "source": [
    "display_track(track)"
   ]
  },
  {
   "cell_type": "code",
   "execution_count": null,
   "metadata": {},
   "outputs": [],
   "source": []
  }
 ],
 "metadata": {
  "kernelspec": {
   "display_name": ".venv",
   "language": "python",
   "name": "python3"
  },
  "language_info": {
   "codemirror_mode": {
    "name": "ipython",
    "version": 3
   },
   "file_extension": ".py",
   "mimetype": "text/x-python",
   "name": "python",
   "nbconvert_exporter": "python",
   "pygments_lexer": "ipython3",
   "version": "3.11.9"
  }
 },
 "nbformat": 4,
 "nbformat_minor": 2
}
