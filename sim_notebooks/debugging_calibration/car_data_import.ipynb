{
 "cells": [
  {
   "cell_type": "code",
   "execution_count": null,
   "metadata": {},
   "outputs": [],
   "source": [
    "from toolkit.lap.track import *\n",
    "from toolkit.lap.channels import *\n",
    "from toolkit.lap.gps import *\n",
    "import numpy as np\n",
    "import plotly.graph_objects as go\n",
    "import plotly.express as px\n",
    "import rerun as rr\n"
   ]
  },
  {
   "cell_type": "code",
   "execution_count": null,
   "metadata": {},
   "outputs": [],
   "source": [
    "raw_track = load_track_from_mat('./data/lap_data/2017_Lincoln_Autocross_Bobby_2.mat')\n",
    "data_dict = parse_car_data_mat(raw_track)\n",
    "track_gps = gps_from_channels(data_dict[\"GPS_Latitude\"], data_dict[\"GPS_Longitude\"], data_dict[\"GPS_Altitude\"], data_dict[\"GPS_Time\"])\n",
    "data_dict[\"__gps_vel\"] = unit_conversion(data_dict[\"GPS_Speed\"], \"m/s\", 1/MS_TO_MPH)\n",
    "data_dict[\"__ws_fl\"] = unit_conversion(data_dict[\"Wheel_Speed_FL\"], \"m/s\", 1/MS_TO_MPH, \"Wheel Speed FL\", \"WS_FL\")\n",
    "data_dict[\"__ws_fr\"] = unit_conversion(data_dict[\"Wheel_Speed_FR\"], \"m/s\", 1/MS_TO_MPH, \"Wheel Speed FR\", \"WS_FR\")\n",
    "data_dict[\"__ws_rl\"] = unit_conversion(data_dict[\"Wheel_Speed_RL\"], \"m/s\", 1/MS_TO_MPH, \"Wheel Speed RL\", \"WS_RL\")\n",
    "data_dict[\"__ws_rr\"] = unit_conversion(data_dict[\"Wheel_Speed_RR\"], \"m/s\", 1/MS_TO_MPH, \"Wheel Speed RR\", \"WS_RR\")\n",
    "mr = 1.5\n",
    "data_dict[\"__nl_fl\"] = unit_conversion(data_dict[\"Load_Cell__Force_FL\"], \"N\", LB_TO_KG * G / mr, \"Normal Load Force FL\", \"NL_FL\")\n",
    "data_dict[\"__nl_fr\"] = unit_conversion(data_dict[\"Load_Cell_Force_FR\"], \"N\", LB_TO_KG * G / mr, \"Normal Load Force FR\", \"NL_FR\")\n",
    "data_dict[\"__nl_rl\"] = unit_conversion(data_dict[\"Load_Cell_Force_RL\"], \"N\", LB_TO_KG * G * -1 / mr, \"Normal Load Force RL\", \"NL_RL\")\n",
    "data_dict[\"__nl_rr\"] = unit_conversion(data_dict[\"Load_Cell_Force_RR\"], \"N\", LB_TO_KG * G * -1 / mr, \"Normal Load Force RR\", \"NL_RR\")\n",
    "data_dict[\"__steering_angle\"] = deg2rad_chan(data_dict[\"Steering_Wheel_Angle\"])\n",
    "data_dict[\"__acc_x\"] = data_dict[\"G_Force_Lat\"]\n",
    "data_dict[\"__acc_y\"] = data_dict[\"G_Force_Vert\"]\n",
    "data_dict[\"__acc_y\"].data += -1\n",
    "data_dict[\"__acc_z\"] = data_dict[\"G_Force_Long\"]\n",
    "data_dict[\"__gyro_x\"] = deg2rad_chan(data_dict[\"Vehicle_Yaw_Rate\"])\n",
    "data_dict[\"__yacc\"] = derivative_chan(data_dict[\"__gyro_x\"], \"Yaw Acceleration\", \"__yacc\", \"rad/s^2\", 20)\n",
    "track = Track(track_gps, data_dict, 50, 0.95)"
   ]
  },
  {
   "cell_type": "code",
   "execution_count": null,
   "metadata": {},
   "outputs": [],
   "source": [
    "data_dict.keys()"
   ]
  },
  {
   "cell_type": "code",
   "execution_count": null,
   "metadata": {},
   "outputs": [],
   "source": [
    "data_dict[\"IMU_Angular_Rate_X\"].unit"
   ]
  },
  {
   "cell_type": "code",
   "execution_count": null,
   "metadata": {},
   "outputs": [],
   "source": [
    "def display_track(a_track):\n",
    "    rr.init(\"log viewer\", spawn=True)\n",
    "    for name in WELL_KNOWN_KEYS:\n",
    "        time, data, p_name = a_track.get_channel(name)\n",
    "        rr.send_columns(\n",
    "            name,\n",
    "            times=[rr.TimeSecondsColumn(\"step\", time), rr.TimeSecondsColumn(\"dist\", a_track.get_ch_dist(name))],\n",
    "            components=[rr.components.ScalarBatch(data)]\n",
    "        )\n",
    "    rr.log(\"track\", rr.LineStrips2D(a_track.smooth_gps.get_2d_track(enu=True), radii=0.002, colors=[0, 255, 255, 255]), timeless=True)\n",
    "    rr.send_columns(\n",
    "        \"gps\",\n",
    "        times=[rr.TimeSecondsColumn(\"step\", a_track.smooth_gps.time), rr.TimeSecondsColumn(\"dist\", a_track.smooth_gps.dist)],\n",
    "        components=[rr.Points2D.indicator(),\n",
    "        rr.components.Position2DBatch(a_track.smooth_gps.get_2d_track(enu=True)),]\n",
    "    )\n"
   ]
  },
  {
   "cell_type": "code",
   "execution_count": null,
   "metadata": {},
   "outputs": [],
   "source": [
    "display_track(track)"
   ]
  },
  {
   "cell_type": "code",
   "execution_count": null,
   "metadata": {},
   "outputs": [],
   "source": []
  }
 ],
 "metadata": {
  "kernelspec": {
   "display_name": ".venv",
   "language": "python",
   "name": "python3"
  },
  "language_info": {
   "codemirror_mode": {
    "name": "ipython",
    "version": 3
   },
   "file_extension": ".py",
   "mimetype": "text/x-python",
   "name": "python",
   "nbconvert_exporter": "python",
   "pygments_lexer": "ipython3",
   "version": "3.11.9"
  }
 },
 "nbformat": 4,
 "nbformat_minor": 2
}
