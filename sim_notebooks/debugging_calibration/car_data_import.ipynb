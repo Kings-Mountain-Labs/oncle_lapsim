{
 "cells": [
  {
   "cell_type": "code",
   "execution_count": null,
   "metadata": {},
   "outputs": [],
   "source": [
    "from toolkit.lap.track import *\n",
    "from toolkit.lap.channels import *\n",
    "from toolkit.lap.gps import *\n",
    "import numpy as np\n",
    "import plotly.graph_objects as go\n",
    "import plotly.express as px\n"
   ]
  },
  {
   "cell_type": "code",
   "execution_count": null,
   "metadata": {},
   "outputs": [],
   "source": [
    "raw_track = load_track_from_mat('./data/lap_data/2017_Michigan_Endurance_First4Laps.mat')\n",
    "data_dict = parse_car_data_mat(raw_track)\n",
    "track_gps = gps_from_channels(data_dict[\"GPS_Latitude\"], data_dict[\"GPS_Longitude\"], data_dict[\"GPS_Altitude\"], data_dict[\"GPS_Time\"])"
   ]
  },
  {
   "cell_type": "code",
   "execution_count": null,
   "metadata": {},
   "outputs": [],
   "source": [
    "new_track_gps = smooth_gps(track_gps, 50)"
   ]
  },
  {
   "cell_type": "code",
   "execution_count": null,
   "metadata": {},
   "outputs": [],
   "source": [
    "fig = go.Figure()\n",
    "fig.add_trace(go.Scatter(x=track_gps.x_track, y=track_gps.y_track, mode='lines'))\n",
    "fig.add_trace(go.Scatter(x=new_track_gps.x_track, y=new_track_gps.y_track, mode='lines'))\n",
    "fig.show()"
   ]
  },
  {
   "cell_type": "code",
   "execution_count": null,
   "metadata": {},
   "outputs": [],
   "source": [
    "data_dict.keys()"
   ]
  }
 ],
 "metadata": {
  "kernelspec": {
   "display_name": ".venv",
   "language": "python",
   "name": "python3"
  },
  "language_info": {
   "codemirror_mode": {
    "name": "ipython",
    "version": 3
   },
   "file_extension": ".py",
   "mimetype": "text/x-python",
   "name": "python",
   "nbconvert_exporter": "python",
   "pygments_lexer": "ipython3",
   "version": "3.11.9"
  }
 },
 "nbformat": 4,
 "nbformat_minor": 2
}
