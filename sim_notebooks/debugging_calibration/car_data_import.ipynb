{
 "cells": [
  {
   "cell_type": "code",
   "execution_count": null,
   "metadata": {},
   "outputs": [],
   "source": [
    "from toolkit.lap.track import *\n",
    "from toolkit.lap.channels import *\n",
    "from toolkit.lap.gps import *\n",
    "import numpy as np\n",
    "import plotly.graph_objects as go\n",
    "import plotly.express as px\n",
    "import rerun as rr\n"
   ]
  },
  {
   "cell_type": "code",
   "execution_count": null,
   "metadata": {},
   "outputs": [],
   "source": [
    "raw_track = load_track_from_mat('./data/lap_data/2017_Michigan_Endurance_First4Laps.mat')\n",
    "data_dict = parse_car_data_mat(raw_track)\n",
    "track_gps = gps_from_channels(data_dict[\"GPS_Latitude\"], data_dict[\"GPS_Longitude\"], data_dict[\"GPS_Altitude\"], data_dict[\"GPS_Time\"])"
   ]
  },
  {
   "cell_type": "code",
   "execution_count": null,
   "metadata": {},
   "outputs": [],
   "source": []
  },
  {
   "cell_type": "code",
   "execution_count": null,
   "metadata": {},
   "outputs": [],
   "source": [
    "\n",
    "track = Track(track_gps, data_dict, 50, 0.95)"
   ]
  },
  {
   "cell_type": "code",
   "execution_count": null,
   "metadata": {},
   "outputs": [],
   "source": [
    "def display_track(a_track):\n",
    "    rr.init(\"log viewer\", spawn=True)\n",
    "    for name in WELL_KNOWN_KEYS:\n",
    "        time, data = a_track.get_channel(name)\n",
    "        rr.send_columns(\n",
    "            name,\n",
    "            times=[rr.TimeSecondsColumn(\"step\", time)],\n",
    "            components=[rr.components.ScalarBatch(data)]\n",
    "        )\n",
    "    rr.log(\"track\", rr.LineStrips2D(a_track.smooth_gps.get_2d_track(enu=True), radii=0.002, colors=[0, 255, 255, 255]), timeless=True)\n",
    "    rr.send_columns(\n",
    "        \"gps\",\n",
    "        times=[rr.TimeSecondsColumn(\"step\", a_track.gps.time)],\n",
    "        components=[rr.Points2D.indicator(),\n",
    "        rr.components.Position2DBatch(a_track.gps.get_2d_track(enu=True)),]\n",
    "    )\n"
   ]
  },
  {
   "cell_type": "code",
   "execution_count": null,
   "metadata": {},
   "outputs": [],
   "source": [
    "display_track(track)"
   ]
  },
  {
   "cell_type": "code",
   "execution_count": null,
   "metadata": {},
   "outputs": [],
   "source": [
    "gps_track = track.smooth_gps.get_2d_track()\n",
    "[(gps_track[i], gps_track[i + 1]) for i in range(len(gps_track) - 1)]"
   ]
  },
  {
   "cell_type": "code",
   "execution_count": null,
   "metadata": {},
   "outputs": [],
   "source": [
    "np.arange(track.gps.time.shape[0])"
   ]
  },
  {
   "cell_type": "code",
   "execution_count": null,
   "metadata": {},
   "outputs": [],
   "source": [
    "track.gps.time[-60:]"
   ]
  },
  {
   "cell_type": "code",
   "execution_count": null,
   "metadata": {},
   "outputs": [],
   "source": [
    "data_dict.keys()"
   ]
  }
 ],
 "metadata": {
  "kernelspec": {
   "display_name": ".venv",
   "language": "python",
   "name": "python3"
  },
  "language_info": {
   "codemirror_mode": {
    "name": "ipython",
    "version": 3
   },
   "file_extension": ".py",
   "mimetype": "text/x-python",
   "name": "python",
   "nbconvert_exporter": "python",
   "pygments_lexer": "ipython3",
   "version": "3.11.9"
  }
 },
 "nbformat": 4,
 "nbformat_minor": 2
}
