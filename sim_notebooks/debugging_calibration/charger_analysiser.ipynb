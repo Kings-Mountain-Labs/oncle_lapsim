{
 "cells": [
  {
   "cell_type": "code",
   "execution_count": null,
   "metadata": {},
   "outputs": [],
   "source": [
    "import sys\n",
    "import plotly.graph_objects as go\n",
    "from plotly.subplots import make_subplots\n",
    "import plotly.express as px\n",
    "import numpy as np\n",
    "import pandas as pd\n",
    "import can\n",
    "from IPython.display import clear_output, display\n",
    "from toolkit.common.constants import *"
   ]
  },
  {
   "cell_type": "code",
   "execution_count": null,
   "metadata": {},
   "outputs": [],
   "source": [
    "# load log file and plot the data\n",
    "# each row of the csv has the name of the data and the data itself\n",
    "file_name = \"charger_data_3.csv\"\n",
    "# load the data row by row\n",
    "print(\"Loading data from file: \" + file_name)\n",
    "data = []\n",
    "with open(file_name, 'r') as f:\n",
    "    # read each row as a list and put that list into the data list\n",
    "    for row in f:\n",
    "        data.append(row.split(','))\n",
    "# collect the data with its timestamps\n",
    "data_dict = {}\n",
    "for i in range(int(len(data)/2)):\n",
    "    name = data[2*i][0][:-5]\n",
    "    if name[-8:] == \"_Voltage\":\n",
    "        name = name[:-8]\n",
    "    else:\n",
    "        name = name[:-5]\n",
    "        \n",
    "    # create a array for the data\n",
    "    times = np.array(data[2*i][1:-1], dtype=float)\n",
    "    datas = np.array(data[2*i+1][1:-1], dtype=float)\n",
    "    data_dict[name] = np.array([times, datas])\n",
    "print(\"Data loaded successfully!\")"
   ]
  },
  {
   "cell_type": "code",
   "execution_count": null,
   "metadata": {},
   "outputs": [],
   "source": [
    "# plot the voltages and temperatures of the battery pack\n",
    "# function to clean out all the bad values for temperature\n",
    "def clean_temp(temps):\n",
    "    return temps[:, (temps[1,:]<100) & (temps[1,:]>0)]\n",
    "\n",
    "fig = make_subplots(rows=2, cols=1, shared_xaxes=True, vertical_spacing=0.02)\n",
    "# get all the voltages\n",
    "voltage_names = [name for name in data_dict.keys() if 'Voltage' in name]\n",
    "# print(voltage_names)\n",
    "# plot all the voltages, bus only every nth point\n",
    "nth = 50\n",
    "for name in voltage_names:\n",
    "    fig.add_trace(go.Scattergl(x=data_dict[name][0,::nth], y=data_dict[name][1,::nth], mode=\"lines\", name=name, line=dict(width=1)), row=1, col=1)\n",
    "\n",
    "# get all the temperatures\n",
    "temp_names = [name for name in data_dict.keys() if 'Temp' in name]\n",
    "# print(temp_names)\n",
    "# plot all the temperatures, bus only every nth point\n",
    "nth = 1\n",
    "for name in temp_names:\n",
    "    fig.add_trace(go.Scattergl(x=data_dict[name][0,::nth], y=clean_temp(data_dict[name])[1,::nth], mode=\"lines\", name=name, line=dict(width=1)), row=2, col=1)\n",
    "\n",
    "# make the x axis show time in hours and minutes from seconds\n",
    "fig.update_xaxes(tickformat=\"%H:%M:%S\")\n",
    "fig.update_layout(title=\"Voltages\", xaxis_title=\"Time\", yaxis_title=\"Voltage\", template=\"plotly_dark\", height=800)\n",
    "fig.show()"
   ]
  }
 ],
 "metadata": {
  "kernelspec": {
   "display_name": ".venv",
   "language": "python",
   "name": "python3"
  },
  "language_info": {
   "codemirror_mode": {
    "name": "ipython",
    "version": 3
   },
   "file_extension": ".py",
   "mimetype": "text/x-python",
   "name": "python",
   "nbconvert_exporter": "python",
   "pygments_lexer": "ipython3",
   "version": "3.11.9"
  },
  "orig_nbformat": 4
 },
 "nbformat": 4,
 "nbformat_minor": 2
}
