{
 "cells": [
  {
   "cell_type": "code",
   "execution_count": null,
   "metadata": {},
   "outputs": [],
   "source": [
    "import numpy as np\n",
    "import plotly.graph_objects as go\n",
    "from toolkit.tire_model.tire_model_utils import *\n",
    "from toolkit.common.constants import *\n",
    "from toolkit.cars.car_configuration import Car\n",
    "from toolkit.common.maths import to_vel_frame, to_car_frame"
   ]
  },
  {
   "cell_type": "code",
   "execution_count": null,
   "metadata": {},
   "outputs": [],
   "source": [
    "ARB_SETTINGS = [\"Disconnected\", \"Soft-Soft\", \"Soft-Medium\", \"Medium-Medium\", \"Medium-Hard\", \"Hard-Hard\"]\n",
    "def find_roll_stiffness(front_arb, rear_arb, car: Car):\n",
    "    front_bellcrank_ratios = np.array([0.0, 0.28843, 0.32397, 0.35952, 0.38328, 0.40705])\n",
    "    rear_bellcrank_ratios = np.array([0.0, 0.26927, 0.31020, 0.35112, 0.39029, 0.42945])\n",
    "    front_bellcrank_ratio = front_bellcrank_ratios[ARB_SETTINGS.index(front_arb)]\n",
    "    rear_bellcrank_ratio = rear_bellcrank_ratios[ARB_SETTINGS.index(rear_arb)]\n",
    "    front_arb_rate, rear_arb_rate = 3.39 * FTLB_TO_NM, 7.86 * FTLB_TO_NM\n",
    "    lever_arm_length = 2.5 * IN_TO_M\n",
    "    front_arb_setting = front_arb_rate * (front_bellcrank_ratio**2) * (car.front_track**2) / (lever_arm_length**2)\n",
    "    rear_arb_setting = rear_arb_rate * (rear_bellcrank_ratio**2) * (car.rear_track**2) / (lever_arm_length**2)\n",
    "    front_ride_roll_stiffness, rear_ride_roll_stiffness = 172 * FTLB_TO_NM, 172 * FTLB_TO_NM\n",
    "    front_roll_stiffness, rear_roll_stiffness = front_arb_setting + front_ride_roll_stiffness, rear_arb_setting + rear_ride_roll_stiffness\n",
    "    return front_roll_stiffness, rear_roll_stiffness"
   ]
  },
  {
   "cell_type": "code",
   "execution_count": null,
   "metadata": {},
   "outputs": [],
   "source": [
    "skidpad_radius_inner = 15.25 / 2 # m\n",
    "skidpad_radius_outer = skidpad_radius_inner + 3 # m\n",
    "skidpad_radius = skidpad_radius_inner + 0.711 # m\n",
    "print(skidpad_radius)\n"
   ]
  },
  {
   "cell_type": "code",
   "execution_count": null,
   "metadata": {},
   "outputs": [],
   "source": [
    "# generate a car object\n",
    "car = Car(mass=(480+150)*LB_TO_KG, front_axle_weight=0.48)\n",
    "car.set_tire(H_R20_18X6_7)\n",
    "car.mass_unsprung = 60 * LB_TO_KG\n",
    "frs, rrs = find_roll_stiffness(\"Medium-Hard\", \"Medium-Hard\", car)\n",
    "car.k_f = frs\n",
    "car.k_r = rrs\n",
    "car.k_c = 1400 * LB_TO_KG\n",
    "car.cg_height = 11.6 * IN_TO_M\n",
    "car.z_f = -1.14 * IN_TO_M\n",
    "car.z_r = -1.02 * IN_TO_M\n",
    "car.toe_front = -0.15\n",
    "car.toe_rear = -0.15\n",
    "car.update_car()"
   ]
  },
  {
   "cell_type": "code",
   "execution_count": null,
   "metadata": {},
   "outputs": [],
   "source": [
    "# converge on the minimum lap time of the skidpad\n",
    "kappa_lim = 0.2\n",
    "beta, delta, ay, yaw, ax, bruh, vel, lap_time = car.solve_skidpad_time(skidpad_radius, 0.65, sr_lim = kappa_lim)\n",
    "\n",
    "print('Velocity: {:.2f} m/s'.format(vel))\n",
    "print('Beta: {:.2f} deg'.format(np.rad2deg(beta)))\n",
    "print('Delta: {:.2f} deg'.format(np.rad2deg(delta)))\n",
    "print('ay: {:.2f} m/s^2'.format(ay))\n",
    "print('yaw: {:.2f} rad/s^2'.format(yaw))\n",
    "print('ax: {:.2f} m/s^2'.format(ax))\n",
    "print(f'LLTD: {car.LLTD:.3f}')\n",
    "print('bruh: {}'.format(bruh))\n",
    "print('Lap time: {:.4f} s'.format(lap_time))\n",
    "# omega based on lateral acceleration\n",
    "omega = vel / skidpad_radius\n",
    "print('Omega: {:.2f} rad/s'.format(omega))\n",
    "\n"
   ]
  },
  {
   "cell_type": "code",
   "execution_count": null,
   "metadata": {},
   "outputs": [],
   "source": [
    "# make a plot that shows the force and torque vectors at each tire, the car's center of mass, and the center of the skidpad\n",
    "fig = go.Figure()\n",
    "# add the skidpad as a circle\n",
    "fig.add_shape(type=\"circle\", xref=\"x\", yref=\"y\", x0=-skidpad_radius_inner, y0=-skidpad_radius_inner, x1=skidpad_radius_inner, y1=skidpad_radius_inner, line_color=\"Red\", line_width=1)\n",
    "fig.add_shape(type=\"circle\", xref=\"x\", yref=\"y\", x0=-skidpad_radius, y0=-skidpad_radius, x1=skidpad_radius, y1=skidpad_radius, line_color=\"LightSeaGreen\", line_width=2)\n",
    "fig.add_shape(type=\"circle\", xref=\"x\", yref=\"y\", x0=-skidpad_radius_outer, y0=-skidpad_radius_outer, x1=skidpad_radius_outer, y1=skidpad_radius_outer, line_color=\"Red\", line_width=1)\n",
    "# add a point at the center of the skidpad\n",
    "fig.add_trace(go.Scatter(x=[0], y=[0], mode='markers', marker=dict(color='LightSeaGreen', size=5), showlegend=False))\n",
    "# add the car's center of mass\n",
    "fig.add_trace(go.Scatter(x=[-skidpad_radius], y=[0], mode='markers', marker=dict(color='red', size=5), showlegend=False))\n",
    "# find coordinates of the tires\n",
    "tire_xy_car = np.array([[-car.front_track / 2, car.a], [car.front_track / 2, car.a], [-car.rear_track / 2, -car.b], [car.rear_track / 2, -car.b], [0, 0]])\n",
    "# rotate the tire coordinates to the car's orientation\n",
    "rot = np.array([[np.cos(-beta), -np.sin(-beta)], [np.sin(-beta), np.cos(-beta)]]) # were rotating it back to world coordinates so we need to negate the angle\n",
    "tire_xy_vel = np.matmul(rot, tire_xy_car.T).T\n",
    "# shift the tire coordinates to the car's position\n",
    "tire_xy_vel[:, 0] -= skidpad_radius\n",
    "# add the tire coordinates to the plot\n",
    "# fig.add_trace(go.Scatter(x=tire_xy_vel[:, 0], y=tire_xy_vel[:, 1], mode='markers', marker=dict(color='blue', size=2), showlegend=False))\n",
    "# get the force and torque vectors at each tire\n",
    "ay_v, yaw_it, ax_v, bruh, fy_s, fx_s, mz_s, fz_s, sa_s, delta_s, kappa_s = car.solve_for_yaw(ay, vel, beta, delta, mu_corr=0.65, vecs=True, sr_lim = kappa_lim)\n",
    "scalar = 800\n",
    "# add the force and torque vectors to the plot\n",
    "names = ['FL', 'FR', 'RL', 'RR', 'CM']\n",
    "def rot_vec(point, rot):\n",
    "    pt = np.matmul(rot, point.T).T\n",
    "    return np.array([[0, 0], pt])\n",
    "for i in range(5):\n",
    "    t_rot = np.array([[np.cos(-delta_s[i]), -np.sin(-delta_s[i])], [np.sin(-delta_s[i]), np.cos(-delta_s[i])]])\n",
    "    f_tot = rot_vec(np.array([-fy_s[i] / scalar, fx_s[i] / scalar]), t_rot)\n",
    "    f_x = rot_vec(np.array([0, fx_s[i] / scalar]), t_rot)\n",
    "    f_y = rot_vec(np.array([-fy_s[i] / scalar, 0]), t_rot)\n",
    "    f_tot = np.matmul(rot, f_tot.T).T + tire_xy_vel[i]\n",
    "    f_x = np.matmul(rot, f_x.T).T + tire_xy_vel[i]\n",
    "    f_y = np.matmul(rot, f_y.T).T + tire_xy_vel[i]\n",
    "    name = names[i]\n",
    "    fig.add_trace(go.Scatter(x=f_tot[:, 0], y=f_tot[:, 1], legendgroup=f\"{name}\", name=name, mode='lines', line=dict(color='green', width=2), hovertext='{}: {:.2f} N'.format(name, np.sqrt(fx_s[i]**2 + fy_s[i]**2))))\n",
    "    fig.add_trace(go.Scatter(x=f_x[:, 0], y=f_x[:, 1], legendgroup=f\"{name}\", name=name, mode='lines', line=dict(color='pink', width=2), hovertext='{} Fx: {:.2f} N'.format(name, fx_s[i]), showlegend=False))\n",
    "    fig.add_trace(go.Scatter(x=f_y[:, 0], y=f_y[:, 1], legendgroup=f\"{name}\", name=name, mode='lines', line=dict(color='pink', width=2), hovertext='{} Fy: {:.2f} N'.format(name, fy_s[i]), showlegend=False))\n",
    "# add the car's orientation\n",
    "# fig.add_trace(go.Scatter(x=[skidpad_radius, skidpad_radius + np.sin(beta)], y=[0, np.cos(beta)], mode='lines', line=dict(color='red', width=2)))\n",
    "print(f\"Fz: {fz_s}\")\n",
    "print(f\"SA: {np.rad2deg(np.array(sa_s))}\")\n",
    "print(f\"Delta: {np.rad2deg(np.array(delta_s))}\")\n",
    "print(f\"SL: {kappa_s}\")\n",
    "print(ay_v, ax_v)\n",
    "\n",
    "fig.update_layout(title='Skidpad Forces and Torques', xaxis_title='x (m)', yaxis_title='y (m)', width=1000, height=1000, template=\"plotly_dark\")\n",
    "fig.update_xaxes(scaleanchor=\"y\", scaleratio=1)\n",
    "fig.show()\n"
   ]
  },
  {
   "cell_type": "code",
   "execution_count": null,
   "metadata": {},
   "outputs": [],
   "source": [
    "ax_c, ay_c = to_car_frame(ax, ay, beta)\n",
    "fzfl, fzfr, fzrl, fzrr, wt_pitch, wt_roll = car.find_contact_patch_loads(ax_c, ay_c, vel)\n",
    "print(fzfl, fzfr, fzrl, fzrr, wt_pitch, wt_roll)"
   ]
  }
 ],
 "metadata": {
  "kernelspec": {
   "display_name": ".venv",
   "language": "python",
   "name": "python3"
  },
  "language_info": {
   "codemirror_mode": {
    "name": "ipython",
    "version": 3
   },
   "file_extension": ".py",
   "mimetype": "text/x-python",
   "name": "python",
   "nbconvert_exporter": "python",
   "pygments_lexer": "ipython3",
   "version": "3.11.9"
  },
  "orig_nbformat": 4,
  "vscode": {
   "interpreter": {
    "hash": "a40ddc490a6ab3d8d5c36ac4a91310ba012979717884fb4180c23af057abbc60"
   }
  }
 },
 "nbformat": 4,
 "nbformat_minor": 2
}
