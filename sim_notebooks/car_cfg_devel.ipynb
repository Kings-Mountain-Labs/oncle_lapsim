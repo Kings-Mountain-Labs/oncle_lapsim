{
 "cells": [
  {
   "cell_type": "code",
   "execution_count": null,
   "metadata": {},
   "outputs": [],
   "source": [
    "import numpy as np\n",
    "import sys\n",
    "from plotly.subplots import make_subplots\n",
    "import plotly.graph_objects as go\n",
    "import plotly.express as px\n",
    "import time\n",
    "sys.path.append('../Functions/py_functions/') # This path is so that within each function file, you can import the other function files with relative paths\n",
    "sys.path.append('../') # This path is so that we can import the functions folder from the root directory compared to where this file is\n",
    "from Functions.py_functions.tire_model.tire_model_utils import *\n",
    "from Functions.py_functions.constants import *\n",
    "from Functions.py_functions.car_configuration import Car, to_vel_frame, to_car_frame, clip"
   ]
  },
  {
   "cell_type": "code",
   "execution_count": null,
   "metadata": {},
   "outputs": [],
   "source": [
    "# generate a car object\n",
    "car = Car()\n",
    "car.set_tire(H_R20_18X6_7)\n",
    "car.toe_front = 0\n",
    "car.toe_rear = 0\n",
    "car.update_car()"
   ]
  },
  {
   "cell_type": "code",
   "execution_count": null,
   "metadata": {},
   "outputs": [],
   "source": [
    "# time the two versions of the s_r function\n",
    "lenz = 1000\n",
    "fx_targ = np.linspace(-3000, 3000, lenz)\n",
    "sa = np.deg2rad(15)\n",
    "fz = 2000\n",
    "ia = np.deg2rad(-1.25)\n",
    "flip = True\n",
    "k0, bam0, fx0 = np.zeros(lenz), np.zeros(lenz), np.zeros(lenz)\n",
    "t0 = time.time()\n",
    "for ind, fx in enumerate(fx_targ):\n",
    "    k0[ind], bam0[ind], fx0[ind] = car.s_r(fz, sa, 11.1, fx, i_a=ia, flip_s_a=flip)\n",
    "print(time.time() - t0)\n",
    "k1, bam1, fx1 = np.zeros(lenz), np.zeros(lenz), np.zeros(lenz)\n",
    "t1 = time.time()\n",
    "for ind, fx in enumerate(fx_targ):\n",
    "    k1[ind], bam1[ind], fx1[ind] = car.fast_mf.s_r(fz, sa, 0.2, -0.3, 0.2, -0.3, 0, 0, 0, 82500.0, ia, 11.1, 0.0, 0.0, 1.0, flip, False, fx, 0)\n",
    "print(time.time() - t1)\n",
    "\n",
    "# plot the results\n",
    "fig = make_subplots(rows=3, cols=1)\n",
    "fig.add_trace(go.Scatter(x=fx_targ, y=k0, name='k0'), row=1, col=1)\n",
    "fig.add_trace(go.Scatter(x=fx_targ, y=k1, name='k1'), row=1, col=1)\n",
    "fig.add_trace(go.Scatter(x=fx_targ, y=fx0, name='fx0'), row=2, col=1)\n",
    "fig.add_trace(go.Scatter(x=fx_targ, y=fx1, name='fx1'), row=2, col=1)\n",
    "fig.add_trace(go.Scatter(x=fx_targ, y=bam0, name='bam0'), row=3, col=1)\n",
    "fig.add_trace(go.Scatter(x=fx_targ, y=bam1, name='bam1'), row=3, col=1)\n",
    "fig.show()\n",
    "# plot kappa vs fx\n",
    "fig = px.scatter(x=k0, y=fx0)\n",
    "fig.add_scatter(x=k1, y=fx1, mode='markers')\n",
    "fig.show()"
   ]
  },
  {
   "cell_type": "code",
   "execution_count": null,
   "metadata": {},
   "outputs": [],
   "source": [
    "kappas = np.linspace(-0.3, 0.2, 500)\n",
    "fz, sa, v, _, ia = 15295, 0.008726646259971648, 10.0, -794.0029381399711, -0.02181661564992912\n",
    "fx, _, _ = car.fast_mf.solve_sr_sweep(fz, sa, kappas, 82700, ia, v, 0.0, 0.0, 0.65, False)\n",
    "fig = px.scatter(x=kappas, y=fx)\n",
    "fig.show()"
   ]
  },
  {
   "cell_type": "code",
   "execution_count": null,
   "metadata": {},
   "outputs": [],
   "source": [
    "fzs = np.linspace(1, 3000, 500)\n",
    "sa, v, _, ia = 0.0, 10.0, -794.0029381399711, 0.0\n",
    "fxx = np.zeros(len(fzs))\n",
    "for ind, fz in enumerate(fzs):\n",
    "    fx, _, _ = car.fast_mf.solve_sr_sweep(fz, sa, np.array([0.0]), 82700, ia, v, 0.0, 0.0, 0.65, False)\n",
    "    fxx[ind] = fx[0]\n",
    "fig = px.scatter(x=fzs, y=fxx)\n",
    "fig.show()"
   ]
  },
  {
   "cell_type": "code",
   "execution_count": null,
   "metadata": {},
   "outputs": [],
   "source": [
    "dfz = (fzs - car.mf_tire.FNOMIN) / car.mf_tire.FNOMIN\n",
    "svx = (car.mf_tire.PVX1 + car.mf_tire.PVX2 * dfz) * fzs\n",
    "shx = car.mf_tire.PHX1 + car.mf_tire.PHX2 * dfz\n",
    "kx = (car.mf_tire.PKX1 + car.mf_tire.PKX2 * dfz) * np.exp(car.mf_tire.PKX3 * dfz)\n",
    "fig = px.scatter(x=fzs, y=dfz)\n",
    "fig.show()\n",
    "fig = px.scatter(x=fzs, y=svx)\n",
    "fig.show()\n",
    "fig = px.scatter(x=fzs, y=shx)\n",
    "fig.show()\n",
    "fig = px.scatter(x=fzs, y=kx)\n",
    "fig.add_scatter(x=fzs, y=(car.mf_tire.PKX1 + car.mf_tire.PKX2 * dfz))\n",
    "fig.show()\n",
    "print(car.mf_tire.PKX1)\n",
    "print(car.mf_tire.PKX2)\n",
    "print(car.mf_tire.PKX3)"
   ]
  }
 ],
 "metadata": {
  "kernelspec": {
   "display_name": ".venv",
   "language": "python",
   "name": "python3"
  },
  "language_info": {
   "codemirror_mode": {
    "name": "ipython",
    "version": 3
   },
   "file_extension": ".py",
   "mimetype": "text/x-python",
   "name": "python",
   "nbconvert_exporter": "python",
   "pygments_lexer": "ipython3",
   "version": "3.11.5"
  },
  "orig_nbformat": 4
 },
 "nbformat": 4,
 "nbformat_minor": 2
}
