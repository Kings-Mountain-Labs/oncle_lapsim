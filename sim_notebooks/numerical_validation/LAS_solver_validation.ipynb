{
 "cells": [
  {
   "cell_type": "code",
   "execution_count": null,
   "metadata": {},
   "outputs": [],
   "source": [
    "import sys\n",
    "import plotly.express as px\n",
    "import time\n",
    "import numpy as np\n",
    "sys.path.append('../Functions/py_functions/') # This path is so that within each function file, you can import the other function files with relative paths\n",
    "sys.path.append('../') # This path is so that we can import the functions folder from the root directory compared to where this file is\n",
    "from Functions.py_functions.constants import *\n",
    "from Functions.py_functions.car_configuration import Car\n",
    "import plotly.graph_objects as go\n",
    "\n",
    "from Functions.py_functions.previous_cars import sr_9\n",
    "from Functions.py_functions.tire_model.tire_model_utils import * # this has the tire models\n",
    "from Functions.py_functions.las_solvers.las import LAS\n",
    "from Functions.py_functions.las_solvers.octahedral import Octahedral_LAS\n",
    "from Functions.py_functions.las_solvers.multi_layer import Multi_Layer_LAS"
   ]
  },
  {
   "cell_type": "code",
   "execution_count": null,
   "metadata": {},
   "outputs": [],
   "source": [
    "# import SR9 for instance\n",
    "# car = Car()\n",
    "car = sr_9()\n",
    "car.set_tire(H_R20_18X6_7)\n",
    "# car.debug = True\n",
    "v_average = 15\n",
    "mu = 0.65 # mu correction factor, a value of 1 means the road is sandpaper and the actual value should be something lower but im kinda just setting this value to overfit atm\n",
    "target = 0.001\n",
    "\n",
    "# las = Octahedral_LAS()\n",
    "las = Multi_Layer_LAS()"
   ]
  },
  {
   "cell_type": "code",
   "execution_count": null,
   "metadata": {},
   "outputs": [],
   "source": [
    "las.generate_las(car, vel_bins=5, mu=mu, add_layers=2)"
   ]
  },
  {
   "cell_type": "code",
   "execution_count": null,
   "metadata": {},
   "outputs": [],
   "source": [
    "fig = go.Figure()\n",
    "las.plot_las(fig, vv=las.vels[0]-1)\n",
    "\n",
    "fig.update_layout(scene = dict(\n",
    "    xaxis_title='Lat Acc',\n",
    "    yaxis_title='Yaw Acc (rad/sec^2)',\n",
    "    zaxis_title='Lon Acc'),\n",
    "    margin=dict(r=20, b=10, l=10, t=10)\n",
    ")\n",
    "        \n",
    "fig.show()"
   ]
  },
  {
   "cell_type": "code",
   "execution_count": null,
   "metadata": {},
   "outputs": [],
   "source": [
    "i=0\n",
    "print(las.aymax_l[i])\n",
    "print(las.yawmax_l[i])"
   ]
  }
 ],
 "metadata": {
  "kernelspec": {
   "display_name": ".venv",
   "language": "python",
   "name": "python3"
  },
  "language_info": {
   "codemirror_mode": {
    "name": "ipython",
    "version": 3
   },
   "file_extension": ".py",
   "mimetype": "text/x-python",
   "name": "python",
   "nbconvert_exporter": "python",
   "pygments_lexer": "ipython3",
   "version": "3.11.3"
  },
  "orig_nbformat": 4
 },
 "nbformat": 4,
 "nbformat_minor": 2
}
