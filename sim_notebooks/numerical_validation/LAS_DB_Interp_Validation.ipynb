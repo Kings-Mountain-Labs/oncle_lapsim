{
 "cells": [
  {
   "cell_type": "code",
   "execution_count": null,
   "metadata": {},
   "outputs": [],
   "source": [
    "import sys\n",
    "import plotly.express as px\n",
    "import time\n",
    "import numpy as np\n",
    "sys.path.append('../Functions/py_functions/') # This path is so that within each function file, you can import the other function files with relative paths\n",
    "sys.path.append('../') # This path is so that we can import the functions folder from the root directory compared to where this file is\n",
    "from Functions.py_functions.constants import *\n",
    "from Functions.py_functions.math import db_for_point_in_triangle\n",
    "import plotly.graph_objects as go\n",
    "import matplotlib.pyplot as plt"
   ]
  },
  {
   "cell_type": "code",
   "execution_count": null,
   "metadata": {},
   "outputs": [],
   "source": [
    "# Random data for testing\n",
    "p1 = np.array([0.0, 0.0, 0.0, 1.0, 2.0])\n",
    "p2 = np.array([1.0, 0.0, 1.0, 2.0, 3.0])\n",
    "p3 = np.array([0.0, 1.0, 0.0, 3.0, 4.0])\n",
    "p  = np.array([0.3, 0.5, 0.0, 0, 0])\n",
    "\n",
    "delta, beta = db_for_point_in_triangle(p, p1, p2, p3)\n",
    "\n",
    "print(f\"Interpolated delta for point p: {delta}\")\n",
    "print(f\"Interpolated beta for point p: {beta}\")\n",
    "\n",
    "# Visualization\n",
    "fig, ax = plt.subplots()\n",
    "ax.plot([p1[0], p2[0], p3[0], p1[0]], [p1[1], p2[1], p3[1], p1[1]], 'ro-')\n",
    "ax.plot(p[0], p[1], 'bs', label=f\"p (delta={delta:.2f}, beta={beta:.2f})\")\n",
    "ax.set_title(\"2D Projection and Interpolation of Point\")\n",
    "ax.set_xlabel(\"X\")\n",
    "ax.set_ylabel(\"Y\")\n",
    "ax.legend()\n",
    "plt.grid(True)\n",
    "plt.show()"
   ]
  },
  {
   "cell_type": "code",
   "execution_count": null,
   "metadata": {},
   "outputs": [],
   "source": [
    "def random_points_in_triangle(p1, p2, p3, num_points=1000):\n",
    "    \"\"\"Generate random points within a triangle.\"\"\"\n",
    "    points = []\n",
    "    for _ in range(num_points):\n",
    "        s, t = sorted([np.random.random(), np.random.random()])\n",
    "        f = lambda i: s * p1[i] + (t-s)*p2[i] + (1-t)*p3[i]\n",
    "        points.append((f(0), f(1), f(2)))\n",
    "    return np.array(points)\n",
    "\n",
    "# Generate random points\n",
    "num_random_points = 1000\n",
    "random_points = random_points_in_triangle(p1[:3], p2[:3], p3[:3], num_points=num_random_points)\n",
    "\n",
    "# Calculate interpolated values for each random point\n",
    "deltas = []\n",
    "betas = []\n",
    "for rp in random_points:\n",
    "    d, b = db_for_point_in_triangle(rp, p1, p2, p3)\n",
    "    deltas.append(d)\n",
    "    betas.append(b)\n",
    "\n",
    "# Plot heatmap\n",
    "fig, ax = plt.subplots(figsize=(10, 8))\n",
    "\n",
    "# The scatter plot will take the deltas as the color values\n",
    "sc = ax.scatter(random_points[:, 0], random_points[:, 1], c=deltas, cmap='viridis', marker='.')\n",
    "cb = fig.colorbar(sc, ax=ax)\n",
    "cb.set_label(\"Interpolated Delta Value\")\n",
    "\n",
    "ax.plot([p1[0], p2[0], p3[0], p1[0]], [p1[1], p2[1], p3[1], p1[1]], 'ro-')\n",
    "ax.set_title(\"Heatmap of Interpolated Delta Values for Random Points\")\n",
    "ax.set_xlabel(\"X\")\n",
    "ax.set_ylabel(\"Y\")\n",
    "plt.grid(True)\n",
    "plt.show()"
   ]
  }
 ],
 "metadata": {
  "kernelspec": {
   "display_name": ".venv",
   "language": "python",
   "name": "python3"
  },
  "language_info": {
   "codemirror_mode": {
    "name": "ipython",
    "version": 3
   },
   "file_extension": ".py",
   "mimetype": "text/x-python",
   "name": "python",
   "nbconvert_exporter": "python",
   "pygments_lexer": "ipython3",
   "version": "3.11.5"
  },
  "orig_nbformat": 4
 },
 "nbformat": 4,
 "nbformat_minor": 2
}
