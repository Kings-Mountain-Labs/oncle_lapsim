{
 "cells": [
  {
   "cell_type": "code",
   "execution_count": null,
   "metadata": {},
   "outputs": [],
   "source": [
    "import sys\n",
    "import plotly.express as px\n",
    "import time\n",
    "import numpy as np\n",
    "sys.path.append('../Functions/py_functions/') # This path is so that within each function file, you can import the other function files with relative paths\n",
    "sys.path.append('../') # This path is so that we can import the functions folder from the root directory compared to where this file is\n",
    "from Functions.py_functions.constants import *\n",
    "from Functions.py_functions.car_configuration import Car\n",
    "import plotly.graph_objects as go\n",
    "\n",
    "from Functions.py_functions.previous_cars import sr_9\n",
    "from Functions.py_functions.tire_model.tire_model_utils import * # this has the tire models\n",
    "from Functions.py_functions.las_solvers.las import LAS\n",
    "from Functions.py_functions.las_solvers.octahedral import Octahedral_LAS\n",
    "from Functions.py_functions.las_solvers.multi_layer import Multi_Layer_LAS\n",
    "from Functions.py_functions.steady_state_solver.ls_optimize import LS_Solver"
   ]
  },
  {
   "cell_type": "code",
   "execution_count": null,
   "metadata": {},
   "outputs": [],
   "source": [
    "# import SR9 for instance\n",
    "# car = Car()\n",
    "car = sr_9()\n",
    "car.set_tire(H_R20_18X6_7)\n",
    "# car.debug = True\n",
    "v_average = 15\n",
    "mu = 0.65 # mu correction factor, a value of 1 means the road is sandpaper and the actual value should be something lower but im kinda just setting this value to overfit atm\n",
    "target = 0.001\n",
    "solver = LS_Solver()\n",
    "las = Multi_Layer_LAS(solver=solver)"
   ]
  },
  {
   "cell_type": "code",
   "execution_count": null,
   "metadata": {},
   "outputs": [],
   "source": [
    "las.generate_las(car, vel_bins=8, mu=mu, add_layers=3)"
   ]
  },
  {
   "cell_type": "code",
   "execution_count": null,
   "metadata": {},
   "outputs": [],
   "source": [
    "# plot the corners of each LAS through the longitudinal acceleration\n",
    "# we will generate a line for each corner and for each velocity bin\n",
    "# we only care about the two ordinate corners because the other two are just mirrored\n",
    "ay_corners = []\n",
    "yaw_corners = []\n",
    "corner_vels = []\n",
    "for v, vel in enumerate(las.vels):\n",
    "    ay_corners.append(las.aymax_l[v])\n",
    "    yaw_corners.append(las.yawmax_l[v])\n",
    "    corner_vels.append(vel)\n",
    "\n",
    "# now we plot them, we shall plot both in their AY axis and their YAW axis\n",
    "# long, lat, yaw, delta, beta\n",
    "ay_corner = np.array(ay_corners)\n",
    "print(ay_corner[0, :, 0])\n",
    "yaw_corner = np.array(yaw_corners)\n",
    "fig1 = go.Figure()\n",
    "fig2 = go.Figure()\n",
    "fig3 = go.Figure()\n",
    "fig4 = go.Figure()\n",
    "fig5 = go.Figure()\n",
    "fig6 = go.Figure()\n",
    "for v, vel in enumerate(corner_vels):\n",
    "    fig1.add_trace(go.Scatter(x=ay_corner[v, :, 0], y=ay_corner[v, :, 1], mode='lines', name=f'V = {vel:.2f} m/s'))\n",
    "    fig2.add_trace(go.Scatter(x=ay_corner[v, :, 0], y=ay_corner[v, :, 2], mode='lines', name=f'V = {vel:.2f} m/s'))\n",
    "    fig3.add_trace(go.Scatter(x=ay_corner[v, :, 0], y=yaw_corner[v, :, 1], mode='lines', name=f'V = {vel:.2f} m/s'))\n",
    "    fig4.add_trace(go.Scatter(x=ay_corner[v, :, 0], y=yaw_corner[v, :, 2], mode='lines', name=f'V = {vel:.2f} m/s'))\n",
    "    fig5.add_trace(go.Scatter(x=ay_corner[v, :, 3], y=ay_corner[v, :, 4], mode='lines+markers', name=f'V = {vel:.2f} m/s'))\n",
    "    fig6.add_trace(go.Scatter(x=yaw_corner[v, :, 3], y=yaw_corner[v, :, 4], mode='lines+markers', name=f'V = {vel:.2f} m/s'))\n",
    "fig1.update_layout(title='LAS Corner Convergence Ay', xaxis_title='Ax Acceleration (m/s^2)', yaxis_title='Ay (m/s^2)')\n",
    "fig2.update_layout(title='LAS Corner Convergence Ay', xaxis_title='Ax Acceleration (m/s^2)', yaxis_title='Yaw (rad/s^2)')\n",
    "fig3.update_layout(title='LAS Corner Convergence Yaw', xaxis_title='Ax Acceleration (m/s^2)', yaxis_title='Ay (m/s^2)')\n",
    "fig4.update_layout(title='LAS Corner Convergence Yaw', xaxis_title='Ax Acceleration (m/s^2)', yaxis_title='Yaw (rad/s^2)')\n",
    "fig5.update_layout(title='LAS Corner Convergence Ay', xaxis_title='Beta Angle', yaxis_title='Delta Angle')\n",
    "fig6.update_layout(title='LAS Corner Convergence Yaw', xaxis_title='Beta Angle', yaxis_title='Delta Angle')\n",
    "fig1.show()\n",
    "fig2.show()\n",
    "fig3.show()\n",
    "fig4.show()\n",
    "fig5.show()\n",
    "fig6.show()"
   ]
  },
  {
   "cell_type": "code",
   "execution_count": null,
   "metadata": {},
   "outputs": [],
   "source": []
  }
 ],
 "metadata": {
  "kernelspec": {
   "display_name": ".venv",
   "language": "python",
   "name": "python3"
  },
  "language_info": {
   "codemirror_mode": {
    "name": "ipython",
    "version": 3
   },
   "file_extension": ".py",
   "mimetype": "text/x-python",
   "name": "python",
   "nbconvert_exporter": "python",
   "pygments_lexer": "ipython3",
   "version": "3.11.5"
  },
  "orig_nbformat": 4
 },
 "nbformat": 4,
 "nbformat_minor": 2
}
