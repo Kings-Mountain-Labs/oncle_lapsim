{
 "cells": [
  {
   "cell_type": "code",
   "execution_count": null,
   "metadata": {},
   "outputs": [],
   "source": [
    "import numpy as np\n",
    "import plotly.graph_objects as go\n",
    "import plotly.express as px\n",
    "from scipy.ndimage import uniform_filter1d, gaussian_filter1d\n",
    "import pandas as pd\n",
    "from plotly.subplots import make_subplots\n"
   ]
  },
  {
   "cell_type": "code",
   "execution_count": null,
   "metadata": {},
   "outputs": [],
   "source": [
    "# load the tire data file\n",
    "# tire_data = pd.read_csv('../Data/logs/dataLog00121.TXT')\n",
    "# tire_data = pd.read_csv('../Data/logs/Data71.csv')\n",
    "dt = np.dtype([('time', '<u4'),\n",
    "('micros', '<u4'),\n",
    "('pressure', 'f4'),\n",
    "('temp', 'f4'),\n",
    "('aX', 'f4'),\n",
    "('aY', 'f4'),\n",
    "('aZ', 'f4'),\n",
    "('gX', 'f4'),\n",
    "('gY', 'f4'),\n",
    "('gZ', 'f4'),\n",
    "('aX.1', 'f4'),\n",
    "('aY.1', 'f4'),\n",
    "('aZ.1', 'f4'),\n",
    "('dt', '<u4'),\n",
    "('queue', '<u4'),])\n",
    "with open('../Data/logs/Data63.bin', 'rb') as f:\n",
    "    b = f.read()\n",
    "# truncate to the nearest multiple of the dtype size\n",
    "if len(b) % dt.itemsize != 0:\n",
    "    b = b[:-(len(b) % dt.itemsize)]\n",
    "data = np.frombuffer(b, dtype=dt)\n",
    "data = np.sort(data, order='micros')\n",
    "tire_data = pd.DataFrame(data[50:])\n"
   ]
  },
  {
   "cell_type": "code",
   "execution_count": null,
   "metadata": {},
   "outputs": [],
   "source": [
    "if 'output_Hz' in tire_data.columns:\n",
    "    tire_data['aX'] = tire_data['aX'] / 1000\n",
    "    tire_data['aY'] = tire_data['aY'] / 1000\n",
    "    tire_data['aZ'] = tire_data['aZ'] / 1000\n",
    "else:\n",
    "    tire_data['aX'] = tire_data['aX'] / 9.81\n",
    "    tire_data['aY'] = tire_data['aY'] / 9.81\n",
    "    tire_data['aZ'] = tire_data['aZ'] / 9.81\n",
    "if 'aX.1' in tire_data.columns:\n",
    "    tire_data['aZ.1'] = tire_data['aZ.1'] * -1\n",
    "\n",
    "# swap x and y axes\n",
    "tire_data['aX'], tire_data['aY'] = tire_data['aY'], tire_data['aX'].copy()\n",
    "tire_data['aX.1'], tire_data['aY.1'] = tire_data['aY.1'], tire_data['aX.1'].copy()\n",
    "tire_data['gX'], tire_data['gY'] = tire_data['gY'], tire_data['gX'].copy()\n",
    "if 'micros' in tire_data.columns:\n",
    "    tire_data['raw_time'] = tire_data['time']\n",
    "    tire_data['time'] = tire_data['micros'] / 1000000\n",
    "elif 'time' in tire_data.columns:\n",
    "    tire_data['raw_time'] = tire_data['time']\n",
    "    \n",
    "    if 'micros' in tire_data.columns:\n",
    "        tire_data['time'] = tire_data['micros'] / 1000000#np.floor(tire_data['time'] / 1000) + (np.mod(tire_data['micros'], 1000) / 1000000)\n",
    "    else:\n",
    "        tire_data['time'] = tire_data['time'] / 1000\n",
    "else:\n",
    "    tire_data['time'] = tire_data['rtcTime']\n",
    "if 'aX.1' in tire_data.columns:\n",
    "    cf_component = gaussian_filter1d(np.array(tire_data['aZ'] - tire_data['aZ.1']) * 9.81, 3)\n",
    "else:\n",
    "    cf_component = np.array(tire_data['aZ']) * 9.81\n",
    "radius_est = 0.218 # m 0.218\n",
    "if 'output_Hz' in tire_data.columns:\n",
    "    tire_rate = gaussian_filter1d(np.array(tire_data['gX']), 3) / 180 * np.pi\n",
    "else:\n",
    "    tire_rate = gaussian_filter1d(np.array(tire_data['gY']), 3)\n",
    "cf_from_radius = radius_est * (tire_rate)**2\n",
    "contact_delta = cf_component - cf_from_radius"
   ]
  },
  {
   "cell_type": "code",
   "execution_count": null,
   "metadata": {},
   "outputs": [],
   "source": [
    "# plot the data\n",
    "fig = make_subplots(rows=6, cols=1, shared_xaxes=True)\n",
    "fig.add_trace(go.Scatter(x=tire_data['time'], y=tire_data['aX'], name='aX'), row=1, col=1)\n",
    "fig.add_trace(go.Scatter(x=tire_data['time'], y=tire_data['aY'], name='aY'), row=1, col=1)\n",
    "fig.add_trace(go.Scatter(x=tire_data['time'], y=tire_data['aZ'], name='aZ'), row=1, col=1)\n",
    "fig.add_trace(go.Scatter(x=tire_data['time'], y=tire_data['aX.1'], name='aX.1'), row=1, col=1)\n",
    "fig.add_trace(go.Scatter(x=tire_data['time'], y=tire_data['aY.1'], name='aY.1'), row=1, col=1)\n",
    "fig.add_trace(go.Scatter(x=tire_data['time'], y=tire_data['aZ.1'], name='aZ.1'), row=1, col=1)\n",
    "fig.add_trace(go.Scatter(x=tire_data['time'], y=cf_component, name='cf_a'), row=2, col=1)\n",
    "fig.add_trace(go.Scatter(x=tire_data['time'], y=cf_from_radius, name='cf_r'), row=2, col=1)\n",
    "fig.add_trace(go.Scatter(x=tire_data['time'], y=contact_delta, name='cf_delta'), row=3, col=1)\n",
    "fig.add_trace(go.Scatter(x=tire_data['time'], y=tire_data['gX'], name='gX'), row=4, col=1)\n",
    "fig.add_trace(go.Scatter(x=tire_data['time'], y=tire_data['gY'], name='gY'), row=4, col=1)\n",
    "fig.add_trace(go.Scatter(x=tire_data['time'], y=tire_data['gZ'], name='gZ'), row=4, col=1)\n",
    "if 'PSI' in tire_data.columns:\n",
    "    fig.add_trace(go.Scatter(x=tire_data['time'], y=tire_data['PSI'], name='Pressure (absolute)'), row=5, col=1)\n",
    "else:\n",
    "    valid_pressure = tire_data['pressure'] > 0\n",
    "    fig.add_trace(go.Scatter(x=tire_data['time'][valid_pressure], y=tire_data['pressure'][valid_pressure], name='Pressure (absolute)'), row=5, col=1)\n",
    "fig.add_trace(go.Scatter(x=tire_data['time'], y=tire_data['temp'], name='Temperature'), row=5, col=1)\n",
    "fig.add_trace(go.Scatter(x=tire_data['time'], y=tire_data['queue'], name='Queue'), row=5, col=1)\n",
    "if 'output_Hz' in tire_data.columns:\n",
    "    fig.add_trace(go.Scatter(x=tire_data['time'], y=tire_data['output_Hz'], name='Hz'), row=6, col=1)\n",
    "else:\n",
    "    fig.add_trace(go.Scatter(x=tire_data['time'], y=1000000/tire_data['dt'], name='Hz'), row=6, col=1) # , mode=\"markers\"\n",
    "time_dt = np.zeros(len(tire_data['time']))\n",
    "time_dt[1:] = np.diff(tire_data['time'])\n",
    "fig.add_trace(go.Scatter(x=tire_data['time'], y=1/time_dt, name='Hz Real'), row=6, col=1)\n",
    "fig.update_layout(template=\"plotly_dark\",title_text=f\"Hi\")\n",
    "fig.show()\n"
   ]
  },
  {
   "cell_type": "code",
   "execution_count": null,
   "metadata": {},
   "outputs": [],
   "source": [
    "np.average(contact_delta[np.abs(contact_delta) < 3])"
   ]
  },
  {
   "cell_type": "code",
   "execution_count": null,
   "metadata": {},
   "outputs": [],
   "source": [
    "(one_revolution,) = np.where((tire_data['time'] > 48.15) & (tire_data['time'] < 48.3))\n",
    "middle_time = 48.24443\n",
    "tire_data['time_dt'] = tire_data['raw_time'] - tire_data['raw_time'].shift(1)\n",
    "tire_data['time_dt'][0] = 0\n",
    "(bad_times,) = np.where(tire_data['time_dt'] > np.ceil(tire_data['dt']/1000))\n",
    "corr_times = tire_data['dt'].copy() / 1000000\n",
    "corr_times[bad_times] = tire_data['time_dt'][bad_times] / 1000\n",
    "tire_data['angle'] = np.cumsum(tire_data['gX'] * corr_times) * 180 / np.pi\n",
    "(middle_ind,) = np.where(np.abs(tire_data['time'] - middle_time) < 0.0001)\n",
    "middle_angle = tire_data['angle'][middle_ind].values[0]\n",
    "angles = np.array(tire_data['angle'][one_revolution]) - middle_angle\n",
    "if angles[0] > 0:\n",
    "    angles *= -1\n",
    "times = tire_data['time'][one_revolution] - middle_time\n",
    "fig = make_subplots(rows=1, cols=1, shared_xaxes=True)\n",
    "fig.add_trace(go.Scatter(x=angles, y=tire_data['aX'][one_revolution]*9.81, name='aX'), row=1, col=1)\n",
    "fig.add_trace(go.Scatter(x=angles, y=tire_data['aY'][one_revolution]*9.81, name='aY'), row=1, col=1)\n",
    "fig.add_trace(go.Scatter(x=angles, y=tire_data['aZ'][one_revolution]*9.81, name='aZ'), row=1, col=1)\n",
    "fig.add_trace(go.Scatter(x=angles, y=tire_data['aX.1'][one_revolution]*9.81, name='aX.1'), row=1, col=1)\n",
    "fig.add_trace(go.Scatter(x=angles, y=tire_data['aY.1'][one_revolution]*9.81, name='aY.1'), row=1, col=1)\n",
    "fig.add_trace(go.Scatter(x=angles, y=tire_data['aZ.1'][one_revolution]*9.81, name='aZ.1'), row=1, col=1)\n",
    "delta_x = gaussian_filter1d(tire_data['aX'][one_revolution] - tire_data['aX.1'][one_revolution], 3)\n",
    "fig.add_trace(go.Scatter(x=angles, y=delta_x*9.81, name='daX'), row=1, col=1)\n",
    "fig.add_trace(go.Scatter(x=angles, y=cf_component[one_revolution], name='cf_a'), row=1, col=1)\n",
    "fig.add_trace(go.Scatter(x=angles, y=cf_from_radius[one_revolution], name='cf_r'), row=1, col=1)\n",
    "fig.add_trace(go.Scatter(x=angles, y=contact_delta[one_revolution], name='cf_delta'), row=1, col=1)\n",
    "fig.update_layout(template=\"plotly_dark\",title_text=f\"Hi\")\n",
    "fig.update_xaxes(title_text=\"Tire Angle (deg After BDC)\", row=1, col=1)\n",
    "fig.update_yaxes(title_text=\"Contact Force (m/s^2)\", row=1, col=1)\n",
    "fig.show()"
   ]
  },
  {
   "cell_type": "code",
   "execution_count": null,
   "metadata": {},
   "outputs": [],
   "source": [
    "initial_angle = -2.2\n",
    "final_angle = 3.9\n",
    "rate_at_bdc = tire_rate[middle_ind][0]\n",
    "speed_at_bdc = rate_at_bdc * radius_est\n",
    "total_angle = final_angle - initial_angle\n",
    "total_time = total_angle / (rate_at_bdc * 180 / np.pi)\n",
    "total_distance = speed_at_bdc * total_time\n",
    "print(f\"Speed at BDC: {speed_at_bdc:.3f} m/s\")\n",
    "print(f\"Total Angle: {total_angle:.2f} deg\")\n",
    "print(f\"Total Time: {total_time:.4f} s\")\n",
    "print(f\"Total Distance: {total_distance:.4f} m\")"
   ]
  },
  {
   "cell_type": "code",
   "execution_count": null,
   "metadata": {},
   "outputs": [],
   "source": [
    "tire_data.columns"
   ]
  },
  {
   "cell_type": "code",
   "execution_count": null,
   "metadata": {},
   "outputs": [],
   "source": [
    "tire_data"
   ]
  },
  {
   "cell_type": "code",
   "execution_count": null,
   "metadata": {},
   "outputs": [],
   "source": [
    "tire_data[tire_data['time'] == 0]"
   ]
  }
 ],
 "metadata": {
  "kernelspec": {
   "display_name": ".venv",
   "language": "python",
   "name": "python3"
  },
  "language_info": {
   "codemirror_mode": {
    "name": "ipython",
    "version": 3
   },
   "file_extension": ".py",
   "mimetype": "text/x-python",
   "name": "python",
   "nbconvert_exporter": "python",
   "pygments_lexer": "ipython3",
   "version": "3.11.9"
  },
  "orig_nbformat": 4,
  "vscode": {
   "interpreter": {
    "hash": "a40ddc490a6ab3d8d5c36ac4a91310ba012979717884fb4180c23af057abbc60"
   }
  }
 },
 "nbformat": 4,
 "nbformat_minor": 2
}
