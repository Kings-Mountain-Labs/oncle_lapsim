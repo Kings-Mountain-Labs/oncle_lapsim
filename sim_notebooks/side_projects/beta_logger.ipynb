{
 "cells": [
  {
   "cell_type": "code",
   "execution_count": null,
   "metadata": {},
   "outputs": [],
   "source": [
    "import numpy as np\n",
    "import plotly.graph_objects as go\n",
    "import plotly.express as px\n",
    "from scipy.ndimage import uniform_filter1d, gaussian_filter1d\n",
    "import pandas as pd\n",
    "import pymap3d as pm\n",
    "from plotly.subplots import make_subplots\n"
   ]
  },
  {
   "cell_type": "code",
   "execution_count": null,
   "metadata": {},
   "outputs": [],
   "source": [
    "# load the tire data file\n",
    "# tire_data = pd.read_csv('../Data/logs/dataLog00121.TXT')\n",
    "# tire_data = pd.read_csv('../Data/logs/Data71.csv')\n",
    "data_num = \"18\"\n",
    "dt = np.dtype([('time', '<u4'),\n",
    "('micros', '<u4'),\n",
    "('temp', 'f4'),\n",
    "('aX', 'f4'),\n",
    "('aY', 'f4'),\n",
    "('aZ', 'f4'),\n",
    "('gX', 'f4'),\n",
    "('gY', 'f4'),\n",
    "('gZ', 'f4'),\n",
    "('dt', '<u4'),\n",
    "('queue', '<u4'),])\n",
    "with open(f'../Data/logs/Data{data_num}.bin', 'rb') as f:\n",
    "    b = f.read()\n",
    "# truncate to the nearest multiple of the dtype size\n",
    "if len(b) % dt.itemsize != 0:\n",
    "    b = b[:-(len(b) % dt.itemsize)]\n",
    "data = np.frombuffer(b, dtype=dt)\n",
    "data = np.sort(data, order='micros')\n",
    "tire_data = pd.DataFrame(data[50:])\n",
    "gpsdt = np.dtype([('latitude', 'i4'),\n",
    "('longitude', 'i4'),\n",
    "('altitude', 'i4'),\n",
    "('fixType', 'u1'),\n",
    "('carrSoln', 'u1'),\n",
    "('bs', 'u2'),\n",
    "('hAcc', 'i4'),\n",
    "('vAcc', 'i4'),\n",
    "('micros', 'u4'),\n",
    "('sensor_id', '>u1'),\n",
    "('bss', 'u2'),\n",
    "('bsss', 'u1'),])\n",
    "print(gpsdt.itemsize)\n",
    "with open(f'../Data/logs/gpsData{data_num}.bin', 'rb') as f:\n",
    "    b = f.read()\n",
    "# truncate to the nearest multiple of the dtype size\n",
    "if len(b) % gpsdt.itemsize != 0:\n",
    "    b = b[:-(len(b) % gpsdt.itemsize)]\n",
    "gpsdata = np.frombuffer(b, dtype=gpsdt)\n",
    "gpsdata = np.sort(gpsdata, order='micros')\n",
    "gps_data = pd.DataFrame(gpsdata[5:])\n",
    "gps_data['latitude'] = gps_data['latitude'] * 1e-7\n",
    "gps_data['longitude'] = gps_data['longitude'] * 1e-7\n",
    "gps_data['altitude'] = gps_data['altitude'] * 1e-3\n",
    "# separate the gps data by sensor id\n",
    "# print(gps_data['sensor_id'])\n",
    "for i in range(0, gps_data['sensor_id'].max()+1):\n",
    "    globals()[f'gps_data_{i}'] = gps_data[gps_data['sensor_id'] == i]\n"
   ]
  },
  {
   "cell_type": "code",
   "execution_count": null,
   "metadata": {},
   "outputs": [],
   "source": [
    "tire_data['aX'] = tire_data['aX'] / 9.81\n",
    "tire_data['aY'] = tire_data['aY'] / 9.81\n",
    "tire_data['aZ'] = tire_data['aZ'] / 9.81\n",
    "\n",
    "# swap x and y axes\n",
    "tire_data['aX'], tire_data['aY'] = tire_data['aY'], tire_data['aX'].copy()\n",
    "tire_data['gX'], tire_data['gY'] = tire_data['gY'], tire_data['gX'].copy()\n",
    "tire_data['raw_time'] = tire_data['time']\n",
    "tire_data['time'] = tire_data['micros'] / 1000000\n",
    "\n",
    "# make gps_data_0 the same length as gps_data_1\n",
    "if len(gps_data_0) > len(gps_data_1):\n",
    "    gps_data_0 = gps_data_0[:len(gps_data_1)]\n",
    "elif len(gps_data_0) < len(gps_data_1):\n",
    "    gps_data_1 = gps_data_1[:len(gps_data_0)]"
   ]
  },
  {
   "cell_type": "code",
   "execution_count": null,
   "metadata": {},
   "outputs": [],
   "source": [
    "# plot the data\n",
    "fig = make_subplots(rows=8, cols=1, shared_xaxes=True)\n",
    "fig.add_trace(go.Scattergl(x=tire_data['time'], y=tire_data['aX'], name='aX'), row=1, col=1)\n",
    "fig.add_trace(go.Scattergl(x=tire_data['time'], y=tire_data['aY'], name='aY'), row=1, col=1)\n",
    "fig.add_trace(go.Scattergl(x=tire_data['time'], y=tire_data['aZ'], name='aZ'), row=1, col=1)\n",
    "fig.add_trace(go.Scattergl(x=tire_data['time'], y=tire_data['gX'], name='gX'), row=2, col=1)\n",
    "fig.add_trace(go.Scattergl(x=tire_data['time'], y=tire_data['gY'], name='gY'), row=2, col=1)\n",
    "fig.add_trace(go.Scattergl(x=tire_data['time'], y=tire_data['gZ'], name='gZ'), row=2, col=1)\n",
    "fig.add_trace(go.Scattergl(x=tire_data['time'], y=tire_data['temp'], name='Temperature'), row=3, col=1)\n",
    "fig.add_trace(go.Scattergl(x=tire_data['time'], y=tire_data['queue'], name='Queue'), row=3, col=1)\n",
    "if 'output_Hz' in tire_data.columns:\n",
    "    fig.add_trace(go.Scattergl(x=tire_data['time'], y=tire_data['output_Hz'], name='Hz'), row=4, col=1)\n",
    "else:\n",
    "    fig.add_trace(go.Scattergl(x=tire_data['time'], y=1000000/tire_data['dt'], name='Hz'), row=4, col=1) # , mode=\"markers\"\n",
    "time_dt = np.zeros(len(tire_data['time']))\n",
    "time_dt[1:] = np.diff(tire_data['time'])\n",
    "fig.add_trace(go.Scattergl(x=tire_data['time'], y=1/time_dt, name='Hz Real'), row=4, col=1)\n",
    "for i in range(0, gps_data['sensor_id'].max()+1):\n",
    "    fig.add_trace(go.Scattergl(x=globals()[f'gps_data_{i}']['micros']/1000000, y=globals()[f'gps_data_{i}']['latitude'], name=f'gps_data_{i}'), row=5, col=1)\n",
    "    fig.add_trace(go.Scattergl(x=globals()[f'gps_data_{i}']['micros']/1000000, y=globals()[f'gps_data_{i}']['longitude'], name=f'gps_data_{i}'), row=6, col=1)\n",
    "    fig.add_trace(go.Scattergl(x=globals()[f'gps_data_{i}']['micros']/1000000, y=globals()[f'gps_data_{i}']['altitude'], name=f'gps_data_{i}'), row=7, col=1)\n",
    "    fig.add_trace(go.Scattergl(x=globals()[f'gps_data_{i}']['micros']/1000000, y=globals()[f'gps_data_{i}']['hAcc'], name=f'gps_data_{i} horizontal'), row=8, col=1)\n",
    "    fig.add_trace(go.Scattergl(x=globals()[f'gps_data_{i}']['micros']/1000000, y=globals()[f'gps_data_{i}']['vAcc'], name=f'gps_data_{i} vert'), row=8, col=1)\n",
    "\n",
    "fig.update_layout(template=\"plotly_dark\", title_text=f\"Hi\", height=1000, width=1000)\n",
    "fig.show()\n"
   ]
  },
  {
   "cell_type": "code",
   "execution_count": null,
   "metadata": {},
   "outputs": [],
   "source": [
    "px.set_mapbox_access_token(open(\".mapbox_token\").read())\n",
    "fig = px.scatter_mapbox(lat=[37.14035], lon=[-121.6234], size_max=15, zoom=14)\n",
    "for i in range(0, gps_data['sensor_id'].max()+1):\n",
    "    fig.add_scattermapbox(lat=globals()[f'gps_data_{i}']['latitude'], lon=globals()[f'gps_data_{i}']['longitude'], name=f'gps_data_{i}')\n",
    "fig.update_layout(template=\"plotly_dark\", title_text=f\"Hi\", height=1000, width=1000, mapbox_style=\"mapbox://styles/eppicjr/ck4qx60vr00jy1co6u7ckgg6e\")\n",
    "fig.show()"
   ]
  },
  {
   "cell_type": "code",
   "execution_count": null,
   "metadata": {},
   "outputs": [],
   "source": [
    "# Convert to enu from lat/lon\n",
    "datum = [37.14035, -121.6234]\n",
    "fig = go.Figure()\n",
    "for i in range(0, gps_data['sensor_id'].max()+1):\n",
    "    east, north, up = pm.geodetic2enu(globals()[f'gps_data_{i}']['latitude'], globals()[f'gps_data_{i}']['longitude'], globals()[f'gps_data_{i}']['altitude'], datum[0], datum[1], 0)\n",
    "    fig.add_trace(go.Scattergl(x=east, y=north, mode='markers', marker=dict(color=globals()[f'gps_data_{i}']['micros']/1000000, colorscale='Viridis', showscale=True), name=f'gps_data_{i}'))\n",
    "    globals()[f'gps_data_{i}']['east'] = east\n",
    "    globals()[f'gps_data_{i}']['north'] = north\n",
    "    globals()[f'gps_data_{i}']['up'] = up\n",
    "    # calculate heading and speed\n",
    "    globals()[f'gps_data_{i}']['heading'] = np.zeros(len(globals()[f'gps_data_{i}']['micros']))\n",
    "    globals()[f'gps_data_{i}']['speed'] = np.zeros(len(globals()[f'gps_data_{i}']['micros']))\n",
    "    # vel in enu\n",
    "    globals()[f'gps_data_{i}']['vel_east'] = np.zeros(len(globals()[f'gps_data_{i}']['micros']))\n",
    "    globals()[f'gps_data_{i}']['vel_north'] = np.zeros(len(globals()[f'gps_data_{i}']['micros']))\n",
    "    globals()[f'gps_data_{i}']['vel_up'] = np.zeros(len(globals()[f'gps_data_{i}']['micros']))\n",
    "    globals()[f'gps_data_{i}']['vel_east'][1:] = np.diff(globals()[f'gps_data_{i}']['east'])/np.diff(globals()[f'gps_data_{i}']['micros'])*1000000\n",
    "    globals()[f'gps_data_{i}']['vel_north'][1:] = np.diff(globals()[f'gps_data_{i}']['north'])/np.diff(globals()[f'gps_data_{i}']['micros'])*1000000\n",
    "    globals()[f'gps_data_{i}']['vel_up'][1:] = np.diff(globals()[f'gps_data_{i}']['up'])/np.diff(globals()[f'gps_data_{i}']['micros'])*1000000\n",
    "    # heading and speed\n",
    "    globals()[f'gps_data_{i}']['heading'][1:] = np.arctan2(globals()[f'gps_data_{i}']['vel_east'][1:], globals()[f'gps_data_{i}']['vel_north'][1:])\n",
    "    globals()[f'gps_data_{i}']['speed'][1:] = np.sqrt(globals()[f'gps_data_{i}']['vel_east'][1:]**2 + globals()[f'gps_data_{i}']['vel_north'][1:]**2)\n",
    "\n",
    "fig.update_layout(template=\"plotly_dark\", title_text=f\"Hi\", height=1000, width=1000)\n",
    "fig.show()\n",
    "    "
   ]
  },
  {
   "cell_type": "code",
   "execution_count": null,
   "metadata": {},
   "outputs": [],
   "source": [
    "# Distance between points\n",
    "dist = np.sqrt((np.array(gps_data_0['east']) - np.array(gps_data_1['east']))**2 + (np.array(gps_data_0['north']) - np.array(gps_data_1['north']))**2)\n",
    "angle = np.arctan2(np.array(gps_data_0['east']) - np.array(gps_data_1['east']), np.array(gps_data_0['north']) - np.array(gps_data_1['north']))\n",
    "print(dist)\n",
    "fig = make_subplots(rows=3, cols=1, shared_xaxes=True)\n",
    "fig.add_trace(go.Scattergl(x=gps_data_0['micros']/1000000, y=dist, name='dist'), row=1, col=1)\n",
    "fig.add_trace(go.Scattergl(x=gps_data_0['micros']/1000000, y=np.rad2deg(angle), name='angle'), row=2, col=1)\n",
    "for i in range(0, gps_data['sensor_id'].max()+1):\n",
    "    fig.add_trace(go.Scattergl(x=globals()[f'gps_data_{i}']['micros']/1000000, y=globals()[f'gps_data_{i}']['speed'], name=f'gps_data_{i}'), row=3, col=1)\n",
    "    fig.add_trace(go.Scattergl(x=globals()[f'gps_data_{i}']['micros']/1000000, y=np.rad2deg(globals()[f'gps_data_{i}']['heading']), name=f'gps_data_{i}'), row=2, col=1)\n",
    "fig.update_layout(template=\"plotly_dark\", title_text=f\"Hi\", height=1000, width=1000)\n",
    "fig.show()"
   ]
  },
  {
   "cell_type": "code",
   "execution_count": null,
   "metadata": {},
   "outputs": [],
   "source": []
  }
 ],
 "metadata": {
  "kernelspec": {
   "display_name": ".venv",
   "language": "python",
   "name": "python3"
  },
  "language_info": {
   "codemirror_mode": {
    "name": "ipython",
    "version": 3
   },
   "file_extension": ".py",
   "mimetype": "text/x-python",
   "name": "python",
   "nbconvert_exporter": "python",
   "pygments_lexer": "ipython3",
   "version": "3.11.9"
  },
  "orig_nbformat": 4,
  "vscode": {
   "interpreter": {
    "hash": "a40ddc490a6ab3d8d5c36ac4a91310ba012979717884fb4180c23af057abbc60"
   }
  }
 },
 "nbformat": 4,
 "nbformat_minor": 2
}
