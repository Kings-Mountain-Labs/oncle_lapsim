{
 "cells": [
  {
   "cell_type": "code",
   "execution_count": null,
   "metadata": {},
   "outputs": [],
   "source": [
    "import numpy as np\n",
    "import sys\n",
    "import os\n",
    "from dataclasses import dataclass\n",
    "from scipy.optimize import least_squares, fmin\n",
    "from plotly.subplots import make_subplots\n",
    "import plotly.graph_objects as go\n",
    "import plotly.express as px\n",
    "import pandas as pd\n",
    "from typing import Dict, List\n",
    "import time\n",
    "from numpy.typing import ArrayLike\n",
    "sys.path.append('../Functions/py_functions/') # This path is so that within each function file, you can import the other function files with relative paths\n",
    "sys.path.append('../') # This path is so that we can import the functions folder from the root directory compared to where this file is\n",
    "from Functions.py_functions.loading_util import make_path\n",
    "from Functions.py_functions.tire_model.tire_model_pacejka_2010 import *\n",
    "from Functions.py_functions.tire_model.tire_model_fitting import *\n",
    "from Functions.py_functions.tire_model.ttc_loader import *\n",
    "from Functions.py_functions.tire_model.tire_fitting_masks import *\n",
    "from Functions.py_functions.tire_model.tire_model_utils import *\n",
    "from Functions.py_functions.constants import *"
   ]
  },
  {
   "cell_type": "code",
   "execution_count": null,
   "metadata": {},
   "outputs": [],
   "source": [
    "# Get the ttc data for the tire you want to fit\n",
    "combi_runs, cornering, drive_brake, name = load_runs(get_R20_18x6_7_runs())\n",
    "# create all the boring lists and stuff\n",
    "params_list: List = []\n",
    "error_list: List = []"
   ]
  },
  {
   "cell_type": "code",
   "execution_count": null,
   "metadata": {},
   "outputs": [],
   "source": [
    "# If you want to start from the default tir file\n",
    "# tire_model = readTIR(make_path('./Data/TTCData/TIR_Templates/FSAE_Defaults.tir'))\n",
    "# or from a existing set of parameters\n",
    "tire_model = tire_model_from_arr(H_R20_18X6_7)"
   ]
  },
  {
   "cell_type": "code",
   "execution_count": null,
   "metadata": {},
   "outputs": [],
   "source": [
    "arr_len = 100\n",
    "kappas = np.linspace(-0.3, 0, arr_len)\n",
    "fz = 900 # N\n",
    "phit = 0.0#14\n",
    "vel = 11.1 # m/s\n",
    "press = 82700 #68900 # Pa\n",
    "wheel_speed = 11.1 # m/s\n",
    "alphas = np.zeros(arr_len)\n",
    "inputs = np.array([np.ones(arr_len) * fz, kappas, alphas, np.zeros(arr_len), np.ones(arr_len) * phit, np.ones(arr_len) * vel, np.ones(arr_len) * press, np.ones(arr_len) * wheel_speed]).T\n",
    "out = tire_model.fullSteadyState(inputs, use_turnslip=True)\n",
    "fx = out[:, 0]\n",
    "fy = out[:, 1]\n",
    "mz = out[:, 5]\n",
    "\n",
    "torque_est = fx * 8 * IN_TO_M / 3.5\n",
    "# plot Fx vs kappa\n",
    "fig = go.Figure()\n",
    "fig.add_trace(go.Scatter(x=kappas, y=torque_est, name='Fx'))\n",
    "fig.update_layout(template=\"plotly_dark\", margin=dict(l=0, r=0, b=0, t=0), xaxis_title='SR', yaxis_title='Mx (Nm)', legend=dict(orientation=\"h\", yanchor=\"bottom\", y=0.02, xanchor=\"right\", x=1))\n",
    "fig.show()\n",
    "# generate the derivative of Fx vs kappa\n",
    "dfx_dkappa = np.gradient(torque_est, kappas)\n",
    "# plot the derivative of Fx vs kappa\n",
    "fig = go.Figure()\n",
    "fig.add_trace(go.Scatter(x=kappas, y=dfx_dkappa, name='dFx/dSR'))\n",
    "fig.update_layout(template=\"plotly_dark\", margin=dict(l=0, r=0, b=0, t=0), xaxis_title='SR', yaxis_title='dMx/dSR (Nm/SR)', legend=dict(orientation=\"h\", yanchor=\"bottom\", y=0.02, xanchor=\"right\", x=1))\n",
    "fig.show()\n"
   ]
  }
 ],
 "metadata": {
  "kernelspec": {
   "display_name": ".venv",
   "language": "python",
   "name": "python3"
  },
  "language_info": {
   "codemirror_mode": {
    "name": "ipython",
    "version": 3
   },
   "file_extension": ".py",
   "mimetype": "text/x-python",
   "name": "python",
   "nbconvert_exporter": "python",
   "pygments_lexer": "ipython3",
   "version": "3.11.5"
  },
  "orig_nbformat": 4,
  "vscode": {
   "interpreter": {
    "hash": "a40ddc490a6ab3d8d5c36ac4a91310ba012979717884fb4180c23af057abbc60"
   }
  }
 },
 "nbformat": 4,
 "nbformat_minor": 2
}
