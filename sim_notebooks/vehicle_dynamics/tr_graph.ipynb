{
 "cells": [
  {
   "cell_type": "code",
   "execution_count": null,
   "metadata": {},
   "outputs": [],
   "source": [
    "import sys\n",
    "import plotly.graph_objects as go\n",
    "from plotly.subplots import make_subplots\n",
    "import plotly.express as px\n",
    "from toolkit.common.constants import *\n",
    "from toolkit.cars.car_configuration import Car\n",
    "from toolkit.lap.track import *\n",
    "from toolkit.lapsim.multi_sim import MultiSim"
   ]
  },
  {
   "cell_type": "code",
   "execution_count": null,
   "metadata": {},
   "outputs": [],
   "source": [
    "tracks = []\n",
    "v_average = 15\n",
    "mu_corr = 0.65 # mu correction factor, a value of 1 means the road is sandpaper and the actual value should be something lower but im kinda just setting this value to overfit atm\n",
    "target = 0.001\n",
    "total_rsd = 900"
   ]
  },
  {
   "cell_type": "code",
   "execution_count": null,
   "metadata": {},
   "outputs": [],
   "source": [
    "# here we make a function that generates a car with a given roll stiffness distribution and chassis roll stiffness\n",
    "# the first and second arguments take the values of the first and second sweep variables that you give to run_sim\n",
    "def gen_car_lltd(rsd, k_c):\n",
    "    total_roll_stiffness = total_rsd * FTLB_TO_NM\n",
    "    car = Car()\n",
    "    car.k_f = total_roll_stiffness * rsd\n",
    "    car.k_r = total_roll_stiffness * (1-rsd)\n",
    "    car.k_c = k_c\n",
    "    car.description = f\"rsd:{rsd:.2f} k_c:{k_c:.2f}\"\n",
    "    return car\n",
    "# do a sweep of roll stiffness distribution and chassis roll stiffness\n",
    "rsd_range = np.linspace(0.2, 0.8, 50)\n",
    "# k_c_r = np.linspace(100, 10000, 50)\n",
    "k_c_r = np.array([600, 1000, 1200, 1300, 1400, 1500, 1800, 2500, 999999999])#np.geomspace(100, 10000, 25)\n",
    "sim = MultiSim(tracks, gen_car_lltd, rsd_range, k_c_r, \"Roll Stiffness Distribution\", \"Chassis Roll Stiffness (lbf/deg)\")"
   ]
  },
  {
   "cell_type": "code",
   "execution_count": null,
   "metadata": {},
   "outputs": [],
   "source": [
    "sim.run_lltd()"
   ]
  },
  {
   "cell_type": "code",
   "execution_count": null,
   "metadata": {},
   "outputs": [],
   "source": [
    "fig = go.Figure()\n",
    "for i, k_c in enumerate(k_c_r):\n",
    "    fig.add_trace(go.Scatter(x=rsd_range, y=sim.lltd[i, :], name=f\"{k_c:.0f} lbf/deg\"))\n",
    "\n",
    "# make some vertical lines to show the roll stiffness distribution of the car\n",
    "for rsd in [0.25, 0.64]:\n",
    "    fig.add_trace(go.Scatter(x=[rsd, rsd], y=[0, 1], name=f\"RSD {rsd:.2f}\", line=dict(color=\"red\")))\n",
    "for rsd in [0.31, 0.50]:\n",
    "    fig.add_trace(go.Scatter(x=[rsd, rsd], y=[0, 1], name=f\"RSD {rsd:.2f}\", line=dict(color=\"blue\")))\n",
    "# and some horizontal lines that are dashed to show the target LLTDs\n",
    "for lltd in [0.25, 0.5]:\n",
    "    fig.add_trace(go.Scatter(x=[0, 1], y=[lltd, lltd], name=f\"LLTD {lltd:.2f}\", line=dict(color=\"green\")))\n",
    "\n",
    "# set the rsd range of the plot to show\n",
    "fig.update_xaxes(range=[0.2, 0.8])\n",
    "# set the lltd range of the plot to show\n",
    "fig.update_yaxes(range=[0.15, 0.8])\n",
    "fig.update_layout(title=\"Lateral Load Transfer Distribution vs Roll Stiffness Distribution and Chassis Roll Stiffness\", xaxis_title=\"Roll Stiffness Distribution\", yaxis_title=\"Lateral Load Transfer Distribution\", height=768, width=1024)\n",
    "fig.show()"
   ]
  },
  {
   "cell_type": "code",
   "execution_count": null,
   "metadata": {},
   "outputs": [],
   "source": [
    "fig = go.Figure()\n",
    "fig.add_contour(x=rsd_range, y=(k_c_r/(900 * FTLB_TO_NM)), z=np.abs(sim.lltd_diff) * 100, colorbar=dict(title=\"LLTD error %\"), colorscale='Viridis', contours=dict(\n",
    "            coloring ='heatmap',\n",
    "            showlabels = True, # show labels on contours\n",
    "            labelfont = dict( # label font properties\n",
    "                size = 12,\n",
    "                color = 'white',)),\n",
    "            line_smoothing=0.85)\n",
    "# fig.add_scatter(x=[0.2, 0.8], y=[1.5, 1.5], mode=\"lines\", name=\"Target\", line=dict(color=\"red\", dash=\"dash\"))\n",
    "fig.update_layout(title=\"LLTD Error\", xaxis_title=\"λ, Roll Stiffness Distribution (% Front)\", yaxis_title=\"μ, Kc/(Kf+Kr)\", height=768, width=1024)\n",
    "# make the y axis log scale\n",
    "fig.update_yaxes(type=\"log\")\n",
    "fig.show()"
   ]
  },
  {
   "cell_type": "code",
   "execution_count": null,
   "metadata": {},
   "outputs": [],
   "source": [
    "fig = go.Figure()\n",
    "fig.add_contour(x=rsd_range, y=(k_c_r/(total_rsd * FTLB_TO_NM)), z=sim.lltd, colorbar=dict(title=\"LLTD (% Front)\"), colorscale='Viridis', contours=dict(\n",
    "            coloring ='heatmap',\n",
    "            showlabels = True, # show labels on contours\n",
    "            labelfont = dict( # label font properties\n",
    "                size = 12,\n",
    "                color = 'white',)),\n",
    "            line_smoothing=0.85)\n",
    "mu = (1400 * FTLB_TO_NM) / (total_rsd * FTLB_TO_NM)\n",
    "fig.add_scatter(x=[0.2, 0.8], y=[mu, mu], mode=\"lines\", name=\"Target\", line=dict(color=\"red\", dash=\"dash\"))\n",
    "fig.update_layout(title=\"LLTD Error\", xaxis_title=\"λ, Roll Stiffness Distribution (% Front)\", yaxis_title=\"μ, Kc/(Kf+Kr)\", height=768, width=1024)\n",
    "# make the y axis log scale\n",
    "fig.update_yaxes(type=\"log\")\n",
    "fig.show()"
   ]
  },
  {
   "cell_type": "code",
   "execution_count": null,
   "metadata": {},
   "outputs": [],
   "source": []
  }
 ],
 "metadata": {
  "kernelspec": {
   "display_name": ".venv",
   "language": "python",
   "name": "python3"
  },
  "language_info": {
   "codemirror_mode": {
    "name": "ipython",
    "version": 3
   },
   "file_extension": ".py",
   "mimetype": "text/x-python",
   "name": "python",
   "nbconvert_exporter": "python",
   "pygments_lexer": "ipython3",
   "version": "3.11.5"
  },
  "orig_nbformat": 4
 },
 "nbformat": 4,
 "nbformat_minor": 2
}
