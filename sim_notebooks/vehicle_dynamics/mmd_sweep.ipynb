{
 "cells": [
  {
   "cell_type": "code",
   "execution_count": null,
   "metadata": {},
   "outputs": [],
   "source": [
    "import numpy as np\n",
    "import plotly.graph_objects as go\n",
    "import io\n",
    "import PIL\n",
    "from toolkit.common.constants import *\n",
    "from toolkit.cars.car_configuration import Car\n",
    "from toolkit.lap.track import *\n",
    "from toolkit.mmd import MMD\n",
    "from toolkit.tire_model.tire_model_utils import *\n",
    "from toolkit.steady_state_solver import LS_Solver, Parachute, Iterative_Solver"
   ]
  },
  {
   "cell_type": "code",
   "execution_count": null,
   "metadata": {},
   "outputs": [],
   "source": [
    "car = Car()\n",
    "car.k_c = 1400 * FTLB_TO_NM\n",
    "car.k_f = 374\n",
    "car.k_r = 928\n",
    "car.z_f = 0.13 * IN_TO_M\n",
    "car.z_r = 1.0 * IN_TO_M\n",
    "car.set_lltd()\n",
    "car.set_tire(H_R20_18X6_7)\n",
    "\n",
    "solver = Iterative_Solver()\n",
    "# solver = LS_Solver()\n",
    "# solver = Parachute()"
   ]
  },
  {
   "cell_type": "code",
   "execution_count": null,
   "metadata": {},
   "outputs": [],
   "source": [
    "fig = go.Figure()\n",
    "fig.update_xaxes(title_text='Lat Acc (G)')\n",
    "fig.update_yaxes(title_text='Cn')\n",
    "\n",
    "vels = np.linspace(6, 25, 25)#[5.0, 7.5, 10.0, 12.5, 15.0, 17.5, 20.0, 22.5, 25.0, 27.5, 30.0]\n",
    "obj_steps = [(0, 0)] * len(vels)\n",
    "\n",
    "figs = []\n",
    "# find max and min of all data\n",
    "max_cn, max_ay = 15, 2\n",
    "for i, v in enumerate(vels):\n",
    "    mmd = MMD(car, solver=solver)\n",
    "    print(f\"Running {v:.1f} m/s\")\n",
    "    mmd.mmd_sweep(v, size=21, seeded=True, max_beta=25, max_delta=25, mu=0.65)\n",
    "    # mmd.clear_high_sa(max_sa=15)\n",
    "    fig2 = go.Figure()\n",
    "    fig2.update_xaxes(title_text='Lat Acc (G)')\n",
    "    fig2.update_yaxes(title_text='Cn')\n",
    "    obj_range = mmd.add_mmd(fig, f\"{v:.1f} m/s\")\n",
    "    figs.append(PIL.Image.open(io.BytesIO(mmd.plot_mmd(pub=True, return_fig=True).to_image(format=\"png\"))))\n",
    "    obj_steps[i] = obj_range\n",
    "    max_cn = max(max_cn, np.max(mmd.cn))\n",
    "    max_ay = max(max_ay, np.max(mmd.ay)/G)\n",
    "\n",
    "for ob in fig.data[obj_steps[0][0]:obj_steps[0][1]]: ob.visible = True\n",
    "steps = []\n",
    "for i, v in enumerate(vels):\n",
    "    step = dict(\n",
    "        method=\"update\",\n",
    "        args=[{\"visible\": [False] * len(fig.data)}],  # layout attribute\n",
    "        label=f\"{v:.1f} m/s\"\n",
    "    )\n",
    "    step[\"args\"][0][\"visible\"][obj_steps[i][0]:obj_steps[i][1]] = [True] * (obj_steps[i][1] - obj_steps[i][0])\n",
    "    steps.append(step)\n",
    "\n",
    "sliders = [dict(active=10, currentvalue={\"prefix\": \"Velocity: \"}, pad={\"t\": 50}, steps=steps)]\n",
    "\n",
    "fig.update_layout(sliders=sliders, title_text=f\"2D MMD Across Velocity\", height=1024, width=1024) # , template=\"plotly_dark\"\n",
    "fig.update_xaxes(range=[-max_ay*1.1, max_ay*1.1])\n",
    "fig.update_yaxes(range=[-max_cn*1.1, max_cn*1.1])\n",
    "\n",
    "# create animated GIF\n",
    "figs[0].save(\n",
    "        \"test.gif\",\n",
    "        save_all=True,\n",
    "        append_images=figs[1:],\n",
    "        optimize=True,\n",
    "        duration=500,\n",
    "        loop=0,\n",
    "    )\n",
    "\n",
    "fig.show()"
   ]
  },
  {
   "cell_type": "code",
   "execution_count": null,
   "metadata": {},
   "outputs": [],
   "source": []
  }
 ],
 "metadata": {
  "kernelspec": {
   "display_name": ".venv",
   "language": "python",
   "name": "python3"
  },
  "language_info": {
   "codemirror_mode": {
    "name": "ipython",
    "version": 3
   },
   "file_extension": ".py",
   "mimetype": "text/x-python",
   "name": "python",
   "nbconvert_exporter": "python",
   "pygments_lexer": "ipython3",
   "version": "3.11.9"
  },
  "orig_nbformat": 4
 },
 "nbformat": 4,
 "nbformat_minor": 2
}
