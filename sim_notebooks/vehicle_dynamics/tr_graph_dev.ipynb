{
 "cells": [
  {
   "cell_type": "code",
   "execution_count": null,
   "metadata": {},
   "outputs": [],
   "source": [
    "import plotly.graph_objects as go\n",
    "from plotly.subplots import make_subplots\n",
    "import plotly.express as px\n",
    "from toolkit.common.constants import *\n",
    "from toolkit.cars.car_configuration import Car\n",
    "from toolkit.lap.track import *\n",
    "from toolkit.lapsim.multi_sim import MultiSim"
   ]
  },
  {
   "cell_type": "code",
   "execution_count": null,
   "metadata": {},
   "outputs": [],
   "source": [
    "tracks = []\n",
    "v_average = 15\n",
    "mu_corr = 0.65 # mu correction factor, a value of 1 means the road is sandpaper and the actual value should be something lower but im kinda just setting this value to overfit atm\n",
    "target = 0.001\n",
    "tr = 600 * FTLB_TO_NM"
   ]
  },
  {
   "cell_type": "code",
   "execution_count": null,
   "metadata": {},
   "outputs": [],
   "source": [
    "# here we make a function that generates a car with a given roll stiffness distribution and chassis roll stiffness\n",
    "# the first and second arguments take the values of the first and second sweep variables that you give to run_sim\n",
    "def gen_car_lltd(rsd, trs):\n",
    "    total_roll_stiffness = trs * FTLB_TO_NM\n",
    "    car = Car()\n",
    "    car.z_f = 0.13 * IN_TO_M\n",
    "    car.z_r = 1.0 * IN_TO_M\n",
    "    car.k_f = total_roll_stiffness * rsd\n",
    "    car.k_r = total_roll_stiffness * (1-rsd)\n",
    "    car.k_c = tr\n",
    "    car.description = f\"rsd:{rsd:.2f} trs:{trs:.2f}\"\n",
    "    return car\n",
    "\n",
    "# do a sweep of roll stiffness distribution and chassis roll stiffness\n",
    "rsd_range = np.linspace(0.1, 0.8, 50)\n",
    "# k_c_r = np.linspace(100, 10000, 50)\n",
    "trs_r = np.geomspace(250, 1750, 25)\n",
    "sim = MultiSim(tracks, gen_car_lltd, rsd_range, trs_r, \"Roll Stiffness Distribution\", \"Suspension Roll Stiffness (lbf/deg)\")"
   ]
  },
  {
   "cell_type": "code",
   "execution_count": null,
   "metadata": {},
   "outputs": [],
   "source": [
    "sim.run_lltd()"
   ]
  },
  {
   "cell_type": "code",
   "execution_count": null,
   "metadata": {},
   "outputs": [],
   "source": [
    "fig = go.Figure()\n",
    "fig.add_contour(x=rsd_range, y=((tr)/(trs_r * FTLB_TO_NM)), z=np.abs(sim.lltd_diff) * 100, colorbar=dict(title=\"LLTD error %\"), colorscale='Viridis', contours=dict(\n",
    "            coloring ='heatmap',\n",
    "            showlabels = True, # show labels on contours\n",
    "            labelfont = dict( # label font properties\n",
    "                size = 12,\n",
    "                color = 'white',)),\n",
    "            line_smoothing=0.85)\n",
    "# fig.add_scatter(x=[0.2, 0.8], y=[1.5, 1.5], mode=\"lines\", name=\"Target\", line=dict(color=\"red\", dash=\"dash\"))\n",
    "fig.update_layout(title=\"LLTD Error\", xaxis_title=\"λ, Roll Stiffness Distribution (% Front)\", yaxis_title=\"μ, Kc/(Kf+Kr)\", height=768, width=1024)\n",
    "# make the y axis log scale\n",
    "fig.update_yaxes(type=\"log\")\n",
    "fig.show()"
   ]
  },
  {
   "cell_type": "code",
   "execution_count": null,
   "metadata": {},
   "outputs": [],
   "source": [
    "fig = go.Figure()\n",
    "fig.add_contour(x=rsd_range, y=(tr/(trs_r * FTLB_TO_NM)), z=sim.lltd, colorbar=dict(title=\"LLTD error %\"), colorscale='Viridis', contours=dict(\n",
    "            coloring ='heatmap',\n",
    "            showlabels = True, # show labels on contours\n",
    "            labelfont = dict( # label font properties\n",
    "                size = 12,\n",
    "                color = 'white',)),\n",
    "            line_smoothing=0.85)\n",
    "# mu = tr / (trs_r * FTLB_TO_NM)\n",
    "# fig.add_scatter(x=[0.2, 0.8], y=[mu, mu], mode=\"lines\", name=\"Target\", line=dict(color=\"red\", dash=\"dash\"))\n",
    "fig.update_layout(title=\"LLTD Error\", xaxis_title=\"λ, Roll Stiffness Distribution (% Front)\", yaxis_title=\"μ, Kc/(Kf+Kr)\", height=768, width=1024)\n",
    "# make the y axis log scale\n",
    "fig.update_yaxes(type=\"log\")\n",
    "fig.show()"
   ]
  },
  {
   "cell_type": "code",
   "execution_count": null,
   "metadata": {},
   "outputs": [],
   "source": [
    "car = gen_car_lltd(0.5, 100)\n",
    "setting_names = [\"D\", \"S-S\", \"S-M\", \"M-M\", \"M-H\", \"H-H\"]\n",
    "front_bellcrank_ratios = np.array([0.0, 0.28843, 0.32397, 0.35952, 0.38328, 0.40705])\n",
    "rear_bellcrank_ratios = np.array([0.0, 0.26927, 0.31020, 0.35112, 0.39029, 0.42945])\n",
    "front_arb_rate, rear_arb_rate = 3.39 * FTLB_TO_NM, 7.86 * FTLB_TO_NM\n",
    "lever_arm_length = 2.5 * IN_TO_M\n",
    "front_arb_settings = front_arb_rate * (front_bellcrank_ratios**2) * (car.front_track**2) / (lever_arm_length**2)\n",
    "rear_arb_settings = rear_arb_rate * (rear_bellcrank_ratios**2) * (car.rear_track**2) / (lever_arm_length**2)\n",
    "front_ride_roll_stiffness, rear_ride_roll_stiffness = 172 * FTLB_TO_NM, 172 * FTLB_TO_NM\n",
    "front_roll_stiffness, rear_roll_stiffness = front_arb_settings + front_ride_roll_stiffness, rear_arb_settings + rear_ride_roll_stiffness\n",
    "\n",
    "frs_v, rrs_v = np.meshgrid(front_roll_stiffness, rear_roll_stiffness)\n",
    "trs_v = frs_v + rrs_v\n",
    "rsd_v = frs_v / trs_v"
   ]
  },
  {
   "cell_type": "code",
   "execution_count": null,
   "metadata": {},
   "outputs": [],
   "source": [
    "fig = go.Figure()\n",
    "fig.add_contour(x=rsd_range, y=trs_r, z=sim.lltd, colorbar=dict(title=\"LLTD (% Front)\"), colorscale='Viridis', contours=dict(\n",
    "            coloring ='heatmap',\n",
    "            showlabels = True, # show labels on contours\n",
    "            labelfont = dict( # label font properties\n",
    "                size = 12,\n",
    "                color = 'white',)),\n",
    "            line_smoothing=0.85)\n",
    "# mu = tr / (trs_r * FTLB_TO_NM)\n",
    "# fig.add_scatter(x=[0.2, 0.8], y=[mu, mu], mode=\"lines\", name=\"Target\", line=dict(color=\"red\", dash=\"dash\"))\n",
    "\n",
    "# plot all arb settings\n",
    "front_settings = setting_names * len(front_arb_settings)\n",
    "rear_settings = np.repeat(setting_names, len(front_arb_settings))\n",
    "arb_labels = [f\"F:{frs:.0f}<br>{fsn}<br>R:{rrs:.0f}<br>{rsn}\" for frs, rrs, fsn, rsn in zip(frs_v.flatten(), rrs_v.flatten(), front_settings, rear_settings)]\n",
    "fig.add_scatter(x=rsd_v.flatten(), y=trs_v.flatten(), mode=\"markers\", name=\"ARB Settings\", marker=dict(color=\"red\", size=4), text=arb_labels, showlegend=False)\n",
    "# add labels to the right of each of the markers\n",
    "for i, arb_label in enumerate(arb_labels):\n",
    "    fig.add_annotation(x=rsd_v.flatten()[i], y=trs_v.flatten()[i], text=arb_label, showarrow=False, xshift=12, yshift=-4, font=dict(size=6))\n",
    "\n",
    "\n",
    "fig.update_layout(title=\"LLTD\", xaxis_title=\"λ, Roll Stiffness Distribution (% Front)\", yaxis_title=\"Total Roll Stiffness (lb-ft/deg)\", height=768, width=1024)\n",
    "# make the y axis log scale\n",
    "fig.show()"
   ]
  },
  {
   "cell_type": "code",
   "execution_count": null,
   "metadata": {},
   "outputs": [],
   "source": []
  }
 ],
 "metadata": {
  "kernelspec": {
   "display_name": ".venv",
   "language": "python",
   "name": "python3"
  },
  "language_info": {
   "codemirror_mode": {
    "name": "ipython",
    "version": 3
   },
   "file_extension": ".py",
   "mimetype": "text/x-python",
   "name": "python",
   "nbconvert_exporter": "python",
   "pygments_lexer": "ipython3",
   "version": "3.11.3"
  },
  "orig_nbformat": 4
 },
 "nbformat": 4,
 "nbformat_minor": 2
}
