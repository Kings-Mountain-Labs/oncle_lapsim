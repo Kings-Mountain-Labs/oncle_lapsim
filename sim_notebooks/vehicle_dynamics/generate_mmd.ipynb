{
 "cells": [
  {
   "cell_type": "code",
   "execution_count": null,
   "metadata": {},
   "outputs": [],
   "source": [
    "import numpy as np\n",
    "import plotly.graph_objects as go\n",
    "import plotly.express as px\n",
    "from toolkit.common.constants import *\n",
    "from toolkit.cars.car_configuration import Car\n",
    "from toolkit.lap.track import *\n",
    "from toolkit.mmd import MMD\n",
    "from toolkit.steady_state_solver.ls_optimize import LS_Solver\n",
    "from toolkit.steady_state_solver.iterative import Iterative_Solver\n",
    "from toolkit.steady_state_solver.parachute import Parachute"
   ]
  },
  {
   "cell_type": "code",
   "execution_count": null,
   "metadata": {},
   "outputs": [],
   "source": [
    "v_avg = 20\n",
    "max_beta = 30\n",
    "max_delta = 30\n",
    "size = 30\n",
    "use_lin = True"
   ]
  },
  {
   "cell_type": "code",
   "execution_count": null,
   "metadata": {},
   "outputs": [],
   "source": [
    "# car = Car()\n",
    "rsd = 0.25\n",
    "total_roll_stiffness = 900 * FTLB_TO_NM\n",
    "car = Car(front_axle_weight=0.4725)\n",
    "car.z_f = 0.13 * IN_TO_M\n",
    "car.z_r = 1.0 * IN_TO_M\n",
    "car.cdA = 1.33\n",
    "car.clA = 3.43\n",
    "car.cg_height=10.7*IN_TO_M\n",
    "car.front_axle_downforce = 0.48\n",
    "car.k_f = total_roll_stiffness * rsd\n",
    "car.k_r = total_roll_stiffness * (1-rsd)\n",
    "car.k_c = 1000000\n",
    "# car.diff_model = \"locked\"\n",
    "car.update_car()\n",
    "car.set_lltd()\n",
    "# car.fast_mf = None\n",
    "# solver = LS_Solver()\n",
    "solver = Iterative_Solver()\n",
    "# solver = Parachute()"
   ]
  },
  {
   "cell_type": "code",
   "execution_count": null,
   "metadata": {},
   "outputs": [],
   "source": [
    "mmd = MMD(car, solver=solver)\n",
    "mmd.mmd_sweep(v_avg, lin_space=use_lin, max_beta=max_beta, max_delta=max_delta, size=size, mu=0.65, long_g=0)"
   ]
  },
  {
   "cell_type": "code",
   "execution_count": null,
   "metadata": {},
   "outputs": [],
   "source": [
    "mmd.clear_high_sa(max_sa=15)"
   ]
  },
  {
   "cell_type": "code",
   "execution_count": null,
   "metadata": {},
   "outputs": [],
   "source": [
    "mmd.plot_mmd(pub=True)"
   ]
  },
  {
   "cell_type": "code",
   "execution_count": null,
   "metadata": {},
   "outputs": [],
   "source": [
    "mmd.plot_mmd(show_bad=True)"
   ]
  },
  {
   "cell_type": "code",
   "execution_count": null,
   "metadata": {},
   "outputs": [],
   "source": [
    "mmd.plot_ay()\n",
    "mmd.plot_ax()\n",
    "mmd.plot_yaw()\n",
    "mmd.plot_solve_iters()\n",
    "mmd.plot_valid()"
   ]
  },
  {
   "cell_type": "code",
   "execution_count": null,
   "metadata": {},
   "outputs": [],
   "source": [
    "mmd.plot_stability()\n",
    "mmd.plot_control_moment()\n",
    "mmd.plot_understeer_gradient()"
   ]
  },
  {
   "cell_type": "code",
   "execution_count": null,
   "metadata": {},
   "outputs": [],
   "source": [
    "mmd.plot_sa()"
   ]
  },
  {
   "cell_type": "code",
   "execution_count": null,
   "metadata": {},
   "outputs": [],
   "source": [
    "mmd.error"
   ]
  }
 ],
 "metadata": {
  "kernelspec": {
   "display_name": ".venv",
   "language": "python",
   "name": "python3"
  },
  "language_info": {
   "codemirror_mode": {
    "name": "ipython",
    "version": 3
   },
   "file_extension": ".py",
   "mimetype": "text/x-python",
   "name": "python",
   "nbconvert_exporter": "python",
   "pygments_lexer": "ipython3",
   "version": "3.11.3"
  },
  "orig_nbformat": 4,
  "vscode": {
   "interpreter": {
    "hash": "a40ddc490a6ab3d8d5c36ac4a91310ba012979717884fb4180c23af057abbc60"
   }
  }
 },
 "nbformat": 4,
 "nbformat_minor": 2
}
