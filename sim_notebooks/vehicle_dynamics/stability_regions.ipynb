{
 "cells": [
  {
   "cell_type": "code",
   "execution_count": null,
   "metadata": {},
   "outputs": [],
   "source": [
    "import numpy as np\n",
    "import plotly.graph_objects as go\n",
    "import plotly.express as px\n",
    "from toolkit.common.constants import *\n",
    "from toolkit.cars.car_configuration import Car\n",
    "from toolkit.lap.track import *\n",
    "from toolkit.tire_model.tire_model_utils import *"
   ]
  },
  {
   "cell_type": "code",
   "execution_count": null,
   "metadata": {},
   "outputs": [],
   "source": [
    "v_avg = 15\n",
    "max_beta = 25\n",
    "max_delta = 15\n",
    "size = 9\n",
    "use_lin = True"
   ]
  },
  {
   "attachments": {},
   "cell_type": "markdown",
   "metadata": {},
   "source": [
    "In laymans terms the goal of this script is to determine the 'schwarzschild' β angle, or more accuratly β and δ combinations assuming a dβ of zero. Essentially the event horizion of fucking up and spinning out, to determine what α angles are actually even relivant to the conversation, bill cobb says your crazy to need over 10 deg (I'm unclear of if he is talking about α or δ) and on the otherhand Bobby do be looking a little sideways (https://www.youtube.com/watch?v=DkUvy43231M)\n",
    "And I choose to assume a dβ of zero because there isnt any other practical way of solving this that I could think of"
   ]
  },
  {
   "cell_type": "code",
   "execution_count": null,
   "metadata": {},
   "outputs": [],
   "source": [
    "if use_lin:\n",
    "    # delta and beta with linear spacing\n",
    "    beta = np.linspace(-max_beta, max_beta, (2 * size + 1))\n",
    "    delta = np.linspace(0, max_delta, (size + 1))\n",
    "    delta_two = np.concatenate((-delta[::-1], delta[1:]))\n",
    "else:\n",
    "    # delta and beta with log spacing\n",
    "    beta = np.geomspace(0.1, max_beta, size)\n",
    "    beta = np.concatenate((-beta[::-1], np.array([0]), beta))\n",
    "    delta = np.geomspace(0.1, max_delta, size)\n",
    "    delta_two = np.concatenate((-delta[::-1], np.array([0]), delta))\n",
    "    delta = np.concatenate((np.array([0]), delta))"
   ]
  },
  {
   "cell_type": "code",
   "execution_count": null,
   "metadata": {},
   "outputs": [],
   "source": [
    "# preppare for the sweep\n",
    "delta_v, beta_v = np.meshgrid(delta, beta)\n",
    "inds = np.argwhere(np.full(delta_v.shape, True))\n",
    "ay = np.zeros(delta_v.shape)\n",
    "yaw = np.zeros(delta_v.shape)\n",
    "bruh = np.zeros(delta_v.shape)\n",
    "stability = np.ones(delta_v.shape)\n",
    "car = Car()\n",
    "car.set_tire(H_R20_18X6_6)\n",
    "car.set_lltd()"
   ]
  },
  {
   "cell_type": "code",
   "execution_count": null,
   "metadata": {},
   "outputs": [],
   "source": [
    "# sweep\n",
    "for index in inds:\n",
    "    ay_it, cn_it, yaw_it, ax_it, bruh_it, _ = car.solve_for_long(v_avg, 0.0, delta_x=np.deg2rad(delta_v[index[0], index[1]]), beta_x=np.deg2rad(beta_v[index[0], index[1]]))\n",
    "    ay[index[0], index[1]] = ay_it\n",
    "    yaw[index[0], index[1]] = yaw_it\n",
    "    bruh[index[0], index[1]] = bruh_it"
   ]
  },
  {
   "cell_type": "code",
   "execution_count": null,
   "metadata": {},
   "outputs": [],
   "source": [
    "def stability_test(delta, beta, vel, long_g=0.0, time_step = 0.01, delta_dot_max = 30.0):\n",
    "    ay_it, cn_it, yaw_it, ax_it, bruh_it, _ = car.solve_for_long(v_avg, long_g, delta_x=np.deg2rad(delta), beta_x=np.deg2rad(beta))\n",
    "    pos = -1\n",
    "    if beta > 0:\n",
    "        pos = 1\n",
    "    d_sign = np.sign(delta)\n",
    "    steps = []\n",
    "    omega_it, omega_v_it = ay_it / vel, ay_it / vel\n",
    "    delta_it, beta_it = delta, beta\n",
    "    delta_dot, ay_dot = 0, 0\n",
    "    ay_int = ay_it * time_step\n",
    "    steps.append([delta_it, beta_it, ay_it, yaw_it, ax_it, omega_it, omega_v_it, delta_dot, ay_dot, 0, 0, ay_int])\n",
    "    i = 0\n",
    "    beta_deriv = 0\n",
    "    beta_dot = 0\n",
    "    kp, ki, kd = -2.0, -8.0, -0.15\n",
    "    k_ay_int = 0.5\n",
    "    while abs(beta_it) > 1 or abs(beta_dot) > 10:\n",
    "        omega_it += np.rad2deg(yaw_it) * time_step\n",
    "        omega_v_it = np.rad2deg(ay_it * G / vel) * -1\n",
    "        prev_beta_dot = beta_dot\n",
    "        beta_dot = omega_it - omega_v_it\n",
    "        beta_deriv = (beta_dot - prev_beta_dot)\n",
    "        # beta_int *= 0.9 # decay\n",
    "        # beta_int += beta_it * time_step\n",
    "        ay_int *= 0.9 # decay\n",
    "        ay_int += ay_it * time_step\n",
    "        delta_dot = min(delta_dot_max, max(-delta_dot_max, delta_dot_max * (kp * (beta_dot / max_beta) + ki * (beta_it / max_beta) + kd * beta_deriv + k_ay_int * ay_int)))\n",
    "        delta_it = min(max_delta, max(-max_delta, delta_dot * time_step + delta_it))\n",
    "        # if delta_it == max_delta or delta_it == -max_delta:\n",
    "            # delta_dot = 0\n",
    "        beta_it += beta_dot * time_step\n",
    "        # if delta_dot == 0 and np.sign(beta_prev - beta_it) == np.sign(beta_it):\n",
    "            # return 1, steps\n",
    "        ay_it, cn_it, yaw_it, ax_it, bruh_it, _ = car.solve_for_long(v_avg, long_g, delta_x=np.deg2rad(delta_it), beta_x=np.deg2rad(beta_it))\n",
    "        steps.append([delta_it, beta_it, ay_it, yaw_it, ax_it, omega_it, omega_v_it, delta_dot, ay_dot, (omega_it - omega_v_it), beta_deriv, ay_int])\n",
    "        if delta_it > max_delta or delta_it < -max_delta or beta_it > max_beta * 2 or beta_it < -max_beta * 2 or i > 200:\n",
    "            return 0, steps\n",
    "        i += 1\n",
    "    return 1, steps\n",
    "    \n",
    "all_steps = []\n",
    "all_inds = []\n",
    "bad_steps = []\n",
    "bad_inds = []\n",
    "first = True\n",
    "# for index in [[7, 3]]:\n",
    "for index in inds:\n",
    "    stable, steps = stability_test(delta_v[index[0], index[1]], beta_v[index[0], index[1]], v_avg)\n",
    "    stability[index[0], index[1]] = stable\n",
    "    # print(index, stable, np.array(steps).shape)\n",
    "    \n",
    "    # all_steps.append(np.array(steps))\n",
    "    # bad_steps.append(np.array(steps))\n",
    "    # if first:\n",
    "    #     first = False\n",
    "    # else:\n",
    "    #     break\n",
    "    if stable == 1:\n",
    "        all_steps.append(np.array(steps))\n",
    "        all_inds.append(index)\n",
    "    else:\n",
    "        bad_steps.append(np.array(steps))\n",
    "        bad_inds.append(index)\n",
    "    \n"
   ]
  },
  {
   "cell_type": "code",
   "execution_count": null,
   "metadata": {},
   "outputs": [],
   "source": [
    "# plot the first 1 step out of steps\n",
    "fig = go.Figure()\n",
    "step = all_steps[82]\n",
    "# print(bad_inds[160])\n",
    "# step = bad_steps[0]\n",
    "print(len(all_steps))\n",
    "fig.add_trace(go.Scatter(x=np.arange(step.shape[0]), y=step[:, 0], mode='lines', name='delta'))\n",
    "fig.add_trace(go.Scatter(x=np.arange(step.shape[0]), y=step[:, 1], mode='lines', name='beta'))\n",
    "fig.add_trace(go.Scatter(x=np.arange(step.shape[0]), y=step[:, 2], mode='lines', name='ay'))\n",
    "# fig.add_trace(go.Scatter(x=np.arange(step.shape[0]), y=step[:, 3], mode='lines', name='yaw'))\n",
    "# fig.add_trace(go.Scatter(x=np.arange(step.shape[0]), y=step[:, 4], mode='lines', name='ax'))\n",
    "# fig.add_trace(go.Scatter(x=np.arange(step.shape[0]), y=step[:, 5], mode='lines', name='omega'))\n",
    "# fig.add_trace(go.Scatter(x=np.arange(step.shape[0]), y=step[:, 6], mode='lines', name='omega_v'))\n",
    "fig.add_trace(go.Scatter(x=np.arange(step.shape[0]), y=step[:, 7], mode='lines', name='delta_dot'))\n",
    "# fig.add_trace(go.Scatter(x=np.arange(step.shape[0]), y=step[:, 8], mode='lines', name='ay_dot'))\n",
    "fig.add_trace(go.Scatter(x=np.arange(step.shape[0]), y=step[:, 9], mode='lines', name='beta_dot'))\n",
    "fig.add_trace(go.Scatter(x=np.arange(step.shape[0]), y=step[:, 10], mode='lines', name='beta_deriv'))\n",
    "fig.add_trace(go.Scatter(x=np.arange(step.shape[0]), y=step[:, 11], mode='lines', name='ay_int'))"
   ]
  },
  {
   "cell_type": "code",
   "execution_count": null,
   "metadata": {},
   "outputs": [],
   "source": [
    "# fill out the symmetric side\n",
    "ay = np.concatenate((-np.flip(ay[:, 1:], (0, 1)), ay), axis=1)\n",
    "yaw = np.concatenate((-np.flip(yaw[:, 1:], (0, 1)), yaw), axis=1)\n",
    "bruh = np.concatenate((np.flip(bruh[:, 1:], (0, 1)), bruh), axis=1)\n",
    "stability = np.concatenate((np.flip(stability[:, 1:], (0, 1)), stability), axis=1)"
   ]
  },
  {
   "cell_type": "code",
   "execution_count": null,
   "metadata": {},
   "outputs": [],
   "source": [
    "# plot Stability\n",
    "fig = px.imshow(stability, labels=dict(x=\"Delta\", y=\"Beta\", color=\"Stability\"), origin='lower', x=delta_two, y=beta, aspect=\"auto\")\n",
    "for ind, step in enumerate(all_steps):\n",
    "    fig.add_trace(go.Scatter(x=step[:, 0], y=step[:, 1], name=f\"{all_inds[ind]} {ind}\", legendgroup=f\"a{ind}\", mode='markers+lines', marker={'color': step[:, 5]}, line=dict(color=\"green\", width=2)))\n",
    "    fig.add_trace(go.Scatter(x=-step[:, 0], y=-step[:, 1], name=f\"{all_inds[ind]} {ind}\", legendgroup=f\"a{ind}\", mode='markers+lines', marker={'color': -step[:, 5]}, showlegend=False, line=dict(color=\"green\", width=2)))\n",
    "for ind, step in enumerate(bad_steps):\n",
    "    fig.add_trace(go.Scatter(x=step[:, 0], y=step[:, 1], mode=\"lines\", name=f\"{bad_inds[ind]} {ind}\", legendgroup=f\"b{ind}\", line=dict(color=\"red\", width=2)))\n",
    "    fig.add_trace(go.Scatter(x=-step[:, 0], y=-step[:, 1], mode=\"lines\", name=f\"{bad_inds[ind]} {ind}\", legendgroup=f\"b{ind}\", showlegend=False, line=dict(color=\"red\", width=2)))\n",
    "    pass\n",
    "fig.update_layout(template=\"plotly_dark\", title_text=\"2D MMD\")\n",
    "fig.show()"
   ]
  },
  {
   "cell_type": "code",
   "execution_count": null,
   "metadata": {},
   "outputs": [],
   "source": [
    "# plot Ay\n",
    "fig = px.imshow(ay, labels=dict(x=\"Delta\", y=\"Beta\", color=\"Ay (m/s^2)\"), origin='lower', x=delta_two, y=beta, aspect=\"auto\")\n",
    "fig.update_layout(template=\"plotly_dark\", title_text=\"2D MMD\")\n",
    "fig.show()"
   ]
  },
  {
   "cell_type": "code",
   "execution_count": null,
   "metadata": {},
   "outputs": [],
   "source": [
    "# plot Yaw accel\n",
    "fig = px.imshow(yaw, labels=dict(x=\"Delta\", y=\"Beta\", color=\"Yaw Accel (rad/s^2)\"), origin='lower', x=delta_two, y=beta, aspect=\"auto\")\n",
    "fig.update_layout(template=\"plotly_dark\", title_text=\"2D MMD\")\n",
    "fig.show()"
   ]
  },
  {
   "cell_type": "code",
   "execution_count": null,
   "metadata": {},
   "outputs": [],
   "source": [
    "# plot solve iterations\n",
    "fig = px.imshow(bruh, labels=dict(x=\"Delta\", y=\"Beta\", color=\"Solve Iterations\"), origin='lower', x=delta_two, y=beta, aspect=\"auto\")\n",
    "fig.update_layout(template=\"plotly_dark\", title_text=\"2D MMD\")\n",
    "fig.show()"
   ]
  },
  {
   "cell_type": "code",
   "execution_count": null,
   "metadata": {},
   "outputs": [],
   "source": [
    "# plot Yaw accel\n",
    "delta_sp, beta_sp = np.meshgrid(delta_two, beta)\n",
    "sa = beta_sp - delta_sp\n",
    "print(sa.shape)\n",
    "print(yaw.shape)\n",
    "fig = px.imshow(sa, labels=dict(x=\"Delta\", y=\"Beta\", color=\"Approx Front SA (deg)\"), origin='lower', x=delta_two, y=beta, aspect=\"auto\")\n",
    "fig.update_layout(template=\"plotly_dark\", title_text=\"2D MMD\")\n",
    "fig.show()"
   ]
  },
  {
   "cell_type": "code",
   "execution_count": null,
   "metadata": {},
   "outputs": [],
   "source": [
    "# create a traditional MMD plot\n",
    "def delim_mmd(mask, ay_it1, yaw_it1):\n",
    "    inds_raw = np.argwhere(mask)[:, 0]\n",
    "    inds = np.concatenate((np.array([-2]), inds_raw, np.array([mask.shape[0] + 1])))\n",
    "    delim_ind = np.where((inds[:-1] + 1 != inds[1:]))[0] + 1\n",
    "    if delim_ind.shape[0] < 2:\n",
    "        return ay_it1 * G, yaw_it1\n",
    "    ay_it2, yaw_it2, ax_it2 = [], [], []\n",
    "    for i in range(len(delim_ind)-1):\n",
    "        ay_it2.extend(ay_it1[inds[delim_ind[i]:delim_ind[i+1]]] * G)\n",
    "        ay_it2.append(None)\n",
    "        yaw_it2.extend(yaw_it1[inds[delim_ind[i]:delim_ind[i+1]]])\n",
    "        yaw_it2.append(None)\n",
    "    return np.array(ay_it2), np.array(yaw_it2)\n",
    "\n",
    "fig = go.Figure()\n",
    "fig.update_xaxes(title_text='Lat Acc (m/s^2)')\n",
    "fig.update_yaxes(title_text='Yaw Acc (rad/sec^2)')\n",
    "for i, betax in enumerate(beta):\n",
    "    valid = ay[i, :] != 0\n",
    "    fig.add_trace(\n",
    "        go.Scatter(\n",
    "            x=ay[i, valid] * G,\n",
    "            y=yaw[i, valid],\n",
    "            mode='lines',\n",
    "            hovertext=\"β={:.2f}°\".format(betax),\n",
    "            marker=dict(color='red'), legendgroup=f\"group1\", showlegend=False\n",
    "        ))\n",
    "    ay1, yaw1 = delim_mmd((ay[i, :] * stability[i, :]) != 0, ay[i, :], yaw[i, :])\n",
    "    fig.add_trace(\n",
    "        go.Scatter(\n",
    "            x=ay1,\n",
    "            y=yaw1,\n",
    "            mode='lines',\n",
    "            hovertext=\"β={:.2f}°\".format(betax),\n",
    "            marker=dict(color='red'), legendgroup=f\"group2\", showlegend=False\n",
    "        ))\n",
    "for j, deltax in enumerate(delta_two):\n",
    "    valid = ay[:, j] != 0\n",
    "    fig.add_trace(\n",
    "        go.Scatter(\n",
    "            x=ay[valid, j] * G,\n",
    "            y=yaw[valid, j],\n",
    "            mode='lines',\n",
    "            hovertext=\"{:.1f}° Delta\".format(deltax),\n",
    "            marker=dict(color='blue'), name=\"MMD\", legendgroup=f\"group1\", showlegend=(j == len(delta_two)-1)\n",
    "        ))\n",
    "    ay1, yaw1 = delim_mmd((ay[:, j] * stability[:, j]) != 0, ay[:, j], yaw[:, j])\n",
    "    fig.add_trace(\n",
    "        go.Scatter(\n",
    "            x=ay1,\n",
    "            y=yaw1,\n",
    "            mode='lines',\n",
    "            hovertext=\"{:.1f}° Delta\".format(deltax),\n",
    "            marker=dict(color='blue'), name=\"MMD Clean\", legendgroup=f\"group2\", showlegend=(j == len(delta_two)-1)\n",
    "        ))\n",
    "\n",
    "step = bad_steps[31]\n",
    "fig.add_trace(go.Scatter(x=step[:, 2]*G, y=step[:, 3], name=f\"{all_inds[161]} {161}\", legendgroup=f\"a{161}\", mode='markers+lines', marker={'color': step[:, 5]}, line=dict(color=\"green\", width=2)))\n",
    "fig.update_layout(template=\"plotly_dark\", title_text=\"2D MMD\")\n",
    "fig.show()"
   ]
  }
 ],
 "metadata": {
  "kernelspec": {
   "display_name": ".venv",
   "language": "python",
   "name": "python3"
  },
  "language_info": {
   "codemirror_mode": {
    "name": "ipython",
    "version": 3
   },
   "file_extension": ".py",
   "mimetype": "text/x-python",
   "name": "python",
   "nbconvert_exporter": "python",
   "pygments_lexer": "ipython3",
   "version": "3.10.9"
  },
  "orig_nbformat": 4,
  "vscode": {
   "interpreter": {
    "hash": "a40ddc490a6ab3d8d5c36ac4a91310ba012979717884fb4180c23af057abbc60"
   }
  }
 },
 "nbformat": 4,
 "nbformat_minor": 2
}
