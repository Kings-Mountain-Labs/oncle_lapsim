{
 "cells": [
  {
   "cell_type": "code",
   "execution_count": null,
   "metadata": {},
   "outputs": [],
   "source": [
    "import sys\n",
    "import plotly.graph_objects as go\n",
    "from plotly.subplots import make_subplots\n",
    "import plotly.express as px\n",
    "import numpy as np\n",
    "from toolkit.common.constants import *\n",
    "from toolkit.damper_force import DamperForce"
   ]
  },
  {
   "cell_type": "code",
   "execution_count": null,
   "metadata": {},
   "outputs": [],
   "source": [
    "# plot the force vs speed for all the settings, 1 to 24 for low speed and 1 to 10 for high speed\n",
    "lsr_settings = np.arange(1, 24)\n",
    "hsr_settings = np.arange(1, 10)\n",
    "lsc_settings = np.arange(1, 24)\n",
    "hsc_settings = np.arange(1, 10)\n",
    "\n",
    "# create rebound and compression meshgrid\n",
    "lsr_v, hsr_v = np.meshgrid(lsr_settings, hsr_settings)\n",
    "lsc_v, hsc_v = np.meshgrid(lsc_settings, hsc_settings)\n",
    "\n",
    "max_speed = 10 # in/s\n",
    "speeds = np.linspace(0.0, max_speed, 100)\n",
    "inds = np.argwhere(np.full(lsr_v.shape, True))\n",
    "\n",
    "def solve_set(damper, speeds):\n",
    "    forces = np.zeros(speeds.shape)\n",
    "    for i in range(len(speeds)):\n",
    "        forces[i] = damper.solve_for_speed(speeds[i])\n",
    "    return forces\n",
    "\n",
    "# plot the force vs speed for all the settings\n",
    "fig = go.Figure()\n",
    "for ind in inds:\n",
    "    force = DamperForce(lsc_v[ind[0], ind[1]], lsr_v[ind[0], ind[1]], hsc_v[ind[0], ind[1]], hsr_v[ind[0], ind[1]])\n",
    "    fig.add_trace(go.Scatter(x=speeds, y=solve_set(force, speeds), mode='lines', name='LSR: ' + str(lsr_v[ind[0], ind[1]]) + ' HSR: ' + str(hsr_v[ind[0], ind[1]])))\n",
    "\n",
    "fig.update_layout(template=\"plotly_dark\", title_text=f\"Rebound damper force plot\", height=1000, width=1000)\n",
    "fig.show()\n",
    "\n",
    "fig2 = go.Figure()\n",
    "for ind in inds:\n",
    "    force = DamperForce(lsc_v[ind[0], ind[1]], lsr_v[ind[0], ind[1]], hsc_v[ind[0], ind[1]], hsr_v[ind[0], ind[1]])\n",
    "    fig2.add_trace(go.Scatter(x=-speeds, y=solve_set(force, -speeds), mode='lines', name=' LSC: ' + str(lsc_v[ind[0], ind[1]]) + ' HSC: ' + str(hsc_v[ind[0], ind[1]])))\n",
    "\n",
    "fig2.update_layout(template=\"plotly_dark\", title_text=f\"Compression damper force plot\", height=1000, width=1000)\n",
    "fig2.show()"
   ]
  },
  {
   "cell_type": "code",
   "execution_count": null,
   "metadata": {},
   "outputs": [],
   "source": [
    "mappp = DamperForce(6, 1, 9, 1)\n",
    "# plot heat map of LSC and HSC \n",
    "fig3 = go.Figure(data=go.Heatmap(z=mappp.LSC))\n",
    "fig3.update_layout(template=\"plotly_dark\", title_text=f\"Heat map of LSC\", height=1000, width=1000)\n",
    "fig3.show()\n",
    "fig4 = go.Figure(data=go.Heatmap(z=mappp.HSC))\n",
    "fig4.update_layout(template=\"plotly_dark\", title_text=f\"Heat map of HSC\", height=1000, width=1000)\n",
    "fig4.show()\n"
   ]
  }
 ],
 "metadata": {
  "kernelspec": {
   "display_name": ".venv",
   "language": "python",
   "name": "python3"
  },
  "language_info": {
   "codemirror_mode": {
    "name": "ipython",
    "version": 3
   },
   "file_extension": ".py",
   "mimetype": "text/x-python",
   "name": "python",
   "nbconvert_exporter": "python",
   "pygments_lexer": "ipython3",
   "version": "3.11.3"
  },
  "orig_nbformat": 4
 },
 "nbformat": 4,
 "nbformat_minor": 2
}
