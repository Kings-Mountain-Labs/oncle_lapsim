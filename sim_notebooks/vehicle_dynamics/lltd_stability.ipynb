{
 "cells": [
  {
   "cell_type": "code",
   "execution_count": null,
   "metadata": {},
   "outputs": [],
   "source": [
    "import sys\n",
    "sys.path.append('../Functions/py_functions/') # This path is so that within each function file, you can import the other function files with relative paths\n",
    "sys.path.append('../') # This path is so that we can import the functions folder from the root directory compared to where this file is\n",
    "from toolkit.common.constants import *\n",
    "from toolkit.lapsim.multi_sim import MultiSim\n",
    "from toolkit.cars.car_configuration import Car\n",
    "from toolkit.lap.gps_importer import *\n",
    "from toolkit.las_solvers import Octahedral_LAS, Multi_Layer_LAS, LAS"
   ]
  },
  {
   "cell_type": "code",
   "execution_count": null,
   "metadata": {},
   "outputs": [],
   "source": [
    "tracks = []\n",
    "# tracks = []\n",
    "v_average = 15\n",
    "mu_corr = 0.65 # mu correction factor, a value of 1 means the road is sandpaper and the actual value should be something lower but im kinda just setting this value to overfit atm\n",
    "target = 0.001\n",
    "las = Multi_Layer_LAS()\n",
    "las.add_layers = 2"
   ]
  },
  {
   "cell_type": "code",
   "execution_count": null,
   "metadata": {},
   "outputs": [],
   "source": [
    "# here we make a function that generates a car with a given roll stiffness distribution and chassis roll stiffness\n",
    "# the first and second arguments take the values of the first and second sweep variables that you give to run_sim\n",
    "def gen_car_lltd(rsd, k_c):\n",
    "    total_roll_stiffness = 900 * FTLB_TO_NM\n",
    "    car = Car(front_axle_weight=0.4725)\n",
    "    car.z_f = 0.13 * IN_TO_M\n",
    "    car.z_r = 1.0 * IN_TO_M\n",
    "    car.cdA = 1.33\n",
    "    car.clA = 3.43\n",
    "    car.cg_height=10.7*IN_TO_M\n",
    "    car.front_axle_downforce = 0.5\n",
    "    car.k_f = total_roll_stiffness * rsd\n",
    "    car.k_r = total_roll_stiffness * (1-rsd)\n",
    "    car.k_c = 1000000\n",
    "    car.update_car()\n",
    "    car.description = f\"rsd:{rsd:.2f} k_c:{k_c:.2f}\"\n",
    "    return car\n",
    "# do a sweep of roll stiffness distribution and chassis roll stiffness\n",
    "rsd_range = np.linspace(0.25, 0.75, 10)\n",
    "k_c_r = np.linspace(500, 2500, 1) # np.array([1000]) #\n",
    "sim = MultiSim(tracks, gen_car_lltd, rsd_range, k_c_r, \"Roll Stiffness Distribution\", \"Chassis Roll Stiffness (lbf/deg)\")"
   ]
  },
  {
   "cell_type": "code",
   "execution_count": null,
   "metadata": {},
   "outputs": [],
   "source": [
    "sim.run_lltd()\n",
    "sim.run_sim(las)"
   ]
  },
  {
   "cell_type": "code",
   "execution_count": null,
   "metadata": {},
   "outputs": [],
   "source": [
    "import plotly.graph_objects as go\n",
    "from plotly.subplots import make_subplots\n",
    "import plotly.express as px\n",
    "fig4 = go.Figure()\n",
    "for ind in range(len(sim.lat_acc)):\n",
    "    index = sim.inds[ind]\n",
    "    lltd = sim.lltd[index[0], index[1]]\n",
    "    # fig4.add_trace(go.Scatter(x=sim.pos_vel[ind], y=sim.lat_acc[ind][:, 1], text=sim.pos_name[ind], marker_color=sim.pos_vel[ind], legendgroup=f\"group{ind}\", showlegend=False), row=1, col=1)\n",
    "    fig4.add_trace(go.Scatter(x=sim.pos_vel[ind] * MS_TO_MPH, y=sim.lat_acc[ind][:, 2], mode=\"lines\", legendgroup=f\"group{ind}\", showlegend=True, name=f\"LLTD: {lltd:.2f}\"))\n",
    "\n",
    "fig4.update_yaxes(title_text='Yaw Acc (rad/s^2)')\n",
    "fig4.update_xaxes(title_text='Velocity (mph)')\n",
    "# fig4.update_layout(template=\"plotly_dark\") , title_x=0.5, legend_title_text='Track', legend_title_font_size=18, legend_font_size=16, font_size=18\n",
    "fig4.update_layout(title_text=\"Yaw Acc vs LLTD\", width=1000, height=600)\n",
    "fig4.show()"
   ]
  },
  {
   "cell_type": "code",
   "execution_count": null,
   "metadata": {},
   "outputs": [],
   "source": []
  }
 ],
 "metadata": {
  "kernelspec": {
   "display_name": ".venv",
   "language": "python",
   "name": "python3"
  },
  "language_info": {
   "codemirror_mode": {
    "name": "ipython",
    "version": 3
   },
   "file_extension": ".py",
   "mimetype": "text/x-python",
   "name": "python",
   "nbconvert_exporter": "python",
   "pygments_lexer": "ipython3",
   "version": "3.11.3"
  },
  "orig_nbformat": 4
 },
 "nbformat": 4,
 "nbformat_minor": 2
}
