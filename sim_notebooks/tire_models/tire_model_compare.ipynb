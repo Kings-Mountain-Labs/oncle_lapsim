{
 "cells": [
  {
   "cell_type": "code",
   "execution_count": null,
   "metadata": {},
   "outputs": [],
   "source": [
    "import numpy as np\n",
    "import sys\n",
    "import os\n",
    "from dataclasses import dataclass\n",
    "from scipy.optimize import least_squares, fmin\n",
    "from plotly.subplots import make_subplots\n",
    "import plotly.graph_objects as go\n",
    "import plotly.express as px\n",
    "import pandas as pd\n",
    "from typing import Dict, List\n",
    "import time\n",
    "from numpy.typing import ArrayLike\n",
    "sys.path.append('../Functions/py_functions/') # This path is so that within each function file, you can import the other function files with relative paths\n",
    "sys.path.append('../') # This path is so that we can import the functions folder from the root directory compared to where this file is\n",
    "from Functions.py_functions.loading_util import make_path\n",
    "from Functions.py_functions.tire_model.tire_model_pacejka_2010 import *\n",
    "from Functions.py_functions.tire_model.tire_model_fitting import *\n",
    "from Functions.py_functions.tire_model.ttc_loader import *\n",
    "from Functions.py_functions.tire_model.tire_fitting_masks import *\n",
    "from Functions.py_functions.tire_model.tire_model_utils import *"
   ]
  },
  {
   "cell_type": "code",
   "execution_count": null,
   "metadata": {},
   "outputs": [],
   "source": [
    "# or from a existing set of parameters\n",
    "tire_model_1 = tire_model_from_arr(H_R20_18X6_7)\n",
    "tire_model_2 = tire_model_from_arr(H_R20_18X6_6)\n",
    "tire_model_og = readTIR(make_path('./Data/TTCData/TIR_Templates/FSAE_Defaults.tir'))"
   ]
  },
  {
   "cell_type": "code",
   "execution_count": null,
   "metadata": {},
   "outputs": [],
   "source": [
    "# Generate graphs to check smoothness of the fit\n",
    "# sweep_SA([tire_model, tire_model_2, tire_model_3, tire_model_og, tire_model_4], \"Slip Angle\")\n",
    "sweep_SA([tire_model_1], \"Slip Angle\") # , tire_model_2"
   ]
  },
  {
   "cell_type": "code",
   "execution_count": null,
   "metadata": {},
   "outputs": [],
   "source": [
    "# Generate graphs to check smoothness of the fit\n",
    "# sweep_SR([tire_model, tire_model_2, tire_model_3, tire_model_og, tire_model_4], \"Slip Ratio\")\n",
    "sweep_SR([tire_model_1], \"Slip Ratio\") # , tire_model_2"
   ]
  },
  {
   "cell_type": "code",
   "execution_count": null,
   "metadata": {},
   "outputs": [],
   "source": [
    "params = tire_model_1.dump_params()\n",
    "paramss = tire_model_og.dump_params()\n",
    "paramsss = tire_model_2.dump_params()\n",
    "for i in FX_MASK_IND:#range(len(params)): # FY_MASK_IND_PRESS:#\n",
    "        print(f\"{i}\\t{params[i]:.4f}\\t{paramsss[i]:.4f}\\t{LABELS[i]}\\t{NAMES[i]}\") # \\t{paramsss[i]:.4f} \\t{params[i]:.4f}"
   ]
  },
  {
   "cell_type": "code",
   "execution_count": null,
   "metadata": {},
   "outputs": [],
   "source": [
    "result, value, c, ins = tire_model_2.coefficientCheck()"
   ]
  },
  {
   "cell_type": "code",
   "execution_count": null,
   "metadata": {},
   "outputs": [],
   "source": [
    "print(f\"Cx error: {result.Cx}\")\n",
    "print(f\"Dx error: {np.any(result.Dx)}\")\n",
    "print(f\"Ex error: {np.any(result.Ex)}\")\n",
    "print(f\"Cy error: {result.Cy}\")\n",
    "print(f\"Ey error: {np.any(result.Ey)}\")\n",
    "print(f\"Bt error: {np.any(result.Bt)}\")\n",
    "print(f\"Ct error: {result.Ct}\")\n",
    "print(f\"Et error: {np.any(result.Et)}\")"
   ]
  },
  {
   "cell_type": "code",
   "execution_count": null,
   "metadata": {},
   "outputs": [],
   "source": [
    "# Get the ttc data for the tire you want to fit\n",
    "cornering_raw, drive_brake_raw, name = get_LC0_18x6_6_runs()\n",
    "# create all the boring lists and stuff\n",
    "\n",
    "params_list: List = []\n",
    "error_list: List = []\n",
    "combi_runs = None\n",
    "cornering = None\n",
    "drive_brake = None\n",
    "for df_raw in cornering_raw:\n",
    "    df = df_raw#flip_and_merge(df_raw)\n",
    "    combi_runs = merge(df, combi_runs)\n",
    "    cornering = merge(df, cornering)\n",
    "\n",
    "for df_raw in drive_brake_raw:\n",
    "    df = df_raw#flip_and_merge(df_raw)\n",
    "    combi_runs = merge(df, combi_runs)\n",
    "    drive_brake = merge(df, drive_brake)"
   ]
  },
  {
   "cell_type": "code",
   "execution_count": null,
   "metadata": {},
   "outputs": [],
   "source": [
    "df = remove_time_gaps(filter_vel(combi_runs))\n",
    "df = df[df.TSTC > 50]\n",
    "fx_1_error, fy_1_error, mz_1_error = get_model_error(tire_model_1, df)\n",
    "fx_2_error, fy_2_error, mz_2_error = get_model_error(tire_model_2, df)\n",
    "fig = go.Figure()\n",
    "fig.add_trace(go.Histogram(x=fx_1_error, histnorm='probability density', name='Fx 1'))\n",
    "fig.add_trace(go.Histogram(x=fy_1_error, histnorm='probability density', name='Fy 1'))\n",
    "fig.add_trace(go.Histogram(x=mz_1_error, histnorm='probability density', name='Mz 1'))\n",
    "fig.add_trace(go.Histogram(x=fx_2_error, histnorm='probability density', name='Fx 2'))\n",
    "fig.add_trace(go.Histogram(x=fy_2_error, histnorm='probability density', name='Fy 2'))\n",
    "fig.add_trace(go.Histogram(x=mz_2_error, histnorm='probability density', name='Mz 2'))\n",
    "# put graph key in bottom right\n",
    "fig.update_layout(barmode='overlay', legend=dict(orientation=\"h\", yanchor=\"bottom\", y=0.02, xanchor=\"right\", x=1))\n",
    "fig.update_layout(template=\"plotly_dark\", margin=dict(l=0, r=0, b=0, t=0), xaxis_title='Error (N)', yaxis_title='Probability Density')\n",
    "fig.show()"
   ]
  }
 ],
 "metadata": {
  "kernelspec": {
   "display_name": ".venv",
   "language": "python",
   "name": "python3"
  },
  "language_info": {
   "codemirror_mode": {
    "name": "ipython",
    "version": 3
   },
   "file_extension": ".py",
   "mimetype": "text/x-python",
   "name": "python",
   "nbconvert_exporter": "python",
   "pygments_lexer": "ipython3",
   "version": "3.11.3"
  },
  "orig_nbformat": 4,
  "vscode": {
   "interpreter": {
    "hash": "a40ddc490a6ab3d8d5c36ac4a91310ba012979717884fb4180c23af057abbc60"
   }
  }
 },
 "nbformat": 4,
 "nbformat_minor": 2
}
