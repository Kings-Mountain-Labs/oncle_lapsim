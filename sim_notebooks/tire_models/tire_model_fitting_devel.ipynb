{
 "cells": [
  {
   "cell_type": "code",
   "execution_count": null,
   "metadata": {},
   "outputs": [],
   "source": [
    "import numpy as np\n",
    "import sys\n",
    "import os\n",
    "from dataclasses import dataclass\n",
    "from scipy.optimize import least_squares, fmin\n",
    "from plotly.subplots import make_subplots\n",
    "import plotly.graph_objects as go\n",
    "import plotly.express as px\n",
    "import pandas as pd\n",
    "from typing import Dict, List\n",
    "import time\n",
    "from numpy.typing import ArrayLike\n",
    "sys.path.append('../Functions/py_functions/') # This path is so that within each function file, you can import the other function files with relative paths\n",
    "sys.path.append('../') # This path is so that we can import the functions folder from the root directory compared to where this file is\n",
    "from Functions.py_functions.loading_util import make_path\n",
    "from Functions.py_functions.tire_model.tire_model_pacejka_2010 import *\n",
    "from Functions.py_functions.tire_model.tire_model_fitting import *\n",
    "from Functions.py_functions.tire_model.ttc_loader import *\n",
    "from Functions.py_functions.tire_model.tire_fitting_masks import *\n",
    "from Functions.py_functions.tire_model.tire_model_utils import *\n",
    "from Functions.py_functions.constants import *"
   ]
  },
  {
   "cell_type": "code",
   "execution_count": null,
   "metadata": {},
   "outputs": [],
   "source": [
    "# Get the ttc data for the tire you want to fit\n",
    "combi_runs, cornering, drive_brake, name = load_runs(get_R20_18x6_7_runs())\n",
    "# create all the boring lists and stuff\n",
    "params_list: List = []\n",
    "error_list: List = []"
   ]
  },
  {
   "cell_type": "code",
   "execution_count": null,
   "metadata": {},
   "outputs": [],
   "source": [
    "# If you want to start from the default tir file\n",
    "tire_model = readTIR(make_path('./Data/TTCData/TIR_Templates/FSAE_Defaults.tir'))\n",
    "# tire_model = readTIR(make_path('./Data/TTCData/TIR_Templates/H_R20_18X6_7_V1.tir'))\n",
    "# or from a existing set of parameters\n",
    "# tire_model = tire_model_from_arr(H_LC0_18X6_7)"
   ]
  },
  {
   "cell_type": "code",
   "execution_count": null,
   "metadata": {},
   "outputs": [],
   "source": [
    "tire_model.UNLOADED_RADIUS = 0.223\n",
    "tire_model.NOMPRES = 83000\n",
    "tire_model.FNOMIN = 1100"
   ]
  },
  {
   "attachments": {},
   "cell_type": "markdown",
   "metadata": {},
   "source": [
    "We should look into LMA as a alternative to the GNA that we are using now in the least squares fitting (see https://en.wikipedia.org/wiki/Levenberg%E2%80%93Marquardt_algorithm)"
   ]
  },
  {
   "cell_type": "code",
   "execution_count": null,
   "metadata": {},
   "outputs": [],
   "source": [
    "def parameter_estimation_function_dev(x1, run, tk: TireMFModel, params_list, error_list, loss, mask: ArrayLike, ts: bool = False):\n",
    "    error = parameter_estimation_function(x1, run, tk, params_list, error_list, loss, mask, ts)\n",
    "    # calculate rms error\n",
    "    rms_error = np.sqrt(np.mean(np.square(error)))\n",
    "    return rms_error\n",
    "\n",
    "def run_fit_dev(tire_model, data, loss_func, mask, params_list, error_list, ts=False, graph=False, fmin_t=True):\n",
    "    if fmin_t:\n",
    "        sol = fmin(parameter_estimation_function_dev, tire_model.dump_params()[mask], args=(data, tire_model, params_list, error_list, loss_func, mask,), disp=True)\n",
    "        out = parameter_estimation_function(sol, data, tire_model, params_list, error_list, loss_func, mask)\n",
    "    else:\n",
    "        sol = least_squares(parameter_estimation_function, tire_model.dump_params()[mask], args=(data, tire_model, params_list, error_list, loss_func, mask,), method='trf', jac='2-point', verbose=2, ftol=0.001)\n",
    "        out = parameter_estimation_function(sol.x, data, tire_model, params_list, error_list, loss_func, mask)\n",
    "    if graph:\n",
    "        split_run_with_MF_SA(data, tire_model, f\"After Fy, Fx, Mz, and Mx Optimization\")"
   ]
  },
  {
   "cell_type": "code",
   "execution_count": null,
   "metadata": {},
   "outputs": [],
   "source": [
    "def clean_press(dd):\n",
    "    del_8 = dd.P - 8*PSI_TO_PA\n",
    "    del_10 = dd.P - 10*PSI_TO_PA\n",
    "    del_12 = dd.P - 12*PSI_TO_PA\n",
    "    del_14 = dd.P - 14*PSI_TO_PA\n",
    "    delta_press_abs = np.minimum(np.minimum(np.abs(del_8), np.abs(del_10)), np.minimum(np.abs(del_12), np.abs(del_14)))\n",
    "\n",
    "    delta_press = np.zeros(dd.P.shape)\n",
    "    delta_press[np.abs(del_8) == delta_press_abs] = del_8[np.abs(del_8) == delta_press_abs]\n",
    "    delta_press[np.abs(del_10) == delta_press_abs] = del_10[np.abs(del_10) == delta_press_abs]\n",
    "    delta_press[np.abs(del_12) == delta_press_abs] = del_12[np.abs(del_12) == delta_press_abs]\n",
    "    delta_press[np.abs(del_14) == delta_press_abs] = del_14[np.abs(del_14) == delta_press_abs]\n",
    "    return delta_press"
   ]
  },
  {
   "cell_type": "code",
   "execution_count": null,
   "metadata": {},
   "outputs": [],
   "source": [
    "# filter the data to get only IA != 0, PHIT ~ 0, and SA not in a transient state (when it inverts)\n",
    "df = remove_time_gaps(filter_vel(cornering, 11.1, 0.1))\n",
    "df = df[np.abs(df.SL) == 0]\n",
    "df = df[df.TSTC > 50]\n",
    "# Fit Fy to combined cornering and drive brake data\n",
    "mask_pure = [\"PCY1\", \"PDY1\", \"PDY2\", \"PEY1\", \"PEY2\", \"PKY1\", \"PKY2\", \"PKY4\", \"PKY6\", \"PHY1\", \"PHY2\", \"PVY1\", \"PVY2\"]\n",
    "# mask_com = [\"PCY1\", \"PDY1\", \"PDY2\", \"PEY1\", \"PEY2\", \"PKY1\", \"PKY2\", \"PKY4\", \"PKY6\"]\n",
    "mask = [\"PDY3\", \"PEY3\", \"PEY4\", \"PEY5\", \"PKY3\", \"PKY5\", \"PKY7\", \"PVY3\", \"PVY4\"]\n",
    "# mask = [\"PDY3\", \"PEY4\", \"PEY5\", \"PKY3\", \"PKY5\", \"PKY7\", \"PVY3\", \"PVY4\"]\n",
    "mask = np.concatenate((generate_mask(mask_pure), generate_mask(mask), FY_MASK_IA_PRESS, FY_MASK_PRESS))\n",
    "# print(mask)\n",
    "run_fit_dev(tire_model, df, fit_f_y, mask, params_list, error_list, fmin_t=False)"
   ]
  },
  {
   "cell_type": "code",
   "execution_count": null,
   "metadata": {},
   "outputs": [],
   "source": [
    "# filter the data to get only IA = 0, PHIT ~ 0, and SA not in a transient state (when it inverts)\n",
    "df = remove_time_gaps(filter_vel(combi_runs, 11.1, 0.1))\n",
    "df = df[np.abs(df.SL) != 0]\n",
    "df = df[df.TSTC > 50]\n",
    "# Fit Fy to combined cornering and drive brake data\n",
    "run_fit_dev(tire_model, df, fit_f_y, np.concatenate((generate_mask([\"RBY4\", \"RVY3\"]), FY_MASK_COM)), params_list, error_list, fmin_t=False)"
   ]
  },
  {
   "cell_type": "code",
   "execution_count": null,
   "metadata": {},
   "outputs": [],
   "source": [
    "df = remove_time_gaps(filter_vel(combi_runs, 11.1, 0.1))\n",
    "# df = df[np.abs(df.SL) == 0]\n",
    "df = df[df.TSTC > 50]\n",
    "err = parameter_estimation_function_dev(tire_model.dump_params()[FY_MASK_COM], df, tire_model, params_list, error_list, fit_f_y, FY_MASK_COM)\n",
    "print(err)\n",
    "# split_run_with_MF_SA(df, tire_model, f\"After Fy, Fx, Mz, and Mx Optimization\")\n",
    "tire_model.PVY1 = 0\n",
    "tire_model.PVY2 = 0\n",
    "tire_model.PHY1 = 0\n",
    "tire_model.PHY2 = 0\n",
    "tire_model.PEY3 = 0\n",
    "err = parameter_estimation_function_dev(tire_model.dump_params()[FY_MASK_COM], df, tire_model, params_list, error_list, fit_f_y, FY_MASK_COM)\n",
    "print(err)\n",
    "split_run_with_MF_SA(df, tire_model, f\"After Fy, Fx, Mz, and Mx Optimization\")"
   ]
  },
  {
   "cell_type": "code",
   "execution_count": null,
   "metadata": {},
   "outputs": [],
   "source": [
    "# plot rms error vs SA and FZ\n",
    "df = remove_time_gaps(filter_vel(combi_runs, 11.1, 0.1))\n",
    "# df = df[np.abs(clean_press(df)) < 2000]\n",
    "df = df[np.abs(df.SL) == 0]\n",
    "err = parameter_estimation_function(tire_model.dump_params()[FY_MASK_COM], df, tire_model, params_list, error_list, fit_f_y_norm, FY_MASK_COM)\n",
    "fig = go.Figure()\n",
    "fig.add_trace(go.Scattergl(x=np.rad2deg(df.SA), y=err, customdata=df.P/1000, mode='markers', marker=dict(color=np.abs(clean_press(df)), colorscale='Viridis', size=1, showscale=True), hovertemplate=\"SA: %{x:.2f} deg<br>IA: %{marker.color:.2f} deg<br>Error: %{y:.2f} N<br>Press: %{customdata:.2f} kPa\"))\n",
    "fig.add_histogram(y=err, histnorm='probability density', name=\"err\")\n",
    "fig.update_layout(template=\"plotly_dark\", title=\"Error (N) vs SA\", xaxis_title=\"SA\", yaxis_title=\"RMS Error\")\n",
    "fig.show()"
   ]
  },
  {
   "cell_type": "code",
   "execution_count": null,
   "metadata": {},
   "outputs": [],
   "source": [
    "# Fit Fx to combined cornering and drive brake data\n",
    "df = remove_time_gaps(filter_vel(combi_runs, 11.1, 0.1))\n",
    "df = df[np.abs(df.SL) != 0]\n",
    "df = filter_sa(df)\n",
    "# df = df[df.TSTC > 50]\n",
    "run_fit_dev(tire_model, df, fit_f_x, np.concatenate((FX_MASK_IND, FX_MASK_PRESS, FX_MASK_IA)), params_list, error_list, fmin_t=False)"
   ]
  },
  {
   "cell_type": "code",
   "execution_count": null,
   "metadata": {},
   "outputs": [],
   "source": [
    "# Fit Fx to combined cornering and drive brake data\n",
    "df = remove_time_gaps(filter_vel(combi_runs))\n",
    "df = df[np.abs(df.SL) != 0] # the cornering runs arent useful here\n",
    "# df = df[df.TSTC > 50]\n",
    "run_fit_dev(tire_model, df, fit_f_x, FX_MASK_COM, params_list, error_list, fmin_t=False)"
   ]
  },
  {
   "cell_type": "code",
   "execution_count": null,
   "metadata": {},
   "outputs": [],
   "source": [
    "# Fit Mz to combined cornering and drive brake data\n",
    "df = remove_time_gaps(filter_vel(cornering, 11.1, 0.1))\n",
    "df = df[np.abs(df.SL) == 0]\n",
    "# df = df[df.TSTC > 50]\n",
    "run_fit_dev(tire_model, df, fit_m_z, np.concatenate((MZ_MASK_IND, MZ_MASK_PRESS, MZ_MASK_IA)), params_list, error_list, fmin_t=False)"
   ]
  },
  {
   "cell_type": "code",
   "execution_count": null,
   "metadata": {},
   "outputs": [],
   "source": [
    "# Fit Mz to combined cornering and drive brake data\n",
    "df = remove_time_gaps(filter_vel(combi_runs))\n",
    "df = df[np.abs(df.SL) != 0]\n",
    "# df = df[df.TSTC > 50]\n",
    "run_fit_dev(tire_model, df, fit_m_z, MZ_MASK_COM, params_list, error_list, fmin_t=False)"
   ]
  },
  {
   "cell_type": "code",
   "execution_count": null,
   "metadata": {},
   "outputs": [],
   "source": [
    "# Generate graphs to check the fit\n",
    "# split_run_with_MF_SR(drive_brake, tire_model, f\"After Fy, Fx, Mz, and Mx Optimization\")\n",
    "# split_run_fit(drive_brake, tire_model, f\"After Fy Optimization\")\n",
    "# split_run_with_MF_SA(cornering, tire_model, f\"After Fy, Fx, Mz, and Mx Optimization\")\n",
    "# cornering.MZ = 0\n",
    "split_run_fit(df, tire_model, f\"After Fy Optimization\")\n",
    "# split_run_fit(drive_brake, tire_model, f\"After Fy Optimization\")\n"
   ]
  },
  {
   "cell_type": "code",
   "execution_count": null,
   "metadata": {},
   "outputs": [],
   "source": [
    "# Generate graphs to check smoothness of the fit\n",
    "sweep_SA(tire_model, \"Slip Angle\")\n",
    "sweep_SR(tire_model, \"Slip Ratio\")"
   ]
  },
  {
   "cell_type": "code",
   "execution_count": null,
   "metadata": {},
   "outputs": [],
   "source": [
    "# Dump the parameters to a List\n",
    "dump_param(tire_model.dump_params())\n"
   ]
  },
  {
   "cell_type": "code",
   "execution_count": null,
   "metadata": {},
   "outputs": [],
   "source": [
    "# Write out the parameters with their names and descriptions\n",
    "tire_model_2 = readTIR(make_path('./Data/TTCData/TIR_Templates/FSAE_Defaults.tir'))\n",
    "# tire_model_2 = readTIR(make_path('./Data/TTCData/TIR_Templates/H_R20_18X6_7_V1.tir'))\n",
    "param = tire_model_2.dump_params()\n",
    "params = tire_model.dump_params()\n",
    "# news = params\n",
    "# news[FY_TURNSLIP] = param[FY_TURNSLIP]\n",
    "# dump_param(news)\n",
    "for i in FY_MASK_COM:#np.sort(np.concatenate((FY_MASK_PRESS, FY_MASK_IND, FY_MASK_IA, FY_MASK_IA_PRESS))):\n",
    "        print(f\"{i}\\t{params[i]:.4f}\\t{NAMES[i]}\\t{LABLES[i]}\\tDefault:{param[i]:.4f}\")\n",
    "print(get_param_list(MZ_TURNSLIP))"
   ]
  },
  {
   "cell_type": "code",
   "execution_count": null,
   "metadata": {},
   "outputs": [],
   "source": [
    "print(f\"{tire_model.PPX1:.4f} {tire_model.PPX3:.4f}\")\n",
    "print(f\"{tire_model.PPX2:.4f} {tire_model.PPX4:.4f}\")"
   ]
  },
  {
   "cell_type": "code",
   "execution_count": null,
   "metadata": {},
   "outputs": [],
   "source": [
    "# Write out the parameters to a file\n",
    "writeTIR(make_path('./Data/TTCData/TIR_Templates/H_R20_18X6_7_V3.tir'), tire_model)"
   ]
  },
  {
   "cell_type": "code",
   "execution_count": null,
   "metadata": {},
   "outputs": [],
   "source": [
    "# Generate graphs to check the parameter convergence\n",
    "gen_param_optimization_graph(params_list, FY_TURNSLIP, error_list)"
   ]
  }
 ],
 "metadata": {
  "kernelspec": {
   "display_name": ".venv",
   "language": "python",
   "name": "python3"
  },
  "language_info": {
   "codemirror_mode": {
    "name": "ipython",
    "version": 3
   },
   "file_extension": ".py",
   "mimetype": "text/x-python",
   "name": "python",
   "nbconvert_exporter": "python",
   "pygments_lexer": "ipython3",
   "version": "3.10.9"
  },
  "orig_nbformat": 4,
  "vscode": {
   "interpreter": {
    "hash": "a40ddc490a6ab3d8d5c36ac4a91310ba012979717884fb4180c23af057abbc60"
   }
  }
 },
 "nbformat": 4,
 "nbformat_minor": 2
}
