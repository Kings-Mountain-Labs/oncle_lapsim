{
 "cells": [
  {
   "cell_type": "code",
   "execution_count": null,
   "metadata": {},
   "outputs": [],
   "source": [
    "import numpy as np\n",
    "import plotly.graph_objects as go\n",
    "import plotly.express as px\n",
    "import plotly\n",
    "plotly.offline.init_notebook_mode()\n",
    "from toolkit.tire_model.tire_model_pacejka_2010 import *\n",
    "from toolkit.tire_model.tire_model_fitting import *\n",
    "from toolkit.tire_model.ttc_loader import *\n",
    "from toolkit.tire_model.tire_fitting_masks import *\n",
    "from toolkit.tire_model.tire_model_utils import *\n",
    "from toolkit.common.constants import *"
   ]
  },
  {
   "cell_type": "code",
   "execution_count": null,
   "metadata": {},
   "outputs": [],
   "source": [
    "run = metric_to_si(load_ttc_from_mat(make_path('./Data/TTCData/B1464run20.mat')))"
   ]
  },
  {
   "cell_type": "code",
   "execution_count": null,
   "metadata": {},
   "outputs": [],
   "source": [
    "df = run.copy(deep=True)\n",
    "df = filter_vel(df, 11.1, 0.1)\n",
    "df = filter_eccentricity(df)\n"
   ]
  },
  {
   "cell_type": "code",
   "execution_count": null,
   "metadata": {},
   "outputs": [],
   "source": [
    "split_run_fit_f(run, df, f\"After Fy, Fx, Mz, and Mx Optimization\")"
   ]
  },
  {
   "cell_type": "code",
   "execution_count": null,
   "metadata": {},
   "outputs": [],
   "source": [
    "tire_model = tire_model_from_arr(H_R20_18X6_7)\n",
    "split_run_with_MF_SA(df, tire_model, f\"After Fy, Fx, Mz, and Mx Optimization\")"
   ]
  },
  {
   "cell_type": "code",
   "execution_count": null,
   "metadata": {},
   "outputs": [],
   "source": [
    "split_run_with_MF_SA(run, tire_model, f\"After Fy, Fx, Mz, and Mx Optimization\")"
   ]
  },
  {
   "cell_type": "code",
   "execution_count": null,
   "metadata": {},
   "outputs": [],
   "source": [
    "df = run #filter_vel(run, 11.1, 0.1)\n",
    "# df = df[np.abs(df.IA) < np.deg2rad(0.5)]\n",
    "# df = df[np.logical_not(((df.ET > 109.0) & (df.ET < 121.5)) | ((df.ET > 142.0) & (df.ET < 156.0)) | ((df.ET > 244.0) & (df.ET < 257.0)) | ((df.ET > 413.0) & (df.ET < 426.0)))]\n",
    "# df = df[np.logical_not(((df.ET > 885.0) & (df.ET < 899.0)) | ((df.ET > 1020.0) & (df.ET < 1034.0)))]\n",
    "fig = make_subplots(5, 1, shared_xaxes=True)\n",
    "fig.add_scattergl(x=df.ET, y=df.P, row=1, col=1, mode=\"markers\", marker=dict(size=1), name=\"Press\")\n",
    "fig.add_scattergl(x=df.ET, y=df.FY, row=2, col=1, mode=\"markers\", marker=dict(size=1), name=\"FY\")\n",
    "# fig.add_scattergl(x=df.ET, y=df.FX, row=2, col=1, mode=\"markers\", marker=dict(size=1), name=\"FX\")\n",
    "fig.add_scattergl(x=df.ET, y=df.FZ, row=2, col=1, mode=\"markers\", marker=dict(size=1), name=\"FZ\")\n",
    "fig.add_scattergl(x=df.ET, y=df.RL, row=3, col=1, mode=\"markers\", marker=dict(size=1), name=\"RL\")\n",
    "# fig.add_scattergl(x=df.ET, y=df.RE, row=3, col=1, mode=\"markers\", marker=dict(size=1), name=\"RE\")\n",
    "fig.add_scattergl(x=df.ET, y=np.rad2deg(df.IA), row=4, col=1, mode=\"markers\", marker=dict(size=1), name=\"IA\")\n",
    "fig.add_scattergl(x=df.ET, y=np.rad2deg(df.SA), row=4, col=1, mode=\"markers\", marker=dict(size=1), name=\"SA\")\n",
    "fig.add_scattergl(x=df.ET, y=df.SL, row=4, col=1, mode=\"markers\", marker=dict(size=1), name=\"SL\")\n",
    "fig.add_scattergl(x=df.ET, y=df.V, row=4, col=1, mode=\"markers\", marker=dict(size=1), name=\"V\")\n",
    "# fig.add_scattergl(x=df.ET, y=df.RST, row=5, col=1, mode=\"markers\", marker=dict(size=1), name=\"RST\")\n",
    "# fig.add_scattergl(x=df.ET, y=df.TSTI, row=5, col=1, mode=\"markers\", marker=dict(size=1), name=\"TSTI\")\n",
    "fig.add_scattergl(x=df.ET, y=df.TSTC, row=5, col=1, mode=\"markers\", marker=dict(size=1), name=\"TSTC\")\n",
    "# fig.add_scattergl(x=df.ET, y=df.TSTO, row=5, col=1, mode=\"markers\", marker=dict(size=1), name=\"TSTO\")\n",
    "fig.update_layout(template=\"plotly_dark\", title=f\"TTC run\", xaxis_title=\"ET (sec)\", height=1000)\n",
    "fig.show()"
   ]
  }
 ],
 "metadata": {
  "kernelspec": {
   "display_name": ".venv",
   "language": "python",
   "name": "python3"
  },
  "language_info": {
   "codemirror_mode": {
    "name": "ipython",
    "version": 3
   },
   "file_extension": ".py",
   "mimetype": "text/x-python",
   "name": "python",
   "nbconvert_exporter": "python",
   "pygments_lexer": "ipython3",
   "version": "3.11.9"
  },
  "orig_nbformat": 4
 },
 "nbformat": 4,
 "nbformat_minor": 2
}
