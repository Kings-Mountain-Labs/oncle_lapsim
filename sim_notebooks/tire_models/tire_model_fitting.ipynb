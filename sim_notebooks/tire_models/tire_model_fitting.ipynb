{
 "cells": [
  {
   "cell_type": "code",
   "execution_count": null,
   "metadata": {},
   "outputs": [],
   "source": [
    "import numpy as np\n",
    "import sys\n",
    "sys.path.append('../Functions/py_functions/') # This path is so that within each function file, you can import the other function files with relative paths\n",
    "sys.path.append('../') # This path is so that we can import the functions folder from the root directory compared to where this file is\n",
    "from Functions.py_functions.loading_util import make_path\n",
    "from Functions.py_functions.tire_model.tire_model_pacejka_2010 import *\n",
    "from Functions.py_functions.tire_model.tire_model_fitting import *\n",
    "from Functions.py_functions.tire_model.ttc_loader import *\n",
    "from Functions.py_functions.tire_model.tire_fitting_masks import *\n",
    "from Functions.py_functions.tire_model.tire_model_utils import *"
   ]
  },
  {
   "cell_type": "code",
   "execution_count": null,
   "metadata": {},
   "outputs": [],
   "source": [
    "# Get the ttc data for the tire you want to fit\n",
    "combi_runs, cornering, drive_brake, name = load_runs(get_R20_18x6_7_runs(), smooth=True)"
   ]
  },
  {
   "cell_type": "code",
   "execution_count": null,
   "metadata": {},
   "outputs": [],
   "source": [
    "# If you want to start from the default tir file\n",
    "tire_model = readTIR(make_path('./Data/TTCData/TIR_Templates/FSAE_Defaults.tir'))\n",
    "# or from a existing set of parameters\n",
    "# tire_model = tire_model_from_arr(H_R20_18X6_6)"
   ]
  },
  {
   "cell_type": "code",
   "execution_count": null,
   "metadata": {},
   "outputs": [],
   "source": [
    "tire_model.UNLOADED_RADIUS = 0.223\n",
    "tire_model.NOMPRES = 83000\n",
    "tire_model.FNOMIN = 1100 # the max normal force if the model is limited to 2 times this value\n",
    "tire_model.PKX1 = 48\n",
    "tire_model.PKX2 = 15 # the default causes you to need a very high fnomin\n",
    "tire_model.PKX3 = -0.3"
   ]
  },
  {
   "attachments": {},
   "cell_type": "markdown",
   "metadata": {},
   "source": [
    "We should look into LMA as a alternative to the GNA that we are using now in the least squares fitting (see https://en.wikipedia.org/wiki/Levenberg%E2%80%93Marquardt_algorithm)"
   ]
  },
  {
   "cell_type": "code",
   "execution_count": null,
   "metadata": {},
   "outputs": [],
   "source": [
    "# filter the data to get only IA = 0, PHIT ~ 0, and SA not in a transient state (when it inverts)\n",
    "df = remove_time_gaps(filter_ia(filter_vel(filter_press(cornering, press=82700, d_press=6000), 11.1, 0.1)))\n",
    "df = df[np.abs(df.SL) == 0]\n",
    "df = df[df.TSTC > 50]\n",
    "run_fit(tire_model, df, fit_f_y, FY_MASK_IND)"
   ]
  },
  {
   "cell_type": "code",
   "execution_count": null,
   "metadata": {},
   "outputs": [],
   "source": [
    "# filter the data to get only IA = 0, PHIT ~ 0, and SA not in a transient state (when it inverts)\n",
    "df = remove_time_gaps(filter_ia(filter_vel(cornering, 11.1, 0.1)))\n",
    "df = df[np.abs(df.SL) == 0]\n",
    "df = df[df.TSTC > 50]\n",
    "run_fit(tire_model, df, fit_f_y, FY_MASK_PRESS)"
   ]
  },
  {
   "cell_type": "code",
   "execution_count": null,
   "metadata": {},
   "outputs": [],
   "source": [
    "# filter the data to get only IA = 0, PHIT ~ 0, and SA not in a transient state (when it inverts)\n",
    "df = remove_time_gaps(filter_vel(cornering, 11.1, 0.1))\n",
    "df = df[np.abs(df.SL) == 0]\n",
    "df = df[df.TSTC > 50]\n",
    "run_fit(tire_model, df, fit_f_y, np.concatenate((FY_MASK_IA, FY_MASK_IA_PRESS)), graph=True)"
   ]
  },
  {
   "cell_type": "code",
   "execution_count": null,
   "metadata": {},
   "outputs": [],
   "source": [
    "# Fit Mz to combined cornering and drive brake data\n",
    "df = remove_time_gaps(filter_ia(filter_vel(filter_press(cornering, press=82700, d_press=6000), 11.1, 0.1)))\n",
    "df = df[np.abs(df.SL) == 0]\n",
    "df = df[df.TSTC > 50]\n",
    "run_fit(tire_model, df, fit_m_z, MZ_MASK_IND)"
   ]
  },
  {
   "cell_type": "code",
   "execution_count": null,
   "metadata": {},
   "outputs": [],
   "source": [
    "# Fit Mz to combined cornering and drive brake data\n",
    "df = remove_time_gaps(filter_ia(filter_vel(cornering, 11.1, 0.1)))\n",
    "df = df[np.abs(df.SL) == 0]\n",
    "df = df[df.TSTC > 50]\n",
    "run_fit(tire_model, df, fit_m_z, MZ_MASK_PRESS)"
   ]
  },
  {
   "cell_type": "code",
   "execution_count": null,
   "metadata": {},
   "outputs": [],
   "source": [
    "# Fit Mz to combined cornering and drive brake data\n",
    "df = remove_time_gaps(filter_vel(cornering, 11.1, 0.1))\n",
    "df = df[np.abs(df.SL) == 0]\n",
    "df = df[df.TSTC > 50]\n",
    "run_fit(tire_model, df, fit_m_z, MZ_MASK_IA, graph=True)"
   ]
  },
  {
   "cell_type": "code",
   "execution_count": null,
   "metadata": {},
   "outputs": [],
   "source": [
    "# filter the data to get only IA = 0, PHIT ~ 0, and SA not in a transient state (when it inverts)\n",
    "df = remove_time_gaps(filter_vel(drive_brake, 11.1, 0.1))\n",
    "df = df[np.abs(df.SL) < 0.01]\n",
    "df = df[df.TSTC > 50]\n",
    "run_fit(tire_model, df, fit_f_y, FY_LAMBDA, graph=True, long=True)"
   ]
  },
  {
   "cell_type": "code",
   "execution_count": null,
   "metadata": {},
   "outputs": [],
   "source": [
    "# filter the data to get only IA = 0, PHIT ~ 0, and SA not in a transient state (when it inverts)\n",
    "df = remove_time_gaps(filter_vel(drive_brake, 11.1, 0.1))\n",
    "df = df[np.abs(df.SL) != 0]\n",
    "df = df[df.TSTC > 50]\n",
    "# Fit Fy to combined cornering and drive brake data\n",
    "fy_mask_com_new = FY_MASK_COM.copy()\n",
    "fy_mask_com_new.remove(NAMES.index(\"RBY3\"))\n",
    "fy_mask_com_new.remove(NAMES.index(\"REY1\"))\n",
    "fy_mask_com_new.remove(NAMES.index(\"REY2\"))\n",
    "run_fit(tire_model, df, fit_f_y, fy_mask_com_new, graph=True, long=True)"
   ]
  },
  {
   "cell_type": "code",
   "execution_count": null,
   "metadata": {},
   "outputs": [],
   "source": [
    "# Fit Mz to combined cornering and drive brake data\n",
    "df = remove_time_gaps(filter_vel(combi_runs, 11.1, 0.1))\n",
    "df = df[np.abs(df.SL) != 0]\n",
    "df = df[df.TSTC > 50]\n",
    "run_fit(tire_model, df, fit_m_z, MZ_MASK_COM, graph=True, long=True)"
   ]
  },
  {
   "cell_type": "code",
   "execution_count": null,
   "metadata": {},
   "outputs": [],
   "source": [
    "params = tire_model.dump_params()\n",
    "params[FY_LAMBDA] = 1.0\n",
    "set_x(params, tire_model)"
   ]
  },
  {
   "cell_type": "code",
   "execution_count": null,
   "metadata": {},
   "outputs": [],
   "source": [
    "# Fit Fx to combined cornering and drive brake data\n",
    "df = remove_time_gaps(filter_ia(filter_vel(filter_press(drive_brake, press=82700, d_press=6000), 11.1, 0.1)))\n",
    "df = df[np.abs(df.SL) != 0]\n",
    "df = df[np.abs(df.SA) < np.deg2rad(1)]\n",
    "df = df[df.TSTC > 50]\n",
    "fx_mask_ind_new = FX_MASK_IND.copy()\n",
    "# fx_mask_ind_new.remove(NAMES.index(\"PKX1\"))\n",
    "run_fit(tire_model, df, fit_f_x, fx_mask_ind_new)"
   ]
  },
  {
   "cell_type": "code",
   "execution_count": null,
   "metadata": {},
   "outputs": [],
   "source": [
    "# Fit Fx to combined cornering and drive brake data\n",
    "df = remove_time_gaps(filter_ia(filter_vel(drive_brake, 11.1, 0.1)))\n",
    "df = df[np.abs(df.SL) != 0] # the cornering runs arent useful here\n",
    "df = df[np.abs(df.SA) < np.deg2rad(1)]\n",
    "df = df[df.TSTC > 50]\n",
    "run_fit(tire_model, df, fit_f_x, FX_MASK_PRESS)"
   ]
  },
  {
   "cell_type": "code",
   "execution_count": null,
   "metadata": {},
   "outputs": [],
   "source": [
    "# Fit Fx to combined cornering and drive brake data\n",
    "df = remove_time_gaps(filter_vel(drive_brake, 11.1, 0.1))\n",
    "df = df[np.abs(df.SL) != 0] # the cornering runs arent useful here\n",
    "df = df[np.abs(df.SA) < np.deg2rad(1)]\n",
    "df = df[df.TSTC > 50]\n",
    "run_fit(tire_model, df, fit_f_x, FX_MASK_IA, graph=True, long=True)"
   ]
  },
  {
   "cell_type": "code",
   "execution_count": null,
   "metadata": {},
   "outputs": [],
   "source": [
    "# Fit Fx to combined cornering and drive brake data\n",
    "df = remove_time_gaps(filter_vel(combi_runs, 11.1, 0.1))\n",
    "df = df[df.TSTC > 50]\n",
    "df = df[np.abs(df.SA) > np.deg2rad(1)]\n",
    "fx_mask_com_new = FX_MASK_COM.copy()\n",
    "fx_mask_com_new.remove(NAMES.index(\"RHX1\"))\n",
    "run_fit(tire_model, df, fit_f_x, fx_mask_com_new, graph=True)"
   ]
  },
  {
   "cell_type": "code",
   "execution_count": null,
   "metadata": {},
   "outputs": [],
   "source": [
    "out = parameter_estimation_function(tire_model.dump_params()[MX_MASK_IND_PRESS], remove_time_gaps(filter_vel(combi_runs)), tire_model, params_list, error_list, fit_f_y, MX_MASK_IND_PRESS)\n",
    "rms_error_fy = np.sqrt(np.mean(np.square(out)))\n",
    "out = parameter_estimation_function(tire_model.dump_params()[MX_MASK_IND_PRESS], remove_time_gaps(filter_vel(combi_runs)), tire_model, params_list, error_list, fit_f_x, MX_MASK_IND_PRESS)\n",
    "rms_error_fx = np.sqrt(np.mean(np.square(out)))\n",
    "out = parameter_estimation_function(tire_model.dump_params()[MX_MASK_IND_PRESS], remove_time_gaps(filter_vel(combi_runs)), tire_model, params_list, error_list, fit_m_z, MX_MASK_IND_PRESS)\n",
    "rms_error_mz = np.sqrt(np.mean(np.square(out)))\n",
    "print(f\"RMS Errors: Fy:{rms_error_fy:.2f}, Fx:{rms_error_fx:.2f}, Mz:{rms_error_mz:.2f}\")\n",
    "tire_model_two = tire_model\n",
    "tire_model_two.PVY1 = 0\n",
    "tire_model_two.PVY2 = 0\n",
    "tire_model_two.PHY1 = 0\n",
    "tire_model_two.PHY2 = 0\n",
    "out = parameter_estimation_function(tire_model_two.dump_params()[MX_MASK_IND_PRESS], remove_time_gaps(filter_vel(combi_runs)), tire_model_two, params_list, error_list, fit_f_y, MX_MASK_IND_PRESS)\n",
    "rms_error_fy = np.sqrt(np.mean(np.square(out)))\n",
    "out = parameter_estimation_function(tire_model_two.dump_params()[MX_MASK_IND_PRESS], remove_time_gaps(filter_vel(combi_runs)), tire_model_two, params_list, error_list, fit_f_x, MX_MASK_IND_PRESS)\n",
    "rms_error_fx = np.sqrt(np.mean(np.square(out)))\n",
    "out = parameter_estimation_function(tire_model_two.dump_params()[MX_MASK_IND_PRESS], remove_time_gaps(filter_vel(combi_runs)), tire_model_two, params_list, error_list, fit_m_z, MX_MASK_IND_PRESS)\n",
    "rms_error_mz = np.sqrt(np.mean(np.square(out)))\n",
    "print(f\"RMS Errors: Fy:{rms_error_fy:.2f}, Fx:{rms_error_fx:.2f}, Mz:{rms_error_mz:.2f}\")"
   ]
  },
  {
   "cell_type": "code",
   "execution_count": null,
   "metadata": {},
   "outputs": [],
   "source": [
    "# Generate graphs to check the fit\n",
    "# split_run_with_MF_SR(drive_brake, tire_model, f\"After Fy, Fx, Mz, and Mx Optimization\")\n",
    "split_run_with_MF_SR(combi_runs, tire_model, f\"After Fy, Fx, Mz, and Mx Optimization\")\n",
    "# split_run_fit(drive_brake, tire_model, f\"After Fy Optimization\")\n",
    "# split_run_with_MF_SA(cornering, tire_model, f\"After Fy, Fx, Mz, and Mx Optimization\")\n",
    "# split_run_fit(cornering, tire_model, f\"After Fy Optimization\")\n",
    "# split_run_fit(drive_brake, tire_model, f\"After Fy Optimization\")\n"
   ]
  },
  {
   "cell_type": "code",
   "execution_count": null,
   "metadata": {},
   "outputs": [],
   "source": [
    "print(tire_model.PKX1)\n",
    "print(tire_model.PKX2)\n",
    "print(tire_model.PKX3)"
   ]
  },
  {
   "cell_type": "code",
   "execution_count": null,
   "metadata": {},
   "outputs": [],
   "source": [
    "# Generate graphs to check smoothness of the fit\n",
    "sweep_SA(tire_model, \"Slip Angle\")\n",
    "sweep_SR(tire_model, \"Slip Ratio\")"
   ]
  },
  {
   "cell_type": "code",
   "execution_count": null,
   "metadata": {},
   "outputs": [],
   "source": [
    "# Dump the parameters to a list\n",
    "# dump_param(tire_model.dump_params())\n",
    "dump_param(tire_model_two.dump_params())\n"
   ]
  },
  {
   "cell_type": "code",
   "execution_count": null,
   "metadata": {},
   "outputs": [],
   "source": [
    "# Write out the parameters with their names and descriptions\n",
    "tire_model_2 = tire_model_from_arr(H_R25B_18X6_6)#readTIR(make_path('./Data/TTCData/TIR_Templates/FSAE_Defaults.tir'))\n",
    "param = tire_model_2.dump_params()\n",
    "params = tire_model.dump_params()\n",
    "for i in FX_MASK_IND:\n",
    "        print(f\"{i}\\t{params[i]:.4f}\\t{LABELS[i]}\\t{NAMES[i]}\\tDefault:{param[i]:.4f}\")"
   ]
  },
  {
   "cell_type": "code",
   "execution_count": null,
   "metadata": {},
   "outputs": [],
   "source": [
    "# Write out the parameters to a file\n",
    "writeTIR(make_path('./Data/TTCData/TIR_Templates/H_R20_18X6_7.tir'), tire_model)"
   ]
  }
 ],
 "metadata": {
  "kernelspec": {
   "display_name": ".venv",
   "language": "python",
   "name": "python3"
  },
  "language_info": {
   "codemirror_mode": {
    "name": "ipython",
    "version": 3
   },
   "file_extension": ".py",
   "mimetype": "text/x-python",
   "name": "python",
   "nbconvert_exporter": "python",
   "pygments_lexer": "ipython3",
   "version": "3.11.3"
  },
  "orig_nbformat": 4,
  "vscode": {
   "interpreter": {
    "hash": "a40ddc490a6ab3d8d5c36ac4a91310ba012979717884fb4180c23af057abbc60"
   }
  }
 },
 "nbformat": 4,
 "nbformat_minor": 2
}
