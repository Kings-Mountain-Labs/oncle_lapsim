{
 "cells": [
  {
   "cell_type": "code",
   "execution_count": null,
   "metadata": {},
   "outputs": [],
   "source": [
    "import numpy as np\n",
    "import sys\n",
    "import os\n",
    "import plotly.graph_objects as go\n",
    "import plotly.express as px\n",
    "import plotly\n",
    "plotly.offline.init_notebook_mode()\n",
    "import pandas as pd\n",
    "from scipy.optimize import fmin\n",
    "from scipy.ndimage import gaussian_filter1d, uniform_filter1d\n",
    "sys.path.append('../Functions/py_functions/') # This path is so that within each function file, you can import the other function files with relative paths\n",
    "sys.path.append('../') # This path is so that we can import the functions folder from the root directory compared to where this file is\n",
    "from Functions.py_functions.loading_util import make_path\n",
    "from Functions.py_functions.tire_model.tire_model_pacejka_2010 import *\n",
    "from Functions.py_functions.tire_model.tire_model_fitting import *\n",
    "from Functions.py_functions.tire_model.ttc_loader import *\n",
    "from Functions.py_functions.tire_model.tire_fitting_masks import *\n",
    "from Functions.py_functions.tire_model.tire_model_utils import *\n",
    "from Functions.py_functions.constants import *\n",
    "import scipy.io as sio"
   ]
  },
  {
   "cell_type": "code",
   "execution_count": null,
   "metadata": {},
   "outputs": [],
   "source": [
    "raw_ttc = sio.loadmat(make_path('./Data/TTCData/B2356run21.mat'))"
   ]
  },
  {
   "cell_type": "code",
   "execution_count": null,
   "metadata": {},
   "outputs": [],
   "source": [
    "raw_ttc"
   ]
  }
 ],
 "metadata": {
  "kernelspec": {
   "display_name": ".venv",
   "language": "python",
   "name": "python3"
  },
  "language_info": {
   "codemirror_mode": {
    "name": "ipython",
    "version": 3
   },
   "file_extension": ".py",
   "mimetype": "text/x-python",
   "name": "python",
   "nbconvert_exporter": "python",
   "pygments_lexer": "ipython3",
   "version": "3.10.9"
  },
  "orig_nbformat": 4
 },
 "nbformat": 4,
 "nbformat_minor": 2
}
