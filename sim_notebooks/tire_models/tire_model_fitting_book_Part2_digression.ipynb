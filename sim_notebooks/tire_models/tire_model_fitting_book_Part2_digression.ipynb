{
 "cells": [
  {
   "cell_type": "code",
   "execution_count": null,
   "metadata": {},
   "outputs": [],
   "source": [
    "import numpy as np\n",
    "import sys\n",
    "import os\n",
    "import plotly.graph_objects as go\n",
    "import plotly.express as px\n",
    "from plotly.subplots import make_subplots\n",
    "import plotly\n",
    "plotly.offline.init_notebook_mode()\n",
    "import pandas as pd\n",
    "from scipy.optimize import fmin\n",
    "sys.path.append('../Functions/py_functions/') # This path is so that within each function file, you can import the other function files with relative paths\n",
    "sys.path.append('../') # This path is so that we can import the functions folder from the root directory compared to where this file is\n",
    "from Functions.py_functions.loading_util import make_path\n",
    "from Functions.py_functions.tire_model.tire_model_pacejka_2010 import *\n",
    "from Functions.py_functions.tire_model.tire_model_fitting import *\n",
    "from Functions.py_functions.tire_model.ttc_loader import *\n",
    "from Functions.py_functions.tire_model.tire_fitting_masks import *\n",
    "from Functions.py_functions.tire_model.tire_model_utils import *\n",
    "from Functions.py_functions.constants import *"
   ]
  },
  {
   "cell_type": "code",
   "execution_count": null,
   "metadata": {},
   "outputs": [],
   "source": [
    "# Get the ttc data for the tire you want to fit\n",
    "combi_runs, cornering, drive_brake, name = load_runs(get_R20_18x6_7_runs_raw())\n",
    "# create all the boring lists and stuff\n",
    "params_list: List = []\n",
    "error_list: List = []"
   ]
  },
  {
   "cell_type": "code",
   "execution_count": null,
   "metadata": {},
   "outputs": [],
   "source": [
    "# Let's just take a leap of fath and ignore this for a second, we'll come back to it\n",
    "tire_model = tire_model_from_arr(H_R20_18X6_7)\n",
    "fz_nom = tire_model.FNOMIN\n",
    "pres_nom = tire_model.NOMPRES\n",
    "# PHY1, PHY2, PVY1, PVY2 = 0.0, 0.0, 0.0, 0.0"
   ]
  },
  {
   "cell_type": "code",
   "execution_count": null,
   "metadata": {},
   "outputs": [],
   "source": [
    "def plot_fit(fz_targ, func, sa, ia, pres, kappa, figs, dg, name, fz_err=False):\n",
    "    dd = dg[np.abs(dg.FZ - fz_targ) < fz_targ*0.1+20]\n",
    "    dd = dd[np.abs(dd.IA - ia) < np.deg2rad(0.5)]\n",
    "    dd = filter_press(dd, press=pres, d_press=6000)\n",
    "    fy = func(fz_targ, sa, ia, pres, kappa, offsets=True)\n",
    "    fy_real = func(fz_targ, dd.SA, dd.IA, dd.P, dd.SL)\n",
    "    shy, svy = None, None\n",
    "    if type(fy) is tuple:\n",
    "        shy = fy[1]\n",
    "        svy = fy[2]\n",
    "        fy = fy[0]\n",
    "    error = np.mean(np.abs(fy_real - dd.FY))\n",
    "    figs.add_trace(go.Scattergl(x=np.rad2deg(sa), y=fy, name=f\"{name}\\t{error:.2f} N rmse\", legendgroup=f\"{name}\"))\n",
    "    if fz_err:\n",
    "        fz_err = (dd.FZ - fz_targ)\n",
    "        figs.add_trace(go.Scattergl(x=np.rad2deg(dd.SA), y=dd.FZ, mode='markers', marker=dict(size=1.5, color=fz_err, colorscale='Viridis', showscale=True), legendgroup=f\"{name}\", showlegend=False))\n",
    "    else:\n",
    "        figs.add_trace(go.Scattergl(x=np.rad2deg(dd.SA), y=dd.FY, mode='markers', marker=dict(size=1), legendgroup=f\"{name}\", showlegend=False))\n",
    "    if shy is not None:\n",
    "        figs.add_trace(go.Scattergl(x=shy, y=svy, mode='markers', marker=dict(size=4, color='red'), legendgroup=f\"{name}\", showlegend=False))\n",
    "    return error\n",
    "slip_angles = np.linspace(-0.25, 0.25, 100)\n",
    "sweeps = [220, 440, 660, 880, 1100]"
   ]
  },
  {
   "cell_type": "code",
   "execution_count": null,
   "metadata": {},
   "outputs": [],
   "source": [
    "df = remove_time_gaps(filter_vel(cornering, 11.1, 0.1))\n",
    "df = df[df.TSTC > 50] # only use the runs where the tire is warm, greater than 50 deg C\n",
    "def model(fz_targ, sa, ia_targ, press, kappa, offsets=False):\n",
    "    df_z = (fz_targ - fz_nom) / fz_nom\n",
    "    mu_y = (tire_model.PDY1 + tire_model.PDY2 * df_z) * (1 - tire_model.PDY3 * ia_targ**2)\n",
    "    kya = tire_model.PKY1 * fz_nom * np.sin(tire_model.PKY4*np.arctan(fz_targ/((tire_model.PKY2 + tire_model.PKY5*(ia_targ**2))*fz_nom))) * (1 - tire_model.PKY3 * np.abs(ia_targ))\n",
    "    c_y = tire_model.PCY1 # now we get a coefficient for c_y\n",
    "    d_y = mu_y * fz_targ\n",
    "    e_y = (tire_model.PEY1 + tire_model.PEY2 * df_z) * (1 + (tire_model.PEY5 * ia_targ**2) - (tire_model.PEY3 + tire_model.PEY4 * ia_targ) * np.sign(sa))# now we get a coefficient for e_y\n",
    "    b_y = kya / (d_y * c_y) # and then we can get b_y\n",
    "    shy_0 = tire_model.PHY1 + tire_model.PHY2 * df_z\n",
    "    svy_0 = (tire_model.PVY1 + tire_model.PVY2 * df_z) * fz_targ\n",
    "    svy_g = (tire_model.PVY3 + tire_model.PVY4 * df_z) * fz_targ * ia_targ\n",
    "    svy = svy_0 + svy_g\n",
    "    kyg = (tire_model.PKY6 + tire_model.PKY7 * df_z) * fz_targ\n",
    "    shy_g = (kyg * ia_targ - svy_g) / kya\n",
    "    shy = shy_0 + shy_g\n",
    "    sa_y = sa + shy\n",
    "    fy = d_y * np.sin(c_y * np.arctan(b_y * sa_y - e_y * (b_y * sa_y - np.arctan(b_y * sa_y)))) + svy\n",
    "    if offsets:\n",
    "        return (fy, np.ones(1) * np.rad2deg(-shy), np.ones(1) * svy)\n",
    "    return fy\n",
    "fig = go.Figure()\n",
    "i, err = 0.0, 0.0\n",
    "for fza in sweeps:\n",
    "    for pres in [8*PSI_TO_PA, 10*PSI_TO_PA, 12*PSI_TO_PA, 14*PSI_TO_PA]:\n",
    "        error = plot_fit(fza, model, slip_angles, np.deg2rad(0.0), pres, 0.0, fig, df, f\"Fit {fza} N {pres/1000:.1f} kPa\")\n",
    "        err += error\n",
    "        i += 1\n",
    "print(f\"Total err: {(err/i):.2f}\")\n",
    "fig.update_layout(template=\"plotly_dark\", title=f\"Fy vs SA\", xaxis_title=\"SA (deg)\", yaxis_title=\"Fy (N)\")\n",
    "fig.update_yaxes(range=[-3000, 3000])\n",
    "fig.show()"
   ]
  },
  {
   "attachments": {},
   "cell_type": "markdown",
   "metadata": {},
   "source": [
    "While looking at the runs for different pressures I found \n",
    "Something I noticed is that the 55kPa run at 1100N seems very strange, I am inclined to think that that the tire is starting to debead or leak air and then was subsequently filled<br>\n",
    "But enough speculation lets just check"
   ]
  },
  {
   "cell_type": "code",
   "execution_count": null,
   "metadata": {},
   "outputs": [],
   "source": [
    "df = filter_vel(cornering, 11.1, 0.1)\n",
    "df = df[np.abs(df.IA) < np.deg2rad(0.5)]\n",
    "df = remove_time_gaps(df)\n",
    "fig = make_subplots(4, 1, shared_xaxes=True)\n",
    "fig.add_scattergl(x=df.ET, y=df.P, row=1, col=1, mode=\"markers\", marker=dict(size=1), name=\"Press\")\n",
    "fig.add_scattergl(x=df.ET, y=df.FY, row=2, col=1, mode=\"markers\", marker=dict(size=1), name=\"FY\")\n",
    "fig.add_scattergl(x=df.ET, y=df.FZ, row=2, col=1, mode=\"markers\", marker=dict(size=1), name=\"FZ\")\n",
    "fig.add_scattergl(x=df.ET, y=df.RL, row=3, col=1, mode=\"markers\", marker=dict(size=1), name=\"RL\")\n",
    "fig.add_scattergl(x=df.ET, y=df.RE, row=3, col=1, mode=\"markers\", marker=dict(size=1), name=\"RE\")\n",
    "fig.add_scattergl(x=df.ET, y=np.rad2deg(df.IA), row=4, col=1, mode=\"markers\", marker=dict(size=1), name=\"IA\")\n",
    "fig.add_scattergl(x=df.ET, y=np.rad2deg(df.SA), row=4, col=1, mode=\"markers\", marker=dict(size=1), name=\"SA\")\n",
    "fig.update_layout(template=\"plotly_dark\", title=f\"TTC run\", xaxis_title=\"ET (sec)\")\n",
    "fig.show()"
   ]
  },
  {
   "attachments": {},
   "cell_type": "markdown",
   "metadata": {},
   "source": [
    "So that answers our question, at 55kPa and 1100N (and also slightly on the 880N) of $F_z$ the machine bottoms out with the spindle 0.2m off of the belt (look at RL)<br>\n",
    "It is interesting to see how the machine has reasonably large spikes in $F_z$ as the tire returns within the operating range of the machine because the control loop has no way of controlling quickly enough because (assuming its using PID) the D term would be nulled our when the machine hits its travel limit<br>\n",
    "<br>\n",
    "Also It seems that as the machine can go below this when there is a inclination angle"
   ]
  }
 ],
 "metadata": {
  "kernelspec": {
   "display_name": ".venv",
   "language": "python",
   "name": "python3"
  },
  "language_info": {
   "codemirror_mode": {
    "name": "ipython",
    "version": 3
   },
   "file_extension": ".py",
   "mimetype": "text/x-python",
   "name": "python",
   "nbconvert_exporter": "python",
   "pygments_lexer": "ipython3",
   "version": "3.10.9"
  },
  "orig_nbformat": 4
 },
 "nbformat": 4,
 "nbformat_minor": 2
}
