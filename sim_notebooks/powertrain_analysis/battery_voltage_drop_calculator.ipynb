{
 "cells": [
  {
   "cell_type": "code",
   "execution_count": null,
   "metadata": {},
   "outputs": [],
   "source": [
    "import plotly.express as px\n",
    "import numpy as np\n",
    "from plotly.subplots import make_subplots\n",
    "from scipy.ndimage import uniform_filter1d\n",
    "import plotly.graph_objects as go\n",
    "from toolkit.common.constants import *\n",
    "from toolkit.battery_model.battery_model import IRBatteryModel, ParallelGroup, BatteryPack"
   ]
  },
  {
   "cell_type": "code",
   "execution_count": null,
   "metadata": {},
   "outputs": [],
   "source": [
    "\n",
    "# Create cells for the pack\n",
    "cell = IRBatteryModel(3.9, 2000, 0.025)  # Example cell parameters\n",
    "parallel_cells = 7  # 7p configuration\n",
    "group = ParallelGroup(cell, parallel_cells)\n",
    "groups_in_series = [group for _ in range(96)]  # 96s configuration\n",
    "\n",
    "pack = BatteryPack(groups_in_series)\n",
    "\n",
    "# Calculate and display pack characteristics at 2A current draw\n",
    "current_draw = 2\n",
    "print(f\"Total Voltage: {pack.total_voltage():.3f}V\")\n",
    "print(f\"Output Voltage at {current_draw}A: {pack.output_voltage_at_current(current_draw):.3f}V\")\n",
    "print(f\"Power Loss at {current_draw}A: {pack.power_loss_at_current(current_draw):.3f}W\")\n",
    "print(f\"Output Power at {current_draw}A: {pack.output_power_at_current(current_draw):.3f}W\")\n",
    "print(f\"Total Internal Resistance: {pack.total_internal_resistance():.3f}Ω\")\n",
    "v, c, p = pack.get_pack_at_power(1000)\n",
    "print(f\"Voltage: {v:.3f}V, Current: {c:.3f}A, Power Loss: {p:.3f}W\")\n"
   ]
  },
  {
   "cell_type": "code",
   "execution_count": null,
   "metadata": {},
   "outputs": [],
   "source": [
    "v, c, p = pack.get_pack_at_power(30000)\n",
    "print(f\"Total Voltage: {pack.total_voltage():.3f}V, Voltage: {v:.3f}V, Current: {c:.3f}A, Power Loss: {p:.3f}W\")"
   ]
  },
  {
   "cell_type": "code",
   "execution_count": null,
   "metadata": {},
   "outputs": [],
   "source": [
    "# plot the voltage drop of the pack at different powers\n",
    "powers = np.linspace(0, 90000, 100)\n",
    "voltages = np.zeros(len(powers))\n",
    "currents = np.zeros(len(powers))\n",
    "power_losses = np.zeros(len(powers))\n",
    "for i, power in enumerate(powers):\n",
    "    v, c, p = pack.get_pack_at_power(power)\n",
    "    voltages[i] = v\n",
    "    currents[i] = c\n",
    "    power_losses[i] = p\n",
    "\n",
    "fig = px.line(x=powers, y=voltages, title=\"Voltage Drop of 96s7p Pack\", labels={\"x\": \"Power (W)\", \"y\": \"Voltage (V)\"})\n",
    "fig.show()\n",
    "\n",
    "fig = px.line(x=powers, y=currents, title=\"Current Draw of 96s7p Pack\", labels={\"x\": \"Power (W)\", \"y\": \"Current (A)\"})\n",
    "fig.show()\n",
    "\n",
    "fig = px.line(x=powers, y=power_losses, title=\"Power Loss of 96s7p Pack\", labels={\"x\": \"Power (W)\", \"y\": \"Power Loss (W)\"})\n",
    "fig.show()"
   ]
  },
  {
   "cell_type": "code",
   "execution_count": null,
   "metadata": {},
   "outputs": [],
   "source": [
    "from Functions.py_functions.constants import *\n",
    "from Functions.py_functions.car_configuration import Car\n",
    "from Functions.py_functions.gps_importer import *\n",
    "from Functions.py_functions.lap_sims import RunSim\n",
    "from Functions.py_functions.previous_cars import sr_9\n",
    "from Functions.py_functions.tire_model.tire_model_utils import * # this has the tire models\n",
    "from Functions.py_functions.las_solvers.octahedral import Octahedral_LAS\n",
    "from Functions.py_functions.las_solvers.multi_layer import Multi_Layer_LAS\n",
    "from Functions.py_functions.steady_state_solver.ls_optimize import LS_Solver\n",
    "from Functions.py_functions.steady_state_solver.iterative import Iterative_Solver"
   ]
  },
  {
   "cell_type": "code",
   "execution_count": null,
   "metadata": {},
   "outputs": [],
   "source": [
    "track = get_Crows_2023(50)\n",
    "car = sr_9()\n",
    "car.set_tire(H_R20_18X6_7)\n",
    "# solver = LS_Solver()\n",
    "solver = Iterative_Solver()\n",
    "# las = Octahedral_LAS(solver=solver)\n",
    "las = Multi_Layer_LAS(solver=solver)\n",
    "# las.add_layers = 2\n",
    "# car.debug = True\n",
    "# set some settings\n",
    "# car.debug = True\n",
    "v_average = 15\n",
    "mu = 0.65 # mu correction factor, a value of 1 means the road is sandpaper and the actual value should be something lower but im kinda just setting this value to overfit atm\n",
    "target = 0.001\n",
    "# make the simulation object\n",
    "sim = RunSim(track, car, las)"
   ]
  },
  {
   "cell_type": "code",
   "execution_count": null,
   "metadata": {},
   "outputs": [],
   "source": [
    "# run the simulation\n",
    "sim.simulate(sim_type='qts', v_average=v_average, mu=mu, convergence_target=target, bins = 10) # This one is not fully functional yet, but here because it is easier to merge it before moving to github\n",
    "# sim.simulate(sim_type='patton', v_average=v_average, mu=mu, convergence_target=target, bins = 10)\n",
    "# sim.use_beta_init = True"
   ]
  },
  {
   "cell_type": "code",
   "execution_count": null,
   "metadata": {},
   "outputs": [],
   "source": [
    "sim.plot_vs(distance=True, delta_beta_est=True, power_draw=True)"
   ]
  },
  {
   "cell_type": "code",
   "execution_count": null,
   "metadata": {},
   "outputs": [],
   "source": [
    "# now we shall calculate the expected power lost as heat to the resistance in the battery\n",
    "# we shall do this by calculating the power lost in the battery at each point in the lap\n",
    "# and integrating based on u_time because the steps are currently in distance\n",
    "power_draw = sim.motor_power\n",
    "est_voltage, est_current, est_power_loss = np.zeros(len(power_draw)), np.zeros(len(power_draw)), np.zeros(len(power_draw))\n",
    "for i in range(len(power_draw)):\n",
    "    est_voltage[i], est_current[i], est_power_loss[i] = pack.get_pack_at_power(power_draw[i])\n",
    "\n",
    "real_current, real_voltage = track.raw_track[\"MCM_DC_Bus_Current\"][\"Value\"][0, 0][0, :], track.raw_track[\"MCM_DC_Bus_Voltage\"][\"Value\"][0, 0][0, :]\n",
    "dc_power = real_current * real_voltage\n",
    "power_times = track.raw_track[\"MCM_DC_Bus_Current\"][\"Time\"][0, 0][0, :] - track.start_time\n",
    "power_dt = np.zeros(len(power_times))\n",
    "power_dt[1:] = power_times[1:] - power_times[:-1]\n",
    "dc_dist = np.interp(power_times, track.raw_time, track.interp_dist)\n",
    "real_voltage, real_current, real_power_loss = np.zeros(len(dc_power)), np.zeros(len(dc_power)), np.zeros(len(dc_power))\n",
    "for i in range(len(dc_power)):\n",
    "    real_voltage[i], real_current[i], real_power_loss[i] = pack.get_pack_at_power(dc_power[i])\n",
    "\n",
    "energy_use = np.cumsum(power_draw * sim.dt)\n",
    "energy_draw = np.cumsum(est_power_loss * sim.dt)\n",
    "energy_dc = np.cumsum(dc_power * power_dt)\n",
    "energy_draw_dc = np.cumsum(real_power_loss * power_dt)\n",
    "\n",
    "thermal_mass = 34560 # J/K\n",
    "temp_rise_sim = energy_draw / thermal_mass\n",
    "temp_rise_dc = energy_draw_dc / thermal_mass\n",
    "\n",
    "temp_channels = []\n",
    "for channel in track.raw_track.keys():\n",
    "    if \"_Temp\" in channel and \"BMS_Section_\" in channel:\n",
    "        temp_channels.append(channel)\n",
    "        # print(track.raw_track[channel][\"Value\"][0, 0].shape)\n",
    "\n",
    "# now we want to generate the average temprature of all of these channels\n",
    "# We need to exclude any channels that are below 20C or above 75C because these are not valid\n",
    "temp_time = track.raw_track[temp_channels[0]][\"Time\"][0, 0][0, :]\n",
    "total, num = np.zeros(len(temp_time)), np.zeros(len(temp_time))\n",
    "for i, channel in enumerate(temp_channels):\n",
    "    temp = track.raw_track[channel][\"Value\"][0, 0][0, :]\n",
    "    inds = np.where((temp > 20) & (temp < 75))\n",
    "    total[inds] += temp[inds]\n",
    "    num[inds] += 1\n",
    "avg_temp = total / num\n",
    "\n",
    "# for the sections where num is 0, we want to interpolate the temperature\n",
    "inds = np.where(num == 0)\n",
    "avg_temp[inds] = np.interp(temp_time[inds], temp_time[num != 0], avg_temp[num != 0])\n",
    "\n",
    "# now we want to smooth the temperature\n",
    "avg_temp = uniform_filter1d(avg_temp, size=200)\n",
    "\n",
    "temp_dist = np.interp(temp_time - track.start_time, track.raw_time, track.interp_dist)"
   ]
  },
  {
   "cell_type": "code",
   "execution_count": null,
   "metadata": {},
   "outputs": [],
   "source": [
    "# plot the voltage, current, power, and energy of the battery vs distance\n",
    "fig = make_subplots(rows=5)\n",
    "fig.add_trace(go.Scatter(x=track.u_crit, y=est_voltage, name=\"Estimated Voltage\"), row=1, col=1)\n",
    "fig.add_trace(go.Scatter(x=dc_dist, y=real_voltage, name=\"Real Voltage\"), row=1, col=1)\n",
    "fig.add_trace(go.Scatter(x=track.u_crit, y=est_current, name=\"Estimated Current\"), row=2, col=1)\n",
    "fig.add_trace(go.Scatter(x=dc_dist, y=real_current, name=\"Real Current\"), row=2, col=1)\n",
    "fig.add_trace(go.Scatter(x=track.u_crit, y=est_power_loss, name=\"Estimated Power Loss\"), row=3, col=1)\n",
    "fig.add_trace(go.Scatter(x=track.u_crit, y=sim.motor_power, name=\"Estimated Power Use\"), row=3, col=1)\n",
    "fig.add_trace(go.Scatter(x=dc_dist, y=dc_power, name=\"Real Power Use\"), row=3, col=1)\n",
    "fig.add_trace(go.Scatter(x=dc_dist, y=real_power_loss, name=\"Real Power Loss\"), row=3, col=1)\n",
    "\n",
    "fig.add_trace(go.Scatter(x=track.u_crit, y=energy_draw, name=\"Estimated Pack Heating\"), row=4, col=1)\n",
    "fig.add_trace(go.Scatter(x=track.u_crit, y=energy_use, name=\"Estimated Energy Use\"), row=4, col=1)\n",
    "fig.add_trace(go.Scatter(x=dc_dist, y=energy_dc, name=\"Real Energy Use\"), row=4, col=1)\n",
    "fig.add_trace(go.Scatter(x=dc_dist, y=energy_draw_dc, name=\"Real Energy Loss\"), row=4, col=1)\n",
    "\n",
    "fig.add_trace(go.Scatter(x=track.u_crit, y=temp_rise_sim + avg_temp[0], name=\"Sim Est Temp Rise\"), row=5, col=1)\n",
    "fig.add_trace(go.Scatter(x=dc_dist, y=temp_rise_dc + avg_temp[0], name=\"Data Est Temp Rise\"), row=5, col=1)\n",
    "fig.add_trace(go.Scatter(x=temp_dist, y=avg_temp, name=\"Real Temp\"), row=5, col=1)\n",
    "fig.update_xaxes(title_text=\"Distance (m)\", row=5, col=1)\n",
    "fig.update_yaxes(title_text=\"Voltage (V)\", row=1, col=1)\n",
    "fig.update_yaxes(title_text=\"Current (A)\", row=2, col=1)\n",
    "fig.update_yaxes(title_text=\"Power (W)\", row=3, col=1)\n",
    "fig.update_yaxes(title_text=\"Energy (J)\", row=4, col=1)\n",
    "fig.update_yaxes(title_text=\"Temperature (C)\", row=5, col=1)\n",
    "fig.update_layout(title=\"Battery Voltage, Current, Power, and Energy vs Distance\", legend_title=\"Legend\", height=1000)\n",
    "fig.show()"
   ]
  }
 ],
 "metadata": {
  "kernelspec": {
   "display_name": ".venv",
   "language": "python",
   "name": "python3"
  },
  "language_info": {
   "codemirror_mode": {
    "name": "ipython",
    "version": 3
   },
   "file_extension": ".py",
   "mimetype": "text/x-python",
   "name": "python",
   "nbconvert_exporter": "python",
   "pygments_lexer": "ipython3",
   "version": "3.11.9"
  }
 },
 "nbformat": 4,
 "nbformat_minor": 2
}
