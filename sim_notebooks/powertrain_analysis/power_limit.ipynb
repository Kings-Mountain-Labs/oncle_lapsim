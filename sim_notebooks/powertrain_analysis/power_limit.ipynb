{
 "cells": [
  {
   "cell_type": "code",
   "execution_count": null,
   "metadata": {},
   "outputs": [],
   "source": [
    "from sympy import symbols, simplify, expand, lambdify, Eq, solve, init_printing, sqrt\n",
    "import numpy as np\n",
    "import matplotlib.pyplot as plt\n",
    "init_printing(use_unicode=True)\n"
   ]
  },
  {
   "cell_type": "code",
   "execution_count": null,
   "metadata": {},
   "outputs": [],
   "source": [
    "# https://www.mathworks.com/help/mcb/ref/mtpacontrolreference.html\n"
   ]
  },
  {
   "cell_type": "code",
   "execution_count": null,
   "metadata": {},
   "outputs": [],
   "source": [
    "R, w, L_q, L_d, F_l, p = symbols('R w L_q L_d F_l p', real=True, constants=True)\n",
    "I, T_eq = symbols('I T_eq')\n",
    "i_dmtpa = (F_l - sqrt(F_l**2 + 8*(L_q - L_d)**2*I**2))/(4*(L_q - L_d))\n",
    "i_qmtpa = sqrt(i_dmtpa**2 - (F_l/(L_q - L_d))*i_dmtpa)\n",
    "t = 3/2 * p * i_qmtpa * (F_l - ((L_q - L_d) * i_dmtpa))\n",
    "# simplify(expand(t))\n",
    "# equation = Eq(simplify(expand(t))-T_eq, 0)\n",
    "equation = Eq(t-T_eq, 0)\n",
    "# solve(equation, I)\n",
    "equation\n",
    "# i_qmtpa"
   ]
  },
  {
   "cell_type": "code",
   "execution_count": null,
   "metadata": {},
   "outputs": [],
   "source": [
    "Iq, Id, U_ac, R, w, L_q, L_d, F_l = symbols('I_q I_d U_ac R w L_q L_d F_l')\n",
    "V_d = R * Id - w * L_d * Iq\n",
    "V_q = R * Iq + w * (L_q * Id + F_l)\n",
    "expr = (V_d**2 + V_q**2)\n",
    "simplify(expand(expr))\n",
    "equation = Eq(simplify(expand(expr))-U_ac**2, 0)\n",
    "solve(equation, Iq)\n",
    "# print(\"expand_expr: \", expand_expr)\n",
    "# V_d"
   ]
  },
  {
   "cell_type": "code",
   "execution_count": null,
   "metadata": {},
   "outputs": [],
   "source": [
    "\n",
    "# Define the symbols\n",
    "Iq, Id, U_ac, R, w, L_q, L_d, F_l = symbols('Iq Id U_ac R w L_q L_d F_l')\n",
    "\n",
    "# Define the constants and expressions as per your equation\n",
    "A = 80000**2 / U_ac**2\n",
    "B = w**2 * L_d**2\n",
    "C = w**2 * F_l**2\n",
    "D = 2 * w * F_l * R\n",
    "E = -2 * w**2 * F_l * L_d\n",
    "\n",
    "# Define the original equation\n",
    "expr = (A * (R**2 + B) + D * Iq + C - U_ac**2) / E\n",
    "\n",
    "# Square the expression and simplify it\n",
    "squared_expr = simplify(expand(expr**2))\n",
    "\n",
    "# Define the full equation for Iq**2\n",
    "Iq_expr = -squared_expr + A\n",
    "\n",
    "# Rearrange the equation so it's set to zero\n",
    "equation = Eq(Iq_expr - Iq**2, 0)  # This represents Iq_expr - Iq**2 = 0\n",
    "\n",
    "# Solve the equation for Iq\n",
    "solutions = solve(equation, Iq)\n",
    "\n",
    "Iq_func1 = lambdify((U_ac, R, w, L_d, F_l), solutions[0], modules=\"numpy\")\n",
    "Iq_func2 = lambdify((U_ac, R, w, L_d, F_l), solutions[1], modules=\"numpy\")\n",
    "\n",
    "# Define arrays of values for your parameters\n",
    "u_dc_start = 200\n",
    "u_dc_end = 408\n",
    "num_points = 100\n",
    "U_ac_values = np.linspace(u_dc_start/np.sqrt(2), u_dc_end/np.sqrt(2), num_points)  # replace with your range\n",
    "# ... do this for all your parameters except Iq\n",
    "Ld = 0.000076\n",
    "Lq = 0.000079\n",
    "Rs = 0.0071\n",
    "flux = 0.0355\n",
    "poles = 10.0\n",
    "speed = 3500.0\n",
    "w = poles * speed * 2 * np.pi / 60\n",
    "\n",
    "# Keep other parameters constant\n",
    "R_value = Rs\n",
    "w_value = w\n",
    "L_d_value = Ld\n",
    "F_l_value = flux\n",
    "\n",
    "# Calculate Iq values\n",
    "Iq_values1 = Iq_func1(U_ac_values, R_value, w_value, L_d_value, F_l_value)\n",
    "Iq_values2 = Iq_func2(U_ac_values, R_value, w_value, L_d_value, F_l_value)  # if there's a second solution\n",
    "\n",
    "# Create the plot\n",
    "plt.figure()\n",
    "plt.plot(U_ac_values, Iq_values1, label='Solution 1')\n",
    "plt.plot(U_ac_values, Iq_values2, label='Solution 2')  # if there's a second solution\n",
    "plt.plot(U_ac_values, 80000/U_ac_values, 'k--')\n",
    "plt.xlabel('U_ac')\n",
    "plt.ylabel('Iq')\n",
    "plt.title('Iq vs U_ac')\n",
    "plt.legend()\n",
    "plt.show()"
   ]
  }
 ],
 "metadata": {
  "kernelspec": {
   "display_name": ".venv",
   "language": "python",
   "name": "python3"
  },
  "language_info": {
   "codemirror_mode": {
    "name": "ipython",
    "version": 3
   },
   "file_extension": ".py",
   "mimetype": "text/x-python",
   "name": "python",
   "nbconvert_exporter": "python",
   "pygments_lexer": "ipython3",
   "version": "3.11.9"
  }
 },
 "nbformat": 4,
 "nbformat_minor": 2
}
